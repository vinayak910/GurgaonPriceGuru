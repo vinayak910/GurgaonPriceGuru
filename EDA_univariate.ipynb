{
 "cells": [
  {
   "cell_type": "code",
   "execution_count": 2,
   "id": "c554a332-c284-47aa-b221-1e04e07a1030",
   "metadata": {},
   "outputs": [],
   "source": [
    "import numpy as np\n",
    "import pandas as pd\n",
    "import matplotlib.pyplot as plt\n",
    "import seaborn as sns\n",
    "%matplotlib inline"
   ]
  },
  {
   "cell_type": "code",
   "execution_count": 3,
   "id": "a36ea6e5-a373-4c14-a2a5-19d873c2a0d6",
   "metadata": {},
   "outputs": [],
   "source": [
    "plt.rcParams[\"figure.figsize\"] = (5, 4)"
   ]
  },
  {
   "cell_type": "code",
   "execution_count": 4,
   "id": "3ebb9aa6-d874-4a19-bfe4-9c61376bdaec",
   "metadata": {},
   "outputs": [],
   "source": [
    "df = pd.read_csv('gurgaon_properties_cleaned_v2.csv')"
   ]
  },
  {
   "cell_type": "code",
   "execution_count": 5,
   "id": "83ea8793-9486-4776-8daf-a05db669b6ed",
   "metadata": {},
   "outputs": [
    {
     "data": {
      "text/html": [
       "<div>\n",
       "<style scoped>\n",
       "    .dataframe tbody tr th:only-of-type {\n",
       "        vertical-align: middle;\n",
       "    }\n",
       "\n",
       "    .dataframe tbody tr th {\n",
       "        vertical-align: top;\n",
       "    }\n",
       "\n",
       "    .dataframe thead th {\n",
       "        text-align: right;\n",
       "    }\n",
       "</style>\n",
       "<table border=\"1\" class=\"dataframe\">\n",
       "  <thead>\n",
       "    <tr style=\"text-align: right;\">\n",
       "      <th></th>\n",
       "      <th>property_type</th>\n",
       "      <th>society</th>\n",
       "      <th>sector</th>\n",
       "      <th>price</th>\n",
       "      <th>price_per_sqft</th>\n",
       "      <th>area</th>\n",
       "      <th>areaWithType</th>\n",
       "      <th>bedRoom</th>\n",
       "      <th>bathroom</th>\n",
       "      <th>balcony</th>\n",
       "      <th>...</th>\n",
       "      <th>super_built_up_area</th>\n",
       "      <th>built_up_area</th>\n",
       "      <th>carpet_area</th>\n",
       "      <th>study room</th>\n",
       "      <th>servant room</th>\n",
       "      <th>store room</th>\n",
       "      <th>pooja room</th>\n",
       "      <th>others</th>\n",
       "      <th>furnishing_type</th>\n",
       "      <th>luxury_score</th>\n",
       "    </tr>\n",
       "  </thead>\n",
       "  <tbody>\n",
       "    <tr>\n",
       "      <th>0</th>\n",
       "      <td>flat</td>\n",
       "      <td>signature global park 4</td>\n",
       "      <td>sector 36</td>\n",
       "      <td>0.82</td>\n",
       "      <td>7585.0</td>\n",
       "      <td>1081.0</td>\n",
       "      <td>super built up area 1081(100.43 sq.m.)carpet a...</td>\n",
       "      <td>3</td>\n",
       "      <td>2</td>\n",
       "      <td>2</td>\n",
       "      <td>...</td>\n",
       "      <td>1081.0</td>\n",
       "      <td>NaN</td>\n",
       "      <td>650.0</td>\n",
       "      <td>0</td>\n",
       "      <td>0</td>\n",
       "      <td>0</td>\n",
       "      <td>0</td>\n",
       "      <td>0</td>\n",
       "      <td>0</td>\n",
       "      <td>8</td>\n",
       "    </tr>\n",
       "    <tr>\n",
       "      <th>1</th>\n",
       "      <td>flat</td>\n",
       "      <td>smart world gems</td>\n",
       "      <td>sector 89</td>\n",
       "      <td>0.95</td>\n",
       "      <td>8600.0</td>\n",
       "      <td>1105.0</td>\n",
       "      <td>carpet area: 1103 (102.47 sq.m.)</td>\n",
       "      <td>2</td>\n",
       "      <td>2</td>\n",
       "      <td>2</td>\n",
       "      <td>...</td>\n",
       "      <td>NaN</td>\n",
       "      <td>NaN</td>\n",
       "      <td>1103.0</td>\n",
       "      <td>1</td>\n",
       "      <td>1</td>\n",
       "      <td>0</td>\n",
       "      <td>0</td>\n",
       "      <td>0</td>\n",
       "      <td>0</td>\n",
       "      <td>38</td>\n",
       "    </tr>\n",
       "    <tr>\n",
       "      <th>2</th>\n",
       "      <td>flat</td>\n",
       "      <td>pyramid elite</td>\n",
       "      <td>sector 86</td>\n",
       "      <td>0.46</td>\n",
       "      <td>79.0</td>\n",
       "      <td>58228.0</td>\n",
       "      <td>carpet area: 58141 (5401.48 sq.m.)</td>\n",
       "      <td>2</td>\n",
       "      <td>2</td>\n",
       "      <td>1</td>\n",
       "      <td>...</td>\n",
       "      <td>NaN</td>\n",
       "      <td>NaN</td>\n",
       "      <td>58141.0</td>\n",
       "      <td>0</td>\n",
       "      <td>0</td>\n",
       "      <td>0</td>\n",
       "      <td>0</td>\n",
       "      <td>0</td>\n",
       "      <td>0</td>\n",
       "      <td>15</td>\n",
       "    </tr>\n",
       "    <tr>\n",
       "      <th>3</th>\n",
       "      <td>flat</td>\n",
       "      <td>breez global hill view</td>\n",
       "      <td>sohna road</td>\n",
       "      <td>0.32</td>\n",
       "      <td>5470.0</td>\n",
       "      <td>585.0</td>\n",
       "      <td>built up area: 1000 (92.9 sq.m.)carpet area: 5...</td>\n",
       "      <td>2</td>\n",
       "      <td>2</td>\n",
       "      <td>1</td>\n",
       "      <td>...</td>\n",
       "      <td>NaN</td>\n",
       "      <td>1000.0</td>\n",
       "      <td>585.0</td>\n",
       "      <td>0</td>\n",
       "      <td>0</td>\n",
       "      <td>0</td>\n",
       "      <td>0</td>\n",
       "      <td>0</td>\n",
       "      <td>0</td>\n",
       "      <td>49</td>\n",
       "    </tr>\n",
       "    <tr>\n",
       "      <th>4</th>\n",
       "      <td>flat</td>\n",
       "      <td>bestech park view sanskruti</td>\n",
       "      <td>sector 92</td>\n",
       "      <td>1.60</td>\n",
       "      <td>8020.0</td>\n",
       "      <td>1995.0</td>\n",
       "      <td>super built up area 1995(185.34 sq.m.)built up...</td>\n",
       "      <td>3</td>\n",
       "      <td>4</td>\n",
       "      <td>3+</td>\n",
       "      <td>...</td>\n",
       "      <td>1995.0</td>\n",
       "      <td>1615.0</td>\n",
       "      <td>1476.0</td>\n",
       "      <td>0</td>\n",
       "      <td>1</td>\n",
       "      <td>0</td>\n",
       "      <td>0</td>\n",
       "      <td>1</td>\n",
       "      <td>1</td>\n",
       "      <td>174</td>\n",
       "    </tr>\n",
       "  </tbody>\n",
       "</table>\n",
       "<p>5 rows × 23 columns</p>\n",
       "</div>"
      ],
      "text/plain": [
       "  property_type                      society      sector  price  \\\n",
       "0          flat      signature global park 4   sector 36   0.82   \n",
       "1          flat             smart world gems   sector 89   0.95   \n",
       "2          flat                pyramid elite   sector 86   0.46   \n",
       "3          flat       breez global hill view  sohna road   0.32   \n",
       "4          flat  bestech park view sanskruti   sector 92   1.60   \n",
       "\n",
       "   price_per_sqft     area                                       areaWithType  \\\n",
       "0          7585.0   1081.0  super built up area 1081(100.43 sq.m.)carpet a...   \n",
       "1          8600.0   1105.0                   carpet area: 1103 (102.47 sq.m.)   \n",
       "2            79.0  58228.0                 carpet area: 58141 (5401.48 sq.m.)   \n",
       "3          5470.0    585.0  built up area: 1000 (92.9 sq.m.)carpet area: 5...   \n",
       "4          8020.0   1995.0  super built up area 1995(185.34 sq.m.)built up...   \n",
       "\n",
       "   bedRoom  bathroom balcony  ...  super_built_up_area built_up_area  \\\n",
       "0        3         2       2  ...               1081.0           NaN   \n",
       "1        2         2       2  ...                  NaN           NaN   \n",
       "2        2         2       1  ...                  NaN           NaN   \n",
       "3        2         2       1  ...                  NaN        1000.0   \n",
       "4        3         4      3+  ...               1995.0        1615.0   \n",
       "\n",
       "  carpet_area  study room  servant room  store room  pooja room  others  \\\n",
       "0       650.0           0             0           0           0       0   \n",
       "1      1103.0           1             1           0           0       0   \n",
       "2     58141.0           0             0           0           0       0   \n",
       "3       585.0           0             0           0           0       0   \n",
       "4      1476.0           0             1           0           0       1   \n",
       "\n",
       "   furnishing_type  luxury_score  \n",
       "0                0             8  \n",
       "1                0            38  \n",
       "2                0            15  \n",
       "3                0            49  \n",
       "4                1           174  \n",
       "\n",
       "[5 rows x 23 columns]"
      ]
     },
     "execution_count": 5,
     "metadata": {},
     "output_type": "execute_result"
    }
   ],
   "source": [
    "df.head()"
   ]
  },
  {
   "cell_type": "code",
   "execution_count": 6,
   "id": "1de5a83b-5ce2-43d7-9c46-4737f8b6e6d0",
   "metadata": {},
   "outputs": [
    {
     "data": {
      "text/plain": [
       "(3803, 23)"
      ]
     },
     "execution_count": 6,
     "metadata": {},
     "output_type": "execute_result"
    }
   ],
   "source": [
    "df.shape"
   ]
  },
  {
   "cell_type": "code",
   "execution_count": 7,
   "id": "fd57a28d-5edc-4ca2-aa53-147b88b4cb7d",
   "metadata": {},
   "outputs": [
    {
     "name": "stdout",
     "output_type": "stream",
     "text": [
      "<class 'pandas.core.frame.DataFrame'>\n",
      "RangeIndex: 3803 entries, 0 to 3802\n",
      "Data columns (total 23 columns):\n",
      " #   Column               Non-Null Count  Dtype  \n",
      "---  ------               --------------  -----  \n",
      " 0   property_type        3803 non-null   object \n",
      " 1   society              3802 non-null   object \n",
      " 2   sector               3803 non-null   object \n",
      " 3   price                3785 non-null   float64\n",
      " 4   price_per_sqft       3785 non-null   float64\n",
      " 5   area                 3785 non-null   float64\n",
      " 6   areaWithType         3803 non-null   object \n",
      " 7   bedRoom              3803 non-null   int64  \n",
      " 8   bathroom             3803 non-null   int64  \n",
      " 9   balcony              3803 non-null   object \n",
      " 10  floorNum             3784 non-null   float64\n",
      " 11  facing               2698 non-null   object \n",
      " 12  agePossession        3803 non-null   object \n",
      " 13  super_built_up_area  1915 non-null   float64\n",
      " 14  built_up_area        1733 non-null   float64\n",
      " 15  carpet_area          1944 non-null   float64\n",
      " 16  study room           3803 non-null   int64  \n",
      " 17  servant room         3803 non-null   int64  \n",
      " 18  store room           3803 non-null   int64  \n",
      " 19  pooja room           3803 non-null   int64  \n",
      " 20  others               3803 non-null   int64  \n",
      " 21  furnishing_type      3803 non-null   int64  \n",
      " 22  luxury_score         3803 non-null   int64  \n",
      "dtypes: float64(7), int64(9), object(7)\n",
      "memory usage: 683.5+ KB\n"
     ]
    }
   ],
   "source": [
    "df.info()"
   ]
  },
  {
   "cell_type": "code",
   "execution_count": 8,
   "id": "7187c35d-bc9f-45ad-b34c-16fa52997781",
   "metadata": {},
   "outputs": [
    {
     "data": {
      "text/plain": [
       "126"
      ]
     },
     "execution_count": 8,
     "metadata": {},
     "output_type": "execute_result"
    }
   ],
   "source": [
    "df.duplicated().sum()"
   ]
  },
  {
   "cell_type": "code",
   "execution_count": 9,
   "id": "808d18f4-3461-4376-bc74-d5ffb2091572",
   "metadata": {},
   "outputs": [],
   "source": [
    "df.drop_duplicates(inplace = True)"
   ]
  },
  {
   "cell_type": "code",
   "execution_count": 10,
   "id": "18253e10-e1b3-4412-a01e-9c80fc8d159d",
   "metadata": {},
   "outputs": [
    {
     "data": {
      "text/plain": [
       "property_type\n",
       "flat     0.766386\n",
       "house    0.233614\n",
       "Name: count, dtype: float64"
      ]
     },
     "execution_count": 10,
     "metadata": {},
     "output_type": "execute_result"
    }
   ],
   "source": [
    "# property type\n",
    "df.property_type.value_counts()/len(df)"
   ]
  },
  {
   "cell_type": "code",
   "execution_count": 11,
   "id": "8874bebb-1932-4035-b700-d8c24434ec03",
   "metadata": {},
   "outputs": [
    {
     "data": {
      "text/plain": [
       "<Axes: xlabel='property_type'>"
      ]
     },
     "execution_count": 11,
     "metadata": {},
     "output_type": "execute_result"
    },
    {
     "data": {
      "image/png": "[encoded data removed]",
      "text/plain": [
       "<Figure size 500x400 with 1 Axes>"
      ]
     },
     "metadata": {},
     "output_type": "display_data"
    }
   ],
   "source": [
    "df.property_type.value_counts().plot(kind = 'bar')"
   ]
  },
  {
   "cell_type": "code",
   "execution_count": 12,
   "id": "fb76ce25-afa4-4505-8169-55095bbfd452",
   "metadata": {},
   "outputs": [
    {
     "data": {
      "text/plain": [
       "society\n",
       "independent                               0.132173\n",
       "tulip violet                              0.020397\n",
       "ss the leaf                               0.019853\n",
       "dlf new town heights                      0.011422\n",
       "shapoorji pallonji joyville gurugram      0.011422\n",
       "                                            ...   \n",
       "dlf gardencity enclave                    0.000272\n",
       "nitin vihar                               0.000272\n",
       "landmark the residency                    0.000272\n",
       "kw royal court                            0.000272\n",
       "surendra homes dayaindependentd colony    0.000272\n",
       "Name: count, Length: 676, dtype: float64"
      ]
     },
     "execution_count": 12,
     "metadata": {},
     "output_type": "execute_result"
    }
   ],
   "source": [
    "# societies\n",
    "df.society.value_counts()/len(df)"
   ]
  },
  {
   "cell_type": "code",
   "execution_count": 13,
   "id": "91807f17-183e-47c0-b5c8-91ab898edbaf",
   "metadata": {},
   "outputs": [
    {
     "data": {
      "text/plain": [
       "society\n",
       "tulip violet                            0.023511\n",
       "ss the leaf                             0.046395\n",
       "shapoorji pallonji joyville gurugram    0.059561\n",
       "dlf new town heights                    0.072727\n",
       "signature global park                   0.083699\n",
       "                                          ...   \n",
       "ramsons kshitij                         0.490282\n",
       "umang monsoon breeze                    0.494357\n",
       "ats kocoon                              0.498433\n",
       "ireo the corridors                      0.502194\n",
       "central park flower valley              0.505956\n",
       "Name: proportion, Length: 75, dtype: float64"
      ]
     },
     "execution_count": 13,
     "metadata": {},
     "output_type": "execute_result"
    }
   ],
   "source": [
    "df[df['society']!= 'independent']['society'].value_counts(normalize = True).cumsum().head(75)"
   ]
  },
  {
   "cell_type": "code",
   "execution_count": 14,
   "id": "68266327-61a0-4bc0-8541-5f7e5c7cea6a",
   "metadata": {},
   "outputs": [
    {
     "data": {
      "text/plain": [
       "675"
      ]
     },
     "execution_count": 14,
     "metadata": {},
     "output_type": "execute_result"
    }
   ],
   "source": [
    "df.society.value_counts().shape[0] - 1"
   ]
  },
  {
   "cell_type": "markdown",
   "id": "2824f1b3-aa2e-4802-a262-b975671a8268",
   "metadata": {},
   "source": [
    "out of 675 societies , 50 percent of total data data comes from only 75 societies "
   ]
  },
  {
   "cell_type": "code",
   "execution_count": 15,
   "id": "968767c5-cb73-4a5d-81ca-2358aa6c521e",
   "metadata": {},
   "outputs": [],
   "source": [
    "s_counts = df.society.value_counts()"
   ]
  },
  {
   "cell_type": "code",
   "execution_count": 16,
   "id": "7361378a-e277-4476-8763-7b826bc1494d",
   "metadata": {},
   "outputs": [],
   "source": [
    "frequency_bins = {\n",
    "    'very high(>100)':(s_counts>100).sum(),\n",
    "    'high(50-100)': ((s_counts>=50) & (s_counts<=100)).sum(),\n",
    "    'average(10-49)':((s_counts>=10) & (s_counts<=49)).sum(),\n",
    "    'low(2-9)':((s_counts>=2 ) & (s_counts<=9)).sum(),\n",
    "    'very low(1)':(s_counts==1).sum()\n",
    "}"
   ]
  },
  {
   "cell_type": "code",
   "execution_count": 17,
   "id": "cc00acbe-c370-48b1-8b79-3a1bf3ab4494",
   "metadata": {},
   "outputs": [
    {
     "data": {
      "text/plain": [
       "{'very high(>100)': 1,\n",
       " 'high(50-100)': 2,\n",
       " 'average(10-49)': 92,\n",
       " 'low(2-9)': 273,\n",
       " 'very low(1)': 308}"
      ]
     },
     "execution_count": 17,
     "metadata": {},
     "output_type": "execute_result"
    }
   ],
   "source": [
    "frequency_bins"
   ]
  },
  {
   "cell_type": "code",
   "execution_count": 18,
   "id": "913c0d26-5e92-4590-aaf2-9cf3ef6ed1cb",
   "metadata": {},
   "outputs": [
    {
     "data": {
      "text/plain": [
       "<Axes: xlabel='society'>"
      ]
     },
     "execution_count": 18,
     "metadata": {},
     "output_type": "execute_result"
    },
    {
     "data": {
      "image/png": "[encoded data removed]",
      "text/plain": [
       "<Figure size 500x400 with 1 Axes>"
      ]
     },
     "metadata": {},
     "output_type": "display_data"
    }
   ],
   "source": [
    "df[df['society']!= 'independent']['society'].value_counts().head(10).plot(kind = 'bar')"
   ]
  },
  {
   "cell_type": "code",
   "execution_count": 19,
   "id": "8c6a23d6-d599-4c7b-9d36-7e0596fa498b",
   "metadata": {},
   "outputs": [
    {
     "data": {
      "text/html": [
       "<div>\n",
       "<style scoped>\n",
       "    .dataframe tbody tr th:only-of-type {\n",
       "        vertical-align: middle;\n",
       "    }\n",
       "\n",
       "    .dataframe tbody tr th {\n",
       "        vertical-align: top;\n",
       "    }\n",
       "\n",
       "    .dataframe thead th {\n",
       "        text-align: right;\n",
       "    }\n",
       "</style>\n",
       "<table border=\"1\" class=\"dataframe\">\n",
       "  <thead>\n",
       "    <tr style=\"text-align: right;\">\n",
       "      <th></th>\n",
       "      <th>property_type</th>\n",
       "      <th>society</th>\n",
       "      <th>sector</th>\n",
       "      <th>price</th>\n",
       "      <th>price_per_sqft</th>\n",
       "      <th>area</th>\n",
       "      <th>areaWithType</th>\n",
       "      <th>bedRoom</th>\n",
       "      <th>bathroom</th>\n",
       "      <th>balcony</th>\n",
       "      <th>...</th>\n",
       "      <th>super_built_up_area</th>\n",
       "      <th>built_up_area</th>\n",
       "      <th>carpet_area</th>\n",
       "      <th>study room</th>\n",
       "      <th>servant room</th>\n",
       "      <th>store room</th>\n",
       "      <th>pooja room</th>\n",
       "      <th>others</th>\n",
       "      <th>furnishing_type</th>\n",
       "      <th>luxury_score</th>\n",
       "    </tr>\n",
       "  </thead>\n",
       "  <tbody>\n",
       "    <tr>\n",
       "      <th>2693</th>\n",
       "      <td>flat</td>\n",
       "      <td>NaN</td>\n",
       "      <td>sector 78</td>\n",
       "      <td>0.6</td>\n",
       "      <td>3692.0</td>\n",
       "      <td>1625.0</td>\n",
       "      <td>built up area: 1625 (150.97 sq.m.)</td>\n",
       "      <td>2</td>\n",
       "      <td>2</td>\n",
       "      <td>0</td>\n",
       "      <td>...</td>\n",
       "      <td>NaN</td>\n",
       "      <td>1625.0</td>\n",
       "      <td>NaN</td>\n",
       "      <td>0</td>\n",
       "      <td>0</td>\n",
       "      <td>0</td>\n",
       "      <td>0</td>\n",
       "      <td>0</td>\n",
       "      <td>0</td>\n",
       "      <td>0</td>\n",
       "    </tr>\n",
       "  </tbody>\n",
       "</table>\n",
       "<p>1 rows × 23 columns</p>\n",
       "</div>"
      ],
      "text/plain": [
       "     property_type society     sector  price  price_per_sqft    area  \\\n",
       "2693          flat     NaN  sector 78    0.6          3692.0  1625.0   \n",
       "\n",
       "                            areaWithType  bedRoom  bathroom balcony  ...  \\\n",
       "2693  built up area: 1625 (150.97 sq.m.)        2         2       0  ...   \n",
       "\n",
       "      super_built_up_area built_up_area carpet_area  study room  servant room  \\\n",
       "2693                  NaN        1625.0         NaN           0             0   \n",
       "\n",
       "      store room  pooja room  others  furnishing_type  luxury_score  \n",
       "2693           0           0       0                0             0  \n",
       "\n",
       "[1 rows x 23 columns]"
      ]
     },
     "execution_count": 19,
     "metadata": {},
     "output_type": "execute_result"
    }
   ],
   "source": [
    "df[df['society'].isnull()]"
   ]
  },
  {
   "cell_type": "code",
   "execution_count": 20,
   "id": "33eee68b-1708-4991-bbee-76a76d77ba09",
   "metadata": {},
   "outputs": [
    {
     "data": {
      "text/plain": [
       "0        0.82\n",
       "1        0.95\n",
       "2        0.46\n",
       "3        0.32\n",
       "4        1.60\n",
       "        ...  \n",
       "3798     0.37\n",
       "3799     6.00\n",
       "3800     0.60\n",
       "3801    15.50\n",
       "3802     1.78\n",
       "Name: price, Length: 3677, dtype: float64"
      ]
     },
     "execution_count": 20,
     "metadata": {},
     "output_type": "execute_result"
    }
   ],
   "source": [
    "df['price']"
   ]
  },
  {
   "cell_type": "code",
   "execution_count": 21,
   "id": "994327b8-b0ef-47be-a631-7dd043452888",
   "metadata": {},
   "outputs": [
    {
     "data": {
      "text/plain": [
       "count    3660.000000\n",
       "mean        2.533664\n",
       "std         2.980623\n",
       "min         0.070000\n",
       "25%         0.950000\n",
       "50%         1.520000\n",
       "75%         2.750000\n",
       "max        31.500000\n",
       "Name: price, dtype: float64"
      ]
     },
     "execution_count": 21,
     "metadata": {},
     "output_type": "execute_result"
    }
   ],
   "source": [
    "df.price.describe()"
   ]
  },
  {
   "cell_type": "code",
   "execution_count": 22,
   "id": "cc4726d1-4f2a-454c-bdcb-bc2bca4d9910",
   "metadata": {},
   "outputs": [
    {
     "name": "stderr",
     "output_type": "stream",
     "text": [
      "C:\\Users\\vinay\\anaconda3\\Lib\\site-packages\\seaborn\\_oldcore.py:1119: FutureWarning: use_inf_as_na option is deprecated and will be removed in a future version. Convert inf values to NaN before operating instead.\n",
      "  with pd.option_context('mode.use_inf_as_na', True):\n"
     ]
    },
    {
     "data": {
      "text/plain": [
       "<Axes: xlabel='price', ylabel='Count'>"
      ]
     },
     "execution_count": 22,
     "metadata": {},
     "output_type": "execute_result"
    },
    {
     "data": {
      "image/png": "[encoded data removed]",
      "text/plain": [
       "<Figure size 500x400 with 1 Axes>"
      ]
     },
     "metadata": {},
     "output_type": "display_data"
    }
   ],
   "source": [
    "sns.histplot(x = 'price', kde = True , bins = 50,data = df)"
   ]
  },
  {
   "cell_type": "code",
   "execution_count": 23,
   "id": "ea99269f-fe20-47a7-8af4-7780c7eba644",
   "metadata": {},
   "outputs": [
    {
     "data": {
      "text/plain": [
       "<Axes: xlabel='price'>"
      ]
     },
     "execution_count": 23,
     "metadata": {},
     "output_type": "execute_result"
    },
    {
     "data": {
      "image/png": "[encoded data removed]",
      "text/plain": [
       "<Figure size 500x400 with 1 Axes>"
      ]
     },
     "metadata": {},
     "output_type": "display_data"
    }
   ],
   "source": [
    "sns.boxplot(x = df.price,color = 'lightgreen')"
   ]
  },
  {
   "cell_type": "code",
   "execution_count": 24,
   "id": "56535229-724a-4b55-a449-b73a062ddc42",
   "metadata": {},
   "outputs": [
    {
     "name": "stdout",
     "output_type": "stream",
     "text": [
      "1.8\n"
     ]
    }
   ],
   "source": [
    "Q1 = df.price.quantile(0.25)\n",
    "Q3 = df.price.quantile(0.75)\n",
    "\n",
    "# Calculate IQR for each column\n",
    "IQR = Q3 - Q1\n",
    "print(IQR)"
   ]
  },
  {
   "cell_type": "code",
   "execution_count": 25,
   "id": "2d57fb89-aa95-41bf-b1a5-3f6e74a879cb",
   "metadata": {},
   "outputs": [
    {
     "name": "stdout",
     "output_type": "stream",
     "text": [
      "3.2791704733134623 14.933372629214258\n"
     ]
    }
   ],
   "source": [
    "skewness = df['price'].skew()\n",
    "kurtosis = df['price'].kurt()\n",
    "\n",
    "print(skewness,kurtosis)"
   ]
  },
  {
   "cell_type": "code",
   "execution_count": 26,
   "id": "ec1d81fc-d566-4c20-a406-72bfa5df447b",
   "metadata": {},
   "outputs": [
    {
     "data": {
      "text/plain": [
       "0.01     0.250\n",
       "0.05     0.370\n",
       "0.95     8.500\n",
       "0.99    15.264\n",
       "Name: price, dtype: float64"
      ]
     },
     "execution_count": 26,
     "metadata": {},
     "output_type": "execute_result"
    }
   ],
   "source": [
    "quantiles = df['price'].quantile([0.01, 0.05, 0.95, 0.99])\n",
    "\n",
    "quantiles"
   ]
  },
  {
   "cell_type": "code",
   "execution_count": 27,
   "id": "ec641b1f-8386-4247-b955-bfead6212606",
   "metadata": {},
   "outputs": [
    {
     "data": {
      "text/plain": [
       "1.8"
      ]
     },
     "execution_count": 27,
     "metadata": {},
     "output_type": "execute_result"
    }
   ],
   "source": [
    "Q1 = df['price'].describe()['25%']\n",
    "Q3 = df['price'].describe()['75%']\n",
    "IQR = Q3 - Q1\n",
    "\n",
    "IQR"
   ]
  },
  {
   "cell_type": "code",
   "execution_count": 28,
   "id": "f8ec05a0-c97b-4671-b7d0-03ea9a34554c",
   "metadata": {},
   "outputs": [
    {
     "name": "stdout",
     "output_type": "stream",
     "text": [
      "-1.7500000000000002 5.45\n"
     ]
    }
   ],
   "source": [
    "lower_bound = Q1 - 1.5 * IQR\n",
    "upper_bound = Q3 + 1.5 * IQR\n",
    "print(lower_bound, upper_bound)"
   ]
  },
  {
   "cell_type": "code",
   "execution_count": 29,
   "id": "c2d9f0f4-e0c1-4281-9116-1ecd504ea3bc",
   "metadata": {},
   "outputs": [
    {
     "data": {
      "text/plain": [
       "(425, 23)"
      ]
     },
     "execution_count": 29,
     "metadata": {},
     "output_type": "execute_result"
    }
   ],
   "source": [
    "outliers = df[(df['price'] < lower_bound) | (df['price'] > upper_bound)]\n",
    "outliers.shape"
   ]
  },
  {
   "cell_type": "code",
   "execution_count": 30,
   "id": "45acb721-bb7b-439b-9732-071613a3a564",
   "metadata": {},
   "outputs": [
    {
     "data": {
      "text/plain": [
       "count    425.000000\n",
       "mean       9.235624\n",
       "std        4.065259\n",
       "min        5.460000\n",
       "25%        6.460000\n",
       "50%        8.000000\n",
       "75%       10.750000\n",
       "max       31.500000\n",
       "Name: price, dtype: float64"
      ]
     },
     "execution_count": 30,
     "metadata": {},
     "output_type": "execute_result"
    }
   ],
   "source": [
    "outliers['price'].describe()"
   ]
  },
  {
   "cell_type": "code",
   "execution_count": 31,
   "id": "0cebbdaa-9140-4149-b342-147ee7903323",
   "metadata": {},
   "outputs": [
    {
     "data": {
      "text/plain": [
       "0         0-1\n",
       "1         0-1\n",
       "2         0-1\n",
       "3         0-1\n",
       "4         1-2\n",
       "        ...  \n",
       "3798      0-1\n",
       "3799     5-10\n",
       "3800      0-1\n",
       "3801    10-20\n",
       "3802      1-2\n",
       "Name: price, Length: 3677, dtype: category\n",
       "Categories (7, object): ['0-1' < '1-2' < '2-3' < '3-5' < '5-10' < '10-20' < '20-50']"
      ]
     },
     "execution_count": 31,
     "metadata": {},
     "output_type": "execute_result"
    }
   ],
   "source": [
    "bins = [0, 1, 2, 3, 5, 10, 20, 50]\n",
    "bin_labels = [\"0-1\", \"1-2\", \"2-3\", \"3-5\", \"5-10\", \"10-20\", \"20-50\"] \n",
    "pd.cut(df['price'], bins=bins, labels=bin_labels, right=False)"
   ]
  },
  {
   "cell_type": "code",
   "execution_count": 32,
   "id": "0b820834-bef5-4a61-a5ff-37460c0b2dfb",
   "metadata": {
    "scrolled": true
   },
   "outputs": [
    {
     "data": {
      "text/plain": [
       "price\n",
       "1-2      1315\n",
       "0-1      1002\n",
       "2-3       504\n",
       "3-5       368\n",
       "5-10      342\n",
       "10-20     118\n",
       "20-50      11\n",
       "Name: count, dtype: int64"
      ]
     },
     "execution_count": 32,
     "metadata": {},
     "output_type": "execute_result"
    }
   ],
   "source": [
    "pd.cut(df['price'], bins=bins, labels=bin_labels, right=False).value_counts()"
   ]
  },
  {
   "cell_type": "code",
   "execution_count": 33,
   "id": "6ebe988e-5ab4-4260-b117-f61b6ba84a31",
   "metadata": {},
   "outputs": [
    {
     "data": {
      "text/plain": [
       "<Axes: xlabel='price'>"
      ]
     },
     "execution_count": 33,
     "metadata": {},
     "output_type": "execute_result"
    },
    {
     "data": {
      "image/png": "[encoded data removed]",
      "text/plain": [
       "<Figure size 500x400 with 1 Axes>"
      ]
     },
     "metadata": {},
     "output_type": "display_data"
    }
   ],
   "source": [
    "pd.cut(df['price'], bins=bins,labels=bin_labels,  right=False).value_counts().sort_index().plot(kind = 'bar')"
   ]
  },
  {
   "cell_type": "code",
   "execution_count": 34,
   "id": "2663a203-91b0-438a-81a3-b0b770b8d136",
   "metadata": {},
   "outputs": [
    {
     "data": {
      "text/plain": [
       "price\n",
       "0.07     0.000273\n",
       "0.16     0.000546\n",
       "0.17     0.000820\n",
       "0.19     0.001093\n",
       "0.20     0.003279\n",
       "           ...   \n",
       "24.00    0.998634\n",
       "25.00    0.998907\n",
       "26.00    0.999454\n",
       "27.50    0.999727\n",
       "31.50    1.000000\n",
       "Name: proportion, Length: 473, dtype: float64"
      ]
     },
     "execution_count": 34,
     "metadata": {},
     "output_type": "execute_result"
    }
   ],
   "source": [
    "df['price'].value_counts(normalize = True).sort_index().cumsum()\n"
   ]
  },
  {
   "cell_type": "code",
   "execution_count": 35,
   "id": "8bfef555-5ffa-4640-80ff-44353274620c",
   "metadata": {
    "scrolled": true
   },
   "outputs": [
    {
     "data": {
      "image/png": "[encoded data removed]",
      "text/plain": [
       "<Figure size 500x400 with 1 Axes>"
      ]
     },
     "metadata": {},
     "output_type": "display_data"
    }
   ],
   "source": [
    "ecdf = df['price'].value_counts(normalize = True).sort_index().cumsum()\n",
    "plt.plot(ecdf.index, ecdf, marker='.', linestyle='none')\n",
    "plt.grid()"
   ]
  },
  {
   "cell_type": "code",
   "execution_count": 36,
   "id": "01acf31e-a387-4e53-b509-b70fdfc5b44d",
   "metadata": {},
   "outputs": [
    {
     "name": "stderr",
     "output_type": "stream",
     "text": [
      "C:\\Users\\vinay\\anaconda3\\Lib\\site-packages\\seaborn\\_oldcore.py:1119: FutureWarning: use_inf_as_na option is deprecated and will be removed in a future version. Convert inf values to NaN before operating instead.\n",
      "  with pd.option_context('mode.use_inf_as_na', True):\n",
      "C:\\Users\\vinay\\anaconda3\\Lib\\site-packages\\seaborn\\_oldcore.py:1119: FutureWarning: use_inf_as_na option is deprecated and will be removed in a future version. Convert inf values to NaN before operating instead.\n",
      "  with pd.option_context('mode.use_inf_as_na', True):\n"
     ]
    },
    {
     "data": {
      "image/png": "[encoded data removed]",
      "text/plain": [
       "<Figure size 1500x600 with 2 Axes>"
      ]
     },
     "metadata": {},
     "output_type": "display_data"
    }
   ],
   "source": [
    "plt.figure(figsize=(15, 6))\n",
    "\n",
    "# Distribution plot without log transformation\n",
    "plt.subplot(1, 2, 1)\n",
    "sns.histplot(df['price'], kde=True, bins=50, color='skyblue')\n",
    "plt.title('Distribution of Prices (Original)')\n",
    "plt.xlabel('Price (in Crores)')\n",
    "plt.ylabel('Frequency')\n",
    "plt.grid()\n",
    "\n",
    "# Distribution plot with log transformation\n",
    "plt.subplot(1, 2, 2)\n",
    "sns.histplot(np.log1p(df['price']), kde=True, bins=50, color='lightgreen')\n",
    "plt.title('Distribution of Prices (Log Transformed)')\n",
    "plt.xlabel('Log(Price)')\n",
    "plt.ylabel('Frequency')\n",
    "plt.tight_layout()\n",
    "plt.grid()\n",
    "plt.show()"
   ]
  },
  {
   "cell_type": "code",
   "execution_count": 37,
   "id": "80896131-cfc1-442e-ba54-8636804ad23d",
   "metadata": {},
   "outputs": [
    {
     "name": "stdout",
     "output_type": "stream",
     "text": [
      "1.0740709565255315 0.9646692415449296\n"
     ]
    }
   ],
   "source": [
    "skewness = np.log1p(df['price']).skew()\n",
    "kurtosis = np.log1p(df['price']).kurt()\n",
    "\n",
    "print(skewness,kurtosis)"
   ]
  },
  {
   "cell_type": "code",
   "execution_count": 38,
   "id": "cdf5afbf-5337-4dd8-8637-2485d020a08b",
   "metadata": {},
   "outputs": [
    {
     "data": {
      "image/png": "[encoded data removed]",
      "text/plain": [
       "<Figure size 1500x600 with 2 Axes>"
      ]
     },
     "metadata": {},
     "output_type": "display_data"
    }
   ],
   "source": [
    "plt.figure(figsize=(15, 6))\n",
    "\n",
    "# Distribution plot without log transformation\n",
    "plt.subplot(1, 2, 1)\n",
    "sns.boxplot(df['price'], color='skyblue',orient = 'h')\n",
    "plt.title('Distribution of Prices (Original)')\n",
    "plt.xlabel('Price (in Crores)')\n",
    "plt.ylabel('Frequency')\n",
    "\n",
    "# Distribution plot with log transformation\n",
    "plt.subplot(1, 2, 2)\n",
    "sns.boxplot(np.log1p(df['price']), color='lightgreen', orient = 'h')\n",
    "plt.title('Distribution of Prices (Log Transformed)')\n",
    "plt.xlabel('Log(Price)')\n",
    "plt.ylabel('Frequency')\n",
    "\n",
    "plt.tight_layout()\n",
    "plt.show()"
   ]
  },
  {
   "cell_type": "code",
   "execution_count": 39,
   "id": "0c2c859e-5afb-421e-8f70-82d13acc3d19",
   "metadata": {},
   "outputs": [
    {
     "data": {
      "text/plain": [
       "17"
      ]
     },
     "execution_count": 39,
     "metadata": {},
     "output_type": "execute_result"
    }
   ],
   "source": [
    "df['price_per_sqft'].isnull().sum()"
   ]
  },
  {
   "cell_type": "code",
   "execution_count": 40,
   "id": "a6cdf455-2b48-46ec-a268-288a5e307212",
   "metadata": {},
   "outputs": [
    {
     "data": {
      "text/plain": [
       "count      3660.000000\n",
       "mean      13892.668306\n",
       "std       23210.067190\n",
       "min           4.000000\n",
       "25%        6817.250000\n",
       "50%        9020.000000\n",
       "75%       13880.500000\n",
       "max      600000.000000\n",
       "Name: price_per_sqft, dtype: float64"
      ]
     },
     "execution_count": 40,
     "metadata": {},
     "output_type": "execute_result"
    }
   ],
   "source": [
    "df['price_per_sqft'].describe()"
   ]
  },
  {
   "cell_type": "code",
   "execution_count": 41,
   "id": "8a399d3b-e746-4531-adcd-25b24214b1e7",
   "metadata": {},
   "outputs": [
    {
     "name": "stderr",
     "output_type": "stream",
     "text": [
      "C:\\Users\\vinay\\anaconda3\\Lib\\site-packages\\seaborn\\_oldcore.py:1119: FutureWarning: use_inf_as_na option is deprecated and will be removed in a future version. Convert inf values to NaN before operating instead.\n",
      "  with pd.option_context('mode.use_inf_as_na', True):\n"
     ]
    },
    {
     "data": {
      "image/png": "[encoded data removed]",
      "text/plain": [
       "<Figure size 500x400 with 1 Axes>"
      ]
     },
     "metadata": {},
     "output_type": "display_data"
    }
   ],
   "source": [
    "sns.histplot(df['price_per_sqft'], bins=50, color='skyblue', kde=True)\n",
    "plt.grid()"
   ]
  },
  {
   "cell_type": "code",
   "execution_count": 42,
   "id": "9e00edb2-70ed-4a70-bcf5-3afdd4a453d2",
   "metadata": {},
   "outputs": [
    {
     "data": {
      "text/plain": [
       "<Axes: >"
      ]
     },
     "execution_count": 42,
     "metadata": {},
     "output_type": "execute_result"
    },
    {
     "data": {
      "image/png": "[encoded data removed]",
      "text/plain": [
       "<Figure size 500x400 with 1 Axes>"
      ]
     },
     "metadata": {},
     "output_type": "display_data"
    }
   ],
   "source": [
    "sns.boxplot(df['price_per_sqft'], color='lightgreen',orient = 'h')"
   ]
  },
  {
   "cell_type": "code",
   "execution_count": 43,
   "id": "b4d4f767-9fec-40dc-be45-858818166818",
   "metadata": {},
   "outputs": [
    {
     "data": {
      "text/plain": [
       "0"
      ]
     },
     "execution_count": 43,
     "metadata": {},
     "output_type": "execute_result"
    }
   ],
   "source": [
    "df['bedRoom'].isnull().sum()"
   ]
  },
  {
   "cell_type": "code",
   "execution_count": 44,
   "id": "90d8c6d2-255c-49af-86d1-2a33368d67c2",
   "metadata": {},
   "outputs": [
    {
     "data": {
      "text/plain": [
       "<Axes: xlabel='bedRoom'>"
      ]
     },
     "execution_count": 44,
     "metadata": {},
     "output_type": "execute_result"
    },
    {
     "data": {
      "image/png": "[encoded data removed]",
      "text/plain": [
       "<Figure size 500x400 with 1 Axes>"
      ]
     },
     "metadata": {},
     "output_type": "display_data"
    }
   ],
   "source": [
    "df['bedRoom'].value_counts().sort_index().plot(kind='bar')"
   ]
  },
  {
   "cell_type": "code",
   "execution_count": 45,
   "id": "a7a3d110-9f27-4225-8b1a-da95d9d00034",
   "metadata": {},
   "outputs": [
    {
     "data": {
      "text/plain": [
       "<Axes: ylabel='proportion'>"
      ]
     },
     "execution_count": 45,
     "metadata": {},
     "output_type": "execute_result"
    },
    {
     "data": {
      "image/png": "[encoded data removed]",
      "text/plain": [
       "<Figure size 500x400 with 1 Axes>"
      ]
     },
     "metadata": {},
     "output_type": "display_data"
    }
   ],
   "source": [
    "df['bedRoom'].value_counts(normalize=True).head().plot(kind='pie',autopct='%0.2f%%')"
   ]
  },
  {
   "cell_type": "code",
   "execution_count": 46,
   "id": "1443b55b-45fc-41df-9d03-19e613e362b0",
   "metadata": {},
   "outputs": [
    {
     "data": {
      "text/plain": [
       "0"
      ]
     },
     "execution_count": 46,
     "metadata": {},
     "output_type": "execute_result"
    }
   ],
   "source": [
    "df['bathroom'].isnull().sum()"
   ]
  },
  {
   "cell_type": "code",
   "execution_count": 47,
   "id": "69723e97-7383-4de3-8111-f2eb698c049d",
   "metadata": {},
   "outputs": [
    {
     "data": {
      "text/plain": [
       "<Axes: xlabel='bathroom'>"
      ]
     },
     "execution_count": 47,
     "metadata": {},
     "output_type": "execute_result"
    },
    {
     "data": {
      "image/png": "[encoded data removed]",
      "text/plain": [
       "<Figure size 500x400 with 1 Axes>"
      ]
     },
     "metadata": {},
     "output_type": "display_data"
    }
   ],
   "source": [
    "df['bathroom'].value_counts().sort_index().plot(kind='bar')"
   ]
  },
  {
   "cell_type": "code",
   "execution_count": 48,
   "id": "000e30cd-016a-488d-ad5a-7c4d68af4a8c",
   "metadata": {},
   "outputs": [
    {
     "data": {
      "text/plain": [
       "<Axes: ylabel='proportion'>"
      ]
     },
     "execution_count": 48,
     "metadata": {},
     "output_type": "execute_result"
    },
    {
     "data": {
      "image/png": "[encoded data removed]",
      "text/plain": [
       "<Figure size 500x400 with 1 Axes>"
      ]
     },
     "metadata": {},
     "output_type": "display_data"
    }
   ],
   "source": [
    "df['bathroom'].value_counts(normalize=True).head().plot(kind='pie',autopct='%0.2f%%')"
   ]
  },
  {
   "cell_type": "code",
   "execution_count": 49,
   "id": "b9448cbb-e11e-4bea-bdd4-606c78d935e8",
   "metadata": {},
   "outputs": [
    {
     "data": {
      "text/plain": [
       "0"
      ]
     },
     "execution_count": 49,
     "metadata": {},
     "output_type": "execute_result"
    }
   ],
   "source": [
    "df['balcony'].isnull().sum()"
   ]
  },
  {
   "cell_type": "code",
   "execution_count": 50,
   "id": "84c7f137-666b-4e1a-9979-bad87b5b2410",
   "metadata": {},
   "outputs": [
    {
     "data": {
      "text/plain": [
       "<Axes: xlabel='balcony'>"
      ]
     },
     "execution_count": 50,
     "metadata": {},
     "output_type": "execute_result"
    },
    {
     "data": {
      "image/png": "[encoded data removed]",
      "text/plain": [
       "<Figure size 500x400 with 1 Axes>"
      ]
     },
     "metadata": {},
     "output_type": "display_data"
    }
   ],
   "source": [
    "df['balcony'].value_counts().plot(kind='bar')"
   ]
  },
  {
   "cell_type": "code",
   "execution_count": 51,
   "id": "d83cbf9a-8111-45c8-8912-3a9cb9c88900",
   "metadata": {},
   "outputs": [
    {
     "data": {
      "text/plain": [
       "<Axes: ylabel='proportion'>"
      ]
     },
     "execution_count": 51,
     "metadata": {},
     "output_type": "execute_result"
    },
    {
     "data": {
      "image/png": "[encoded data removed]",
      "text/plain": [
       "<Figure size 500x400 with 1 Axes>"
      ]
     },
     "metadata": {},
     "output_type": "display_data"
    }
   ],
   "source": [
    "df['balcony'].value_counts(normalize=True).head().plot(kind='pie',autopct='%0.2f%%')"
   ]
  },
  {
   "cell_type": "code",
   "execution_count": 52,
   "id": "186ae681-6c36-4057-a8c3-95d8ad3dbcfa",
   "metadata": {},
   "outputs": [
    {
     "data": {
      "text/plain": [
       "19"
      ]
     },
     "execution_count": 52,
     "metadata": {},
     "output_type": "execute_result"
    }
   ],
   "source": [
    "df['floorNum'].isnull().sum()"
   ]
  },
  {
   "cell_type": "code",
   "execution_count": 57,
   "id": "2243c709-07ac-4fdb-92f6-9dfbc57694a2",
   "metadata": {},
   "outputs": [
    {
     "data": {
      "text/plain": [
       "count    3658.000000\n",
       "mean        6.798250\n",
       "std         6.012454\n",
       "min         0.000000\n",
       "25%         2.000000\n",
       "50%         5.000000\n",
       "75%        10.000000\n",
       "90%        15.000000\n",
       "99%        27.000000\n",
       "max        51.000000\n",
       "Name: floorNum, dtype: float64"
      ]
     },
     "execution_count": 57,
     "metadata": {},
     "output_type": "execute_result"
    }
   ],
   "source": [
    "df['floorNum'].describe(percentiles = [0.25 , 0.75 ,  0.9 ,  0.99])"
   ]
  },
  {
   "cell_type": "code",
   "execution_count": 59,
   "id": "56d765bd-09d1-4ae8-a0b3-4657ff9ad5e1",
   "metadata": {},
   "outputs": [
    {
     "data": {
      "text/plain": [
       "<Axes: xlabel='floorNum'>"
      ]
     },
     "execution_count": 59,
     "metadata": {},
     "output_type": "execute_result"
    },
    {
     "data": {
      "image/png": "[encoded data removed]",
      "text/plain": [
       "<Figure size 1500x400 with 1 Axes>"
      ]
     },
     "metadata": {},
     "output_type": "display_data"
    }
   ],
   "source": [
    "plt.figure(figsize= (15 , 4))\n",
    "df['floorNum'].value_counts().sort_index().plot(kind='bar')"
   ]
  },
  {
   "cell_type": "code",
   "execution_count": 61,
   "id": "831013f7-4835-47bc-87c5-571f92164cd5",
   "metadata": {},
   "outputs": [
    {
     "data": {
      "text/plain": [
       "<Axes: >"
      ]
     },
     "execution_count": 61,
     "metadata": {},
     "output_type": "execute_result"
    },
    {
     "data": {
      "image/png": "[encoded data removed]",
      "text/plain": [
       "<Figure size 500x400 with 1 Axes>"
      ]
     },
     "metadata": {},
     "output_type": "display_data"
    }
   ],
   "source": [
    "sns.boxplot(df['floorNum'], color='lightgreen',orient = 'h')"
   ]
  },
  {
   "cell_type": "code",
   "execution_count": 62,
   "id": "885ae4bb-db84-4052-b921-a19bf1e1c811",
   "metadata": {},
   "outputs": [
    {
     "data": {
      "text/plain": [
       "1045"
      ]
     },
     "execution_count": 62,
     "metadata": {},
     "output_type": "execute_result"
    }
   ],
   "source": [
    "df['facing'].isnull().sum()"
   ]
  },
  {
   "cell_type": "code",
   "execution_count": 64,
   "id": "a40b484d-1530-4481-8eb7-b4cb69ab97cb",
   "metadata": {},
   "outputs": [],
   "source": [
    "df['facing'].fillna('NA',inplace=True)"
   ]
  },
  {
   "cell_type": "code",
   "execution_count": 65,
   "id": "34635954-20c9-4bae-904a-df2dd4a76af9",
   "metadata": {},
   "outputs": [
    {
     "data": {
      "text/plain": [
       "facing\n",
       "NA            1045\n",
       "North-East     623\n",
       "East           623\n",
       "North          387\n",
       "West           249\n",
       "South          231\n",
       "North-West     193\n",
       "South-East     173\n",
       "South-West     153\n",
       "Name: count, dtype: int64"
      ]
     },
     "execution_count": 65,
     "metadata": {},
     "output_type": "execute_result"
    }
   ],
   "source": [
    "df['facing'].value_counts()"
   ]
  },
  {
   "cell_type": "code",
   "execution_count": 66,
   "id": "12629839-2b8c-42d9-b4c5-1cf9b93ac26b",
   "metadata": {},
   "outputs": [
    {
     "data": {
      "text/plain": [
       "0"
      ]
     },
     "execution_count": 66,
     "metadata": {},
     "output_type": "execute_result"
    }
   ],
   "source": [
    "df['agePossession'].isnull().sum()"
   ]
  },
  {
   "cell_type": "code",
   "execution_count": 67,
   "id": "e9f8033d-05bc-4d6c-90f6-36ea8dd83bc2",
   "metadata": {},
   "outputs": [
    {
     "data": {
      "text/plain": [
       "agePossession\n",
       "relatively new        1646\n",
       "new property           593\n",
       "moderately old         563\n",
       "undefined              306\n",
       "old property           303\n",
       "under construction     266\n",
       "Name: count, dtype: int64"
      ]
     },
     "execution_count": 67,
     "metadata": {},
     "output_type": "execute_result"
    }
   ],
   "source": [
    "df['agePossession'].value_counts()"
   ]
  },
  {
   "cell_type": "code",
   "execution_count": 69,
   "id": "bba0bddc-6bee-44c1-8bc2-d29d24990cd5",
   "metadata": {},
   "outputs": [
    {
     "data": {
      "text/plain": [
       "<Axes: xlabel='agePossession'>"
      ]
     },
     "execution_count": 69,
     "metadata": {},
     "output_type": "execute_result"
    },
    {
     "data": {
      "image/png": "[encoded data removed]",
      "text/plain": [
       "<Figure size 500x400 with 1 Axes>"
      ]
     },
     "metadata": {},
     "output_type": "display_data"
    }
   ],
   "source": [
    "df['agePossession'].value_counts(normalize = True).plot(kind = 'bar')"
   ]
  },
  {
   "cell_type": "code",
   "execution_count": 70,
   "id": "77f454c4-691f-4ba9-bcfe-4c1d6511caa7",
   "metadata": {},
   "outputs": [
    {
     "data": {
      "text/plain": [
       "1802"
      ]
     },
     "execution_count": 70,
     "metadata": {},
     "output_type": "execute_result"
    }
   ],
   "source": [
    "df['super_built_up_area'].isnull().sum()"
   ]
  },
  {
   "cell_type": "code",
   "execution_count": 71,
   "id": "64dca0ae-8de7-4feb-b7d4-66bf9048a28c",
   "metadata": {},
   "outputs": [
    {
     "data": {
      "text/plain": [
       "count     1875.000000\n",
       "mean      1925.237627\n",
       "std        764.172177\n",
       "min         89.000000\n",
       "25%       1479.500000\n",
       "50%       1828.000000\n",
       "75%       2215.000000\n",
       "max      10000.000000\n",
       "Name: super_built_up_area, dtype: float64"
      ]
     },
     "execution_count": 71,
     "metadata": {},
     "output_type": "execute_result"
    }
   ],
   "source": [
    "df['super_built_up_area'].describe()"
   ]
  },
  {
   "cell_type": "code",
   "execution_count": 73,
   "id": "30c125da-cdc7-4c48-b8ba-a9a1a70947d2",
   "metadata": {},
   "outputs": [
    {
     "data": {
      "text/html": [
       "<div>\n",
       "<style scoped>\n",
       "    .dataframe tbody tr th:only-of-type {\n",
       "        vertical-align: middle;\n",
       "    }\n",
       "\n",
       "    .dataframe tbody tr th {\n",
       "        vertical-align: top;\n",
       "    }\n",
       "\n",
       "    .dataframe thead th {\n",
       "        text-align: right;\n",
       "    }\n",
       "</style>\n",
       "<table border=\"1\" class=\"dataframe\">\n",
       "  <thead>\n",
       "    <tr style=\"text-align: right;\">\n",
       "      <th></th>\n",
       "      <th>property_type</th>\n",
       "      <th>society</th>\n",
       "      <th>sector</th>\n",
       "      <th>price</th>\n",
       "      <th>price_per_sqft</th>\n",
       "      <th>area</th>\n",
       "      <th>areaWithType</th>\n",
       "      <th>bedRoom</th>\n",
       "      <th>bathroom</th>\n",
       "      <th>balcony</th>\n",
       "      <th>...</th>\n",
       "      <th>super_built_up_area</th>\n",
       "      <th>built_up_area</th>\n",
       "      <th>carpet_area</th>\n",
       "      <th>study room</th>\n",
       "      <th>servant room</th>\n",
       "      <th>store room</th>\n",
       "      <th>pooja room</th>\n",
       "      <th>others</th>\n",
       "      <th>furnishing_type</th>\n",
       "      <th>luxury_score</th>\n",
       "    </tr>\n",
       "  </thead>\n",
       "  <tbody>\n",
       "    <tr>\n",
       "      <th>881</th>\n",
       "      <td>flat</td>\n",
       "      <td>godrej aria</td>\n",
       "      <td>sector 79</td>\n",
       "      <td>1.1</td>\n",
       "      <td>11482.0</td>\n",
       "      <td>958.0</td>\n",
       "      <td>super built up area 89</td>\n",
       "      <td>2</td>\n",
       "      <td>2</td>\n",
       "      <td>3</td>\n",
       "      <td>...</td>\n",
       "      <td>89.0</td>\n",
       "      <td>NaN</td>\n",
       "      <td>NaN</td>\n",
       "      <td>0</td>\n",
       "      <td>0</td>\n",
       "      <td>0</td>\n",
       "      <td>0</td>\n",
       "      <td>0</td>\n",
       "      <td>0</td>\n",
       "      <td>62</td>\n",
       "    </tr>\n",
       "  </tbody>\n",
       "</table>\n",
       "<p>1 rows × 23 columns</p>\n",
       "</div>"
      ],
      "text/plain": [
       "    property_type      society     sector  price  price_per_sqft   area  \\\n",
       "881          flat  godrej aria  sector 79    1.1         11482.0  958.0   \n",
       "\n",
       "               areaWithType  bedRoom  bathroom balcony  ...  \\\n",
       "881  super built up area 89        2         2       3  ...   \n",
       "\n",
       "     super_built_up_area built_up_area carpet_area  study room  servant room  \\\n",
       "881                 89.0           NaN         NaN           0             0   \n",
       "\n",
       "     store room  pooja room  others  furnishing_type  luxury_score  \n",
       "881           0           0       0                0            62  \n",
       "\n",
       "[1 rows x 23 columns]"
      ]
     },
     "execution_count": 73,
     "metadata": {},
     "output_type": "execute_result"
    }
   ],
   "source": [
    "df[df.super_built_up_area==89]"
   ]
  },
  {
   "cell_type": "code",
   "execution_count": 74,
   "id": "9f92e2ef-b81e-4a9d-adea-e73a9aee1acd",
   "metadata": {},
   "outputs": [
    {
     "data": {
      "text/plain": [
       "10.764044943820224"
      ]
     },
     "execution_count": 74,
     "metadata": {},
     "output_type": "execute_result"
    }
   ],
   "source": [
    "958.0/89"
   ]
  },
  {
   "cell_type": "code",
   "execution_count": 76,
   "id": "9b00d4da-2f73-4fdd-91a4-82aa2a7ea3da",
   "metadata": {},
   "outputs": [
    {
     "data": {
      "text/html": [
       "<div>\n",
       "<style scoped>\n",
       "    .dataframe tbody tr th:only-of-type {\n",
       "        vertical-align: middle;\n",
       "    }\n",
       "\n",
       "    .dataframe tbody tr th {\n",
       "        vertical-align: top;\n",
       "    }\n",
       "\n",
       "    .dataframe thead th {\n",
       "        text-align: right;\n",
       "    }\n",
       "</style>\n",
       "<table border=\"1\" class=\"dataframe\">\n",
       "  <thead>\n",
       "    <tr style=\"text-align: right;\">\n",
       "      <th></th>\n",
       "      <th>property_type</th>\n",
       "      <th>society</th>\n",
       "      <th>sector</th>\n",
       "      <th>price</th>\n",
       "      <th>price_per_sqft</th>\n",
       "      <th>area</th>\n",
       "      <th>areaWithType</th>\n",
       "      <th>bedRoom</th>\n",
       "      <th>bathroom</th>\n",
       "      <th>balcony</th>\n",
       "      <th>...</th>\n",
       "      <th>super_built_up_area</th>\n",
       "      <th>built_up_area</th>\n",
       "      <th>carpet_area</th>\n",
       "      <th>study room</th>\n",
       "      <th>servant room</th>\n",
       "      <th>store room</th>\n",
       "      <th>pooja room</th>\n",
       "      <th>others</th>\n",
       "      <th>furnishing_type</th>\n",
       "      <th>luxury_score</th>\n",
       "    </tr>\n",
       "  </thead>\n",
       "  <tbody>\n",
       "    <tr>\n",
       "      <th>347</th>\n",
       "      <td>flat</td>\n",
       "      <td>sushant lok 1 builder floors</td>\n",
       "      <td>sector 43</td>\n",
       "      <td>2.50</td>\n",
       "      <td>12920.0</td>\n",
       "      <td>1935.0</td>\n",
       "      <td>super built up area 215(179.77 sq.m.)</td>\n",
       "      <td>3</td>\n",
       "      <td>3</td>\n",
       "      <td>2</td>\n",
       "      <td>...</td>\n",
       "      <td>215.0</td>\n",
       "      <td>NaN</td>\n",
       "      <td>NaN</td>\n",
       "      <td>0</td>\n",
       "      <td>0</td>\n",
       "      <td>0</td>\n",
       "      <td>0</td>\n",
       "      <td>0</td>\n",
       "      <td>0</td>\n",
       "      <td>0</td>\n",
       "    </tr>\n",
       "    <tr>\n",
       "      <th>613</th>\n",
       "      <td>flat</td>\n",
       "      <td>godrej nature plus</td>\n",
       "      <td>sector 33</td>\n",
       "      <td>1.40</td>\n",
       "      <td>15124.0</td>\n",
       "      <td>926.0</td>\n",
       "      <td>super built up area 145carpet area: 86 sq.m.</td>\n",
       "      <td>3</td>\n",
       "      <td>2</td>\n",
       "      <td>3+</td>\n",
       "      <td>...</td>\n",
       "      <td>145.0</td>\n",
       "      <td>NaN</td>\n",
       "      <td>86.00</td>\n",
       "      <td>0</td>\n",
       "      <td>0</td>\n",
       "      <td>0</td>\n",
       "      <td>0</td>\n",
       "      <td>0</td>\n",
       "      <td>0</td>\n",
       "      <td>70</td>\n",
       "    </tr>\n",
       "    <tr>\n",
       "      <th>718</th>\n",
       "      <td>flat</td>\n",
       "      <td>rof ananda</td>\n",
       "      <td>sector 95</td>\n",
       "      <td>0.26</td>\n",
       "      <td>6032.0</td>\n",
       "      <td>431.0</td>\n",
       "      <td>super built up area 431(40.04 sq.m.)carpet are...</td>\n",
       "      <td>1</td>\n",
       "      <td>1</td>\n",
       "      <td>1</td>\n",
       "      <td>...</td>\n",
       "      <td>431.0</td>\n",
       "      <td>NaN</td>\n",
       "      <td>380.44</td>\n",
       "      <td>0</td>\n",
       "      <td>0</td>\n",
       "      <td>0</td>\n",
       "      <td>0</td>\n",
       "      <td>0</td>\n",
       "      <td>0</td>\n",
       "      <td>49</td>\n",
       "    </tr>\n",
       "    <tr>\n",
       "      <th>881</th>\n",
       "      <td>flat</td>\n",
       "      <td>godrej aria</td>\n",
       "      <td>sector 79</td>\n",
       "      <td>1.10</td>\n",
       "      <td>11482.0</td>\n",
       "      <td>958.0</td>\n",
       "      <td>super built up area 89</td>\n",
       "      <td>2</td>\n",
       "      <td>2</td>\n",
       "      <td>3</td>\n",
       "      <td>...</td>\n",
       "      <td>89.0</td>\n",
       "      <td>NaN</td>\n",
       "      <td>NaN</td>\n",
       "      <td>0</td>\n",
       "      <td>0</td>\n",
       "      <td>0</td>\n",
       "      <td>0</td>\n",
       "      <td>0</td>\n",
       "      <td>0</td>\n",
       "      <td>62</td>\n",
       "    </tr>\n",
       "    <tr>\n",
       "      <th>983</th>\n",
       "      <td>flat</td>\n",
       "      <td>avl 36 gurgaon</td>\n",
       "      <td>sector 36a</td>\n",
       "      <td>0.36</td>\n",
       "      <td>8990.0</td>\n",
       "      <td>400.0</td>\n",
       "      <td>super built up area 406(37.72 sq.m.)carpet are...</td>\n",
       "      <td>1</td>\n",
       "      <td>1</td>\n",
       "      <td>1</td>\n",
       "      <td>...</td>\n",
       "      <td>406.0</td>\n",
       "      <td>NaN</td>\n",
       "      <td>402.00</td>\n",
       "      <td>0</td>\n",
       "      <td>0</td>\n",
       "      <td>0</td>\n",
       "      <td>0</td>\n",
       "      <td>0</td>\n",
       "      <td>0</td>\n",
       "      <td>95</td>\n",
       "    </tr>\n",
       "    <tr>\n",
       "      <th>1060</th>\n",
       "      <td>flat</td>\n",
       "      <td>godrej oasis</td>\n",
       "      <td>sector 88a</td>\n",
       "      <td>1.45</td>\n",
       "      <td>8367.0</td>\n",
       "      <td>1733.0</td>\n",
       "      <td>super built up area 161carpet area: 108.4 sq.m.</td>\n",
       "      <td>2</td>\n",
       "      <td>2</td>\n",
       "      <td>3+</td>\n",
       "      <td>...</td>\n",
       "      <td>161.0</td>\n",
       "      <td>NaN</td>\n",
       "      <td>108.40</td>\n",
       "      <td>1</td>\n",
       "      <td>0</td>\n",
       "      <td>0</td>\n",
       "      <td>0</td>\n",
       "      <td>0</td>\n",
       "      <td>2</td>\n",
       "      <td>85</td>\n",
       "    </tr>\n",
       "    <tr>\n",
       "      <th>1377</th>\n",
       "      <td>flat</td>\n",
       "      <td>avl 36 gurgaon</td>\n",
       "      <td>sector 36a</td>\n",
       "      <td>0.37</td>\n",
       "      <td>10539.0</td>\n",
       "      <td>351.0</td>\n",
       "      <td>super built up area 352(32.7 sq.m.)</td>\n",
       "      <td>1</td>\n",
       "      <td>1</td>\n",
       "      <td>1</td>\n",
       "      <td>...</td>\n",
       "      <td>352.0</td>\n",
       "      <td>NaN</td>\n",
       "      <td>NaN</td>\n",
       "      <td>0</td>\n",
       "      <td>0</td>\n",
       "      <td>0</td>\n",
       "      <td>0</td>\n",
       "      <td>0</td>\n",
       "      <td>1</td>\n",
       "      <td>88</td>\n",
       "    </tr>\n",
       "    <tr>\n",
       "      <th>1632</th>\n",
       "      <td>flat</td>\n",
       "      <td>pivotal devaan</td>\n",
       "      <td>sector 84</td>\n",
       "      <td>0.27</td>\n",
       "      <td>7964.0</td>\n",
       "      <td>339.0</td>\n",
       "      <td>super built up area 439(40.78 sq.m.)carpet are...</td>\n",
       "      <td>1</td>\n",
       "      <td>1</td>\n",
       "      <td>1</td>\n",
       "      <td>...</td>\n",
       "      <td>439.0</td>\n",
       "      <td>NaN</td>\n",
       "      <td>339.00</td>\n",
       "      <td>0</td>\n",
       "      <td>0</td>\n",
       "      <td>0</td>\n",
       "      <td>0</td>\n",
       "      <td>0</td>\n",
       "      <td>2</td>\n",
       "      <td>45</td>\n",
       "    </tr>\n",
       "    <tr>\n",
       "      <th>1860</th>\n",
       "      <td>flat</td>\n",
       "      <td>unitech greenwood city</td>\n",
       "      <td>sector 45</td>\n",
       "      <td>2.40</td>\n",
       "      <td>12346.0</td>\n",
       "      <td>1944.0</td>\n",
       "      <td>super built up area 216(180.6 sq.m.)</td>\n",
       "      <td>3</td>\n",
       "      <td>3</td>\n",
       "      <td>2</td>\n",
       "      <td>...</td>\n",
       "      <td>216.0</td>\n",
       "      <td>NaN</td>\n",
       "      <td>NaN</td>\n",
       "      <td>0</td>\n",
       "      <td>1</td>\n",
       "      <td>0</td>\n",
       "      <td>0</td>\n",
       "      <td>0</td>\n",
       "      <td>1</td>\n",
       "      <td>19</td>\n",
       "    </tr>\n",
       "    <tr>\n",
       "      <th>2247</th>\n",
       "      <td>flat</td>\n",
       "      <td>signature andour heights</td>\n",
       "      <td>sector 71</td>\n",
       "      <td>0.39</td>\n",
       "      <td>9846.0</td>\n",
       "      <td>396.0</td>\n",
       "      <td>super built up area 325(30.19 sq.m.)</td>\n",
       "      <td>1</td>\n",
       "      <td>1</td>\n",
       "      <td>2</td>\n",
       "      <td>...</td>\n",
       "      <td>325.0</td>\n",
       "      <td>NaN</td>\n",
       "      <td>NaN</td>\n",
       "      <td>0</td>\n",
       "      <td>0</td>\n",
       "      <td>0</td>\n",
       "      <td>0</td>\n",
       "      <td>0</td>\n",
       "      <td>0</td>\n",
       "      <td>0</td>\n",
       "    </tr>\n",
       "    <tr>\n",
       "      <th>2520</th>\n",
       "      <td>flat</td>\n",
       "      <td>ramsons kshitij</td>\n",
       "      <td>sector 95</td>\n",
       "      <td>0.22</td>\n",
       "      <td>6470.0</td>\n",
       "      <td>340.0</td>\n",
       "      <td>super built up area 340(31.59 sq.m.)</td>\n",
       "      <td>1</td>\n",
       "      <td>1</td>\n",
       "      <td>1</td>\n",
       "      <td>...</td>\n",
       "      <td>340.0</td>\n",
       "      <td>NaN</td>\n",
       "      <td>NaN</td>\n",
       "      <td>0</td>\n",
       "      <td>0</td>\n",
       "      <td>0</td>\n",
       "      <td>0</td>\n",
       "      <td>0</td>\n",
       "      <td>0</td>\n",
       "      <td>0</td>\n",
       "    </tr>\n",
       "    <tr>\n",
       "      <th>2554</th>\n",
       "      <td>flat</td>\n",
       "      <td>breez global heights</td>\n",
       "      <td>sohna road</td>\n",
       "      <td>0.25</td>\n",
       "      <td>7002.0</td>\n",
       "      <td>357.0</td>\n",
       "      <td>super built up area 414(38.46 sq.m.)carpet are...</td>\n",
       "      <td>1</td>\n",
       "      <td>1</td>\n",
       "      <td>1</td>\n",
       "      <td>...</td>\n",
       "      <td>414.0</td>\n",
       "      <td>NaN</td>\n",
       "      <td>357.00</td>\n",
       "      <td>0</td>\n",
       "      <td>0</td>\n",
       "      <td>0</td>\n",
       "      <td>0</td>\n",
       "      <td>0</td>\n",
       "      <td>0</td>\n",
       "      <td>57</td>\n",
       "    </tr>\n",
       "    <tr>\n",
       "      <th>2897</th>\n",
       "      <td>flat</td>\n",
       "      <td>rof ananda</td>\n",
       "      <td>sector 95</td>\n",
       "      <td>0.25</td>\n",
       "      <td>6578.0</td>\n",
       "      <td>380.0</td>\n",
       "      <td>super built up area 380(35.3 sq.m.)</td>\n",
       "      <td>1</td>\n",
       "      <td>1</td>\n",
       "      <td>1</td>\n",
       "      <td>...</td>\n",
       "      <td>380.0</td>\n",
       "      <td>NaN</td>\n",
       "      <td>NaN</td>\n",
       "      <td>0</td>\n",
       "      <td>0</td>\n",
       "      <td>0</td>\n",
       "      <td>0</td>\n",
       "      <td>0</td>\n",
       "      <td>0</td>\n",
       "      <td>0</td>\n",
       "    </tr>\n",
       "    <tr>\n",
       "      <th>2901</th>\n",
       "      <td>flat</td>\n",
       "      <td>palam vihar society</td>\n",
       "      <td>sector 2</td>\n",
       "      <td>0.40</td>\n",
       "      <td>8602.0</td>\n",
       "      <td>465.0</td>\n",
       "      <td>super built up area 465(43.2 sq.m.)built up ar...</td>\n",
       "      <td>1</td>\n",
       "      <td>1</td>\n",
       "      <td>1</td>\n",
       "      <td>...</td>\n",
       "      <td>465.0</td>\n",
       "      <td>450.0</td>\n",
       "      <td>425.00</td>\n",
       "      <td>0</td>\n",
       "      <td>0</td>\n",
       "      <td>0</td>\n",
       "      <td>0</td>\n",
       "      <td>0</td>\n",
       "      <td>1</td>\n",
       "      <td>39</td>\n",
       "    </tr>\n",
       "    <tr>\n",
       "      <th>3575</th>\n",
       "      <td>flat</td>\n",
       "      <td>signature global synera</td>\n",
       "      <td>sector 81</td>\n",
       "      <td>0.31</td>\n",
       "      <td>7434.0</td>\n",
       "      <td>417.0</td>\n",
       "      <td>super built up area 417(38.74 sq.m.)carpet are...</td>\n",
       "      <td>1</td>\n",
       "      <td>1</td>\n",
       "      <td>1</td>\n",
       "      <td>...</td>\n",
       "      <td>417.0</td>\n",
       "      <td>NaN</td>\n",
       "      <td>320.00</td>\n",
       "      <td>0</td>\n",
       "      <td>0</td>\n",
       "      <td>0</td>\n",
       "      <td>0</td>\n",
       "      <td>0</td>\n",
       "      <td>2</td>\n",
       "      <td>123</td>\n",
       "    </tr>\n",
       "  </tbody>\n",
       "</table>\n",
       "<p>15 rows × 23 columns</p>\n",
       "</div>"
      ],
      "text/plain": [
       "     property_type                       society      sector  price  \\\n",
       "347           flat  sushant lok 1 builder floors   sector 43   2.50   \n",
       "613           flat            godrej nature plus   sector 33   1.40   \n",
       "718           flat                    rof ananda   sector 95   0.26   \n",
       "881           flat                   godrej aria   sector 79   1.10   \n",
       "983           flat                avl 36 gurgaon  sector 36a   0.36   \n",
       "1060          flat                  godrej oasis  sector 88a   1.45   \n",
       "1377          flat                avl 36 gurgaon  sector 36a   0.37   \n",
       "1632          flat                pivotal devaan   sector 84   0.27   \n",
       "1860          flat        unitech greenwood city   sector 45   2.40   \n",
       "2247          flat      signature andour heights   sector 71   0.39   \n",
       "2520          flat               ramsons kshitij   sector 95   0.22   \n",
       "2554          flat          breez global heights  sohna road   0.25   \n",
       "2897          flat                    rof ananda   sector 95   0.25   \n",
       "2901          flat           palam vihar society    sector 2   0.40   \n",
       "3575          flat       signature global synera   sector 81   0.31   \n",
       "\n",
       "      price_per_sqft    area  \\\n",
       "347          12920.0  1935.0   \n",
       "613          15124.0   926.0   \n",
       "718           6032.0   431.0   \n",
       "881          11482.0   958.0   \n",
       "983           8990.0   400.0   \n",
       "1060          8367.0  1733.0   \n",
       "1377         10539.0   351.0   \n",
       "1632          7964.0   339.0   \n",
       "1860         12346.0  1944.0   \n",
       "2247          9846.0   396.0   \n",
       "2520          6470.0   340.0   \n",
       "2554          7002.0   357.0   \n",
       "2897          6578.0   380.0   \n",
       "2901          8602.0   465.0   \n",
       "3575          7434.0   417.0   \n",
       "\n",
       "                                           areaWithType  bedRoom  bathroom  \\\n",
       "347               super built up area 215(179.77 sq.m.)        3         3   \n",
       "613        super built up area 145carpet area: 86 sq.m.        3         2   \n",
       "718   super built up area 431(40.04 sq.m.)carpet are...        1         1   \n",
       "881                              super built up area 89        2         2   \n",
       "983   super built up area 406(37.72 sq.m.)carpet are...        1         1   \n",
       "1060    super built up area 161carpet area: 108.4 sq.m.        2         2   \n",
       "1377                super built up area 352(32.7 sq.m.)        1         1   \n",
       "1632  super built up area 439(40.78 sq.m.)carpet are...        1         1   \n",
       "1860               super built up area 216(180.6 sq.m.)        3         3   \n",
       "2247               super built up area 325(30.19 sq.m.)        1         1   \n",
       "2520               super built up area 340(31.59 sq.m.)        1         1   \n",
       "2554  super built up area 414(38.46 sq.m.)carpet are...        1         1   \n",
       "2897                super built up area 380(35.3 sq.m.)        1         1   \n",
       "2901  super built up area 465(43.2 sq.m.)built up ar...        1         1   \n",
       "3575  super built up area 417(38.74 sq.m.)carpet are...        1         1   \n",
       "\n",
       "     balcony  ...  super_built_up_area built_up_area carpet_area  study room  \\\n",
       "347        2  ...                215.0           NaN         NaN           0   \n",
       "613       3+  ...                145.0           NaN       86.00           0   \n",
       "718        1  ...                431.0           NaN      380.44           0   \n",
       "881        3  ...                 89.0           NaN         NaN           0   \n",
       "983        1  ...                406.0           NaN      402.00           0   \n",
       "1060      3+  ...                161.0           NaN      108.40           1   \n",
       "1377       1  ...                352.0           NaN         NaN           0   \n",
       "1632       1  ...                439.0           NaN      339.00           0   \n",
       "1860       2  ...                216.0           NaN         NaN           0   \n",
       "2247       2  ...                325.0           NaN         NaN           0   \n",
       "2520       1  ...                340.0           NaN         NaN           0   \n",
       "2554       1  ...                414.0           NaN      357.00           0   \n",
       "2897       1  ...                380.0           NaN         NaN           0   \n",
       "2901       1  ...                465.0         450.0      425.00           0   \n",
       "3575       1  ...                417.0           NaN      320.00           0   \n",
       "\n",
       "      servant room  store room  pooja room  others  furnishing_type  \\\n",
       "347              0           0           0       0                0   \n",
       "613              0           0           0       0                0   \n",
       "718              0           0           0       0                0   \n",
       "881              0           0           0       0                0   \n",
       "983              0           0           0       0                0   \n",
       "1060             0           0           0       0                2   \n",
       "1377             0           0           0       0                1   \n",
       "1632             0           0           0       0                2   \n",
       "1860             1           0           0       0                1   \n",
       "2247             0           0           0       0                0   \n",
       "2520             0           0           0       0                0   \n",
       "2554             0           0           0       0                0   \n",
       "2897             0           0           0       0                0   \n",
       "2901             0           0           0       0                1   \n",
       "3575             0           0           0       0                2   \n",
       "\n",
       "      luxury_score  \n",
       "347              0  \n",
       "613             70  \n",
       "718             49  \n",
       "881             62  \n",
       "983             95  \n",
       "1060            85  \n",
       "1377            88  \n",
       "1632            45  \n",
       "1860            19  \n",
       "2247             0  \n",
       "2520             0  \n",
       "2554            57  \n",
       "2897             0  \n",
       "2901            39  \n",
       "3575           123  \n",
       "\n",
       "[15 rows x 23 columns]"
      ]
     },
     "execution_count": 76,
     "metadata": {},
     "output_type": "execute_result"
    }
   ],
   "source": [
    "df[df['super_built_up_area']<1000.00000]"
   ]
  },
  {
   "cell_type": "code",
   "execution_count": 83,
   "id": "ad0768d0-65f8-4205-9312-79d02ca5b70b",
   "metadata": {},
   "outputs": [],
   "source": [
    "df.at[881, 'super_built_up_area'] = 958.0"
   ]
  },
  {
   "cell_type": "code",
   "execution_count": 84,
   "id": "083410ec-69e6-460f-945b-e6f796cbd0bb",
   "metadata": {},
   "outputs": [
    {
     "data": {
      "text/plain": [
       "property_type                            flat\n",
       "society                           godrej aria\n",
       "sector                              sector 79\n",
       "price                                     1.1\n",
       "price_per_sqft                        11482.0\n",
       "area                                    958.0\n",
       "areaWithType           super built up area 89\n",
       "bedRoom                                     2\n",
       "bathroom                                    2\n",
       "balcony                                     3\n",
       "floorNum                                  9.0\n",
       "facing                                     NA\n",
       "agePossession                    new property\n",
       "super_built_up_area                     958.0\n",
       "built_up_area                             NaN\n",
       "carpet_area                               NaN\n",
       "study room                                  0\n",
       "servant room                                0\n",
       "store room                                  0\n",
       "pooja room                                  0\n",
       "others                                      0\n",
       "furnishing_type                             0\n",
       "luxury_score                               62\n",
       "Name: 881, dtype: object"
      ]
     },
     "execution_count": 84,
     "metadata": {},
     "output_type": "execute_result"
    }
   ],
   "source": [
    "df.loc[881]"
   ]
  },
  {
   "cell_type": "code",
   "execution_count": 85,
   "id": "3319fe9a-a348-47ec-b5ee-05df3e374c18",
   "metadata": {},
   "outputs": [
    {
     "name": "stderr",
     "output_type": "stream",
     "text": [
      "C:\\Users\\vinay\\anaconda3\\Lib\\site-packages\\seaborn\\_oldcore.py:1119: FutureWarning: use_inf_as_na option is deprecated and will be removed in a future version. Convert inf values to NaN before operating instead.\n",
      "  with pd.option_context('mode.use_inf_as_na', True):\n"
     ]
    },
    {
     "data": {
      "text/plain": [
       "<Axes: xlabel='super_built_up_area', ylabel='Count'>"
      ]
     },
     "execution_count": 85,
     "metadata": {},
     "output_type": "execute_result"
    },
    {
     "data": {
      "image/png": "[encoded data removed]",
      "text/plain": [
       "<Figure size 500x400 with 1 Axes>"
      ]
     },
     "metadata": {},
     "output_type": "display_data"
    }
   ],
   "source": [
    "sns.histplot(df['super_built_up_area'].dropna(), bins=50, color='skyblue', kde=True)"
   ]
  },
  {
   "cell_type": "code",
   "execution_count": 87,
   "id": "46781a8d-cd21-42f0-9ede-9ad09636828f",
   "metadata": {},
   "outputs": [
    {
     "data": {
      "text/plain": [
       "<Axes: >"
      ]
     },
     "execution_count": 87,
     "metadata": {},
     "output_type": "execute_result"
    },
    {
     "data": {
      "image/png": "[encoded data removed]",
      "text/plain": [
       "<Figure size 500x400 with 1 Axes>"
      ]
     },
     "metadata": {},
     "output_type": "display_data"
    }
   ],
   "source": [
    "sns.boxplot(df['super_built_up_area'].dropna(), color='lightgreen',orient = 'h')"
   ]
  },
  {
   "cell_type": "code",
   "execution_count": 88,
   "id": "99728d48-dcd2-4dab-b74a-02b4260ee60a",
   "metadata": {},
   "outputs": [
    {
     "data": {
      "text/plain": [
       "1987"
      ]
     },
     "execution_count": 88,
     "metadata": {},
     "output_type": "execute_result"
    }
   ],
   "source": [
    "df['built_up_area'].isnull().sum()"
   ]
  },
  {
   "cell_type": "code",
   "execution_count": 89,
   "id": "4b4e3c82-5b1e-4285-99aa-342513200a02",
   "metadata": {},
   "outputs": [
    {
     "data": {
      "text/plain": [
       "count      1690.000000\n",
       "mean       2379.585811\n",
       "std       17942.880238\n",
       "min           2.000000\n",
       "25%        1100.000000\n",
       "50%        1650.000000\n",
       "75%        2400.000000\n",
       "max      737147.000000\n",
       "Name: built_up_area, dtype: float64"
      ]
     },
     "execution_count": 89,
     "metadata": {},
     "output_type": "execute_result"
    }
   ],
   "source": [
    "df['built_up_area'].describe()"
   ]
  },
  {
   "cell_type": "code",
   "execution_count": 92,
   "id": "2e615725-18c5-4263-883a-09726965b9c3",
   "metadata": {},
   "outputs": [
    {
     "name": "stderr",
     "output_type": "stream",
     "text": [
      "C:\\Users\\vinay\\anaconda3\\Lib\\site-packages\\seaborn\\_oldcore.py:1119: FutureWarning: use_inf_as_na option is deprecated and will be removed in a future version. Convert inf values to NaN before operating instead.\n",
      "  with pd.option_context('mode.use_inf_as_na', True):\n"
     ]
    },
    {
     "data": {
      "text/plain": [
       "<Axes: xlabel='built_up_area', ylabel='Count'>"
      ]
     },
     "execution_count": 92,
     "metadata": {},
     "output_type": "execute_result"
    },
    {
     "data": {
      "image/png": "[encoded data removed]",
      "text/plain": [
       "<Figure size 1500x400 with 1 Axes>"
      ]
     },
     "metadata": {},
     "output_type": "display_data"
    }
   ],
   "source": [
    "plt.figure(figsize = (15 , 4))\n",
    "sns.histplot(df['built_up_area'].dropna(), bins=50, color='skyblue', kde=False)"
   ]
  },
  {
   "cell_type": "code",
   "execution_count": 102,
   "id": "ca281b23-2897-41de-9fa3-85f3d664aaf0",
   "metadata": {},
   "outputs": [
    {
     "data": {
      "text/plain": [
       "<Axes: ylabel='Frequency'>"
      ]
     },
     "execution_count": 102,
     "metadata": {},
     "output_type": "execute_result"
    },
    {
     "data": {
      "image/png": "[encoded data removed]",
      "text/plain": [
       "<Figure size 500x400 with 1 Axes>"
      ]
     },
     "metadata": {},
     "output_type": "display_data"
    }
   ],
   "source": [
    "df[df['built_up_area']<700000]['built_up_area'].plot(kind = 'hist',bins = 50, alpha=0.5)"
   ]
  },
  {
   "cell_type": "code",
   "execution_count": 105,
   "id": "57e61a01-e875-445b-abaa-f8fd9335e58f",
   "metadata": {},
   "outputs": [
    {
     "data": {
      "text/plain": [
       "13497.901044096014"
      ]
     },
     "execution_count": 105,
     "metadata": {},
     "output_type": "execute_result"
    }
   ],
   "source": [
    "1471,1648"
   ]
  },
  {
   "cell_type": "code",
   "execution_count": 103,
   "id": "4dd5b486-52e8-4119-a5b5-3491272f5c08",
   "metadata": {},
   "outputs": [
    {
     "data": {
      "text/html": [
       "<div>\n",
       "<style scoped>\n",
       "    .dataframe tbody tr th:only-of-type {\n",
       "        vertical-align: middle;\n",
       "    }\n",
       "\n",
       "    .dataframe tbody tr th {\n",
       "        vertical-align: top;\n",
       "    }\n",
       "\n",
       "    .dataframe thead th {\n",
       "        text-align: right;\n",
       "    }\n",
       "</style>\n",
       "<table border=\"1\" class=\"dataframe\">\n",
       "  <thead>\n",
       "    <tr style=\"text-align: right;\">\n",
       "      <th></th>\n",
       "      <th>property_type</th>\n",
       "      <th>society</th>\n",
       "      <th>sector</th>\n",
       "      <th>price</th>\n",
       "      <th>price_per_sqft</th>\n",
       "      <th>area</th>\n",
       "      <th>areaWithType</th>\n",
       "      <th>bedRoom</th>\n",
       "      <th>bathroom</th>\n",
       "      <th>balcony</th>\n",
       "      <th>...</th>\n",
       "      <th>super_built_up_area</th>\n",
       "      <th>built_up_area</th>\n",
       "      <th>carpet_area</th>\n",
       "      <th>study room</th>\n",
       "      <th>servant room</th>\n",
       "      <th>store room</th>\n",
       "      <th>pooja room</th>\n",
       "      <th>others</th>\n",
       "      <th>furnishing_type</th>\n",
       "      <th>luxury_score</th>\n",
       "    </tr>\n",
       "  </thead>\n",
       "  <tbody>\n",
       "    <tr>\n",
       "      <th>114</th>\n",
       "      <td>house</td>\n",
       "      <td>independent</td>\n",
       "      <td>sector 25</td>\n",
       "      <td>10.00</td>\n",
       "      <td>37037.0</td>\n",
       "      <td>2700.0</td>\n",
       "      <td>plot area 2700(250.84 sq.m.)built up area: 950...</td>\n",
       "      <td>5</td>\n",
       "      <td>5</td>\n",
       "      <td>3+</td>\n",
       "      <td>...</td>\n",
       "      <td>NaN</td>\n",
       "      <td>9500.0</td>\n",
       "      <td>9000.0</td>\n",
       "      <td>0</td>\n",
       "      <td>1</td>\n",
       "      <td>0</td>\n",
       "      <td>1</td>\n",
       "      <td>0</td>\n",
       "      <td>2</td>\n",
       "      <td>29</td>\n",
       "    </tr>\n",
       "    <tr>\n",
       "      <th>323</th>\n",
       "      <td>house</td>\n",
       "      <td>anamika enclave</td>\n",
       "      <td>sector 12</td>\n",
       "      <td>6.00</td>\n",
       "      <td>14492.0</td>\n",
       "      <td>4140.0</td>\n",
       "      <td>plot area 4140(384.62 sq.m.)built up area: 900...</td>\n",
       "      <td>9</td>\n",
       "      <td>9</td>\n",
       "      <td>3+</td>\n",
       "      <td>...</td>\n",
       "      <td>NaN</td>\n",
       "      <td>9000.0</td>\n",
       "      <td>NaN</td>\n",
       "      <td>0</td>\n",
       "      <td>0</td>\n",
       "      <td>0</td>\n",
       "      <td>0</td>\n",
       "      <td>0</td>\n",
       "      <td>0</td>\n",
       "      <td>9</td>\n",
       "    </tr>\n",
       "    <tr>\n",
       "      <th>821</th>\n",
       "      <td>house</td>\n",
       "      <td>arjun marg/ sector- 26 phase- 1/ golf course road</td>\n",
       "      <td>sector 26</td>\n",
       "      <td>31.50</td>\n",
       "      <td>35000.0</td>\n",
       "      <td>9000.0</td>\n",
       "      <td>plot area 1000(836.13 sq.m.)</td>\n",
       "      <td>7</td>\n",
       "      <td>9</td>\n",
       "      <td>3+</td>\n",
       "      <td>...</td>\n",
       "      <td>NaN</td>\n",
       "      <td>9000.0</td>\n",
       "      <td>NaN</td>\n",
       "      <td>1</td>\n",
       "      <td>1</td>\n",
       "      <td>1</td>\n",
       "      <td>1</td>\n",
       "      <td>0</td>\n",
       "      <td>2</td>\n",
       "      <td>74</td>\n",
       "    </tr>\n",
       "    <tr>\n",
       "      <th>966</th>\n",
       "      <td>house</td>\n",
       "      <td>vipul tatvam villa</td>\n",
       "      <td>sector 48</td>\n",
       "      <td>19.50</td>\n",
       "      <td>22222.0</td>\n",
       "      <td>8775.0</td>\n",
       "      <td>plot area 975(815.22 sq.m.)</td>\n",
       "      <td>5</td>\n",
       "      <td>6</td>\n",
       "      <td>3</td>\n",
       "      <td>...</td>\n",
       "      <td>NaN</td>\n",
       "      <td>8775.0</td>\n",
       "      <td>NaN</td>\n",
       "      <td>1</td>\n",
       "      <td>1</td>\n",
       "      <td>1</td>\n",
       "      <td>1</td>\n",
       "      <td>0</td>\n",
       "      <td>1</td>\n",
       "      <td>110</td>\n",
       "    </tr>\n",
       "    <tr>\n",
       "      <th>1266</th>\n",
       "      <td>house</td>\n",
       "      <td>emaar mgf marbella</td>\n",
       "      <td>sector 66</td>\n",
       "      <td>15.10</td>\n",
       "      <td>18605.0</td>\n",
       "      <td>8116.0</td>\n",
       "      <td>plot area 754</td>\n",
       "      <td>5</td>\n",
       "      <td>5</td>\n",
       "      <td>3+</td>\n",
       "      <td>...</td>\n",
       "      <td>NaN</td>\n",
       "      <td>8067.8</td>\n",
       "      <td>NaN</td>\n",
       "      <td>1</td>\n",
       "      <td>1</td>\n",
       "      <td>1</td>\n",
       "      <td>1</td>\n",
       "      <td>0</td>\n",
       "      <td>0</td>\n",
       "      <td>120</td>\n",
       "    </tr>\n",
       "    <tr>\n",
       "      <th>1325</th>\n",
       "      <td>house</td>\n",
       "      <td>ansal sushant lok plots</td>\n",
       "      <td>sector 43</td>\n",
       "      <td>11.50</td>\n",
       "      <td>17692.0</td>\n",
       "      <td>6500.0</td>\n",
       "      <td>plot area 3762(349.5 sq.m.)built up area: 9000...</td>\n",
       "      <td>7</td>\n",
       "      <td>8</td>\n",
       "      <td>3+</td>\n",
       "      <td>...</td>\n",
       "      <td>NaN</td>\n",
       "      <td>9000.0</td>\n",
       "      <td>6500.0</td>\n",
       "      <td>0</td>\n",
       "      <td>1</td>\n",
       "      <td>1</td>\n",
       "      <td>1</td>\n",
       "      <td>0</td>\n",
       "      <td>1</td>\n",
       "      <td>31</td>\n",
       "    </tr>\n",
       "    <tr>\n",
       "      <th>1471</th>\n",
       "      <td>house</td>\n",
       "      <td>independent</td>\n",
       "      <td>sector 4</td>\n",
       "      <td>0.85</td>\n",
       "      <td>630.0</td>\n",
       "      <td>13492.0</td>\n",
       "      <td>plot area 1500(1254.19 sq.m.)</td>\n",
       "      <td>3</td>\n",
       "      <td>3</td>\n",
       "      <td>1</td>\n",
       "      <td>...</td>\n",
       "      <td>NaN</td>\n",
       "      <td>13500.0</td>\n",
       "      <td>NaN</td>\n",
       "      <td>0</td>\n",
       "      <td>0</td>\n",
       "      <td>0</td>\n",
       "      <td>0</td>\n",
       "      <td>1</td>\n",
       "      <td>0</td>\n",
       "      <td>0</td>\n",
       "    </tr>\n",
       "    <tr>\n",
       "      <th>1648</th>\n",
       "      <td>flat</td>\n",
       "      <td>hcbs sports ville</td>\n",
       "      <td>sohna road</td>\n",
       "      <td>0.35</td>\n",
       "      <td>4.0</td>\n",
       "      <td>875000.0</td>\n",
       "      <td>built up area: 737147 (68483.2 sq.m.)</td>\n",
       "      <td>2</td>\n",
       "      <td>2</td>\n",
       "      <td>2</td>\n",
       "      <td>...</td>\n",
       "      <td>NaN</td>\n",
       "      <td>737147.0</td>\n",
       "      <td>NaN</td>\n",
       "      <td>0</td>\n",
       "      <td>0</td>\n",
       "      <td>0</td>\n",
       "      <td>0</td>\n",
       "      <td>0</td>\n",
       "      <td>2</td>\n",
       "      <td>44</td>\n",
       "    </tr>\n",
       "    <tr>\n",
       "      <th>1938</th>\n",
       "      <td>house</td>\n",
       "      <td>independent house sector 45</td>\n",
       "      <td>sector 40</td>\n",
       "      <td>9.00</td>\n",
       "      <td>38022.0</td>\n",
       "      <td>2367.0</td>\n",
       "      <td>plot area 2367(219.9 sq.m.)built up area: 9000...</td>\n",
       "      <td>12</td>\n",
       "      <td>12</td>\n",
       "      <td>3</td>\n",
       "      <td>...</td>\n",
       "      <td>NaN</td>\n",
       "      <td>9000.0</td>\n",
       "      <td>6000.0</td>\n",
       "      <td>0</td>\n",
       "      <td>1</td>\n",
       "      <td>0</td>\n",
       "      <td>0</td>\n",
       "      <td>0</td>\n",
       "      <td>1</td>\n",
       "      <td>71</td>\n",
       "    </tr>\n",
       "    <tr>\n",
       "      <th>1971</th>\n",
       "      <td>house</td>\n",
       "      <td>dlf alameda</td>\n",
       "      <td>sector 73</td>\n",
       "      <td>17.00</td>\n",
       "      <td>35109.0</td>\n",
       "      <td>4842.0</td>\n",
       "      <td>plot area 4842(449.84 sq.m.)built up area: 900...</td>\n",
       "      <td>5</td>\n",
       "      <td>8</td>\n",
       "      <td>3</td>\n",
       "      <td>...</td>\n",
       "      <td>NaN</td>\n",
       "      <td>9000.0</td>\n",
       "      <td>NaN</td>\n",
       "      <td>1</td>\n",
       "      <td>1</td>\n",
       "      <td>1</td>\n",
       "      <td>1</td>\n",
       "      <td>0</td>\n",
       "      <td>2</td>\n",
       "      <td>87</td>\n",
       "    </tr>\n",
       "    <tr>\n",
       "      <th>2432</th>\n",
       "      <td>house</td>\n",
       "      <td>independent</td>\n",
       "      <td>sector 56</td>\n",
       "      <td>8.00</td>\n",
       "      <td>9654.0</td>\n",
       "      <td>8287.0</td>\n",
       "      <td>plot area 362(33.63 sq.m.)built up area: 8286 ...</td>\n",
       "      <td>10</td>\n",
       "      <td>10</td>\n",
       "      <td>3+</td>\n",
       "      <td>...</td>\n",
       "      <td>NaN</td>\n",
       "      <td>8286.0</td>\n",
       "      <td>NaN</td>\n",
       "      <td>1</td>\n",
       "      <td>1</td>\n",
       "      <td>0</td>\n",
       "      <td>1</td>\n",
       "      <td>0</td>\n",
       "      <td>2</td>\n",
       "      <td>107</td>\n",
       "    </tr>\n",
       "    <tr>\n",
       "      <th>2765</th>\n",
       "      <td>house</td>\n",
       "      <td>independent</td>\n",
       "      <td>sector 26</td>\n",
       "      <td>23.00</td>\n",
       "      <td>25556.0</td>\n",
       "      <td>9000.0</td>\n",
       "      <td>plot area 1000(836.13 sq.m.)</td>\n",
       "      <td>4</td>\n",
       "      <td>4</td>\n",
       "      <td>3+</td>\n",
       "      <td>...</td>\n",
       "      <td>NaN</td>\n",
       "      <td>9000.0</td>\n",
       "      <td>NaN</td>\n",
       "      <td>1</td>\n",
       "      <td>1</td>\n",
       "      <td>1</td>\n",
       "      <td>1</td>\n",
       "      <td>0</td>\n",
       "      <td>1</td>\n",
       "      <td>145</td>\n",
       "    </tr>\n",
       "    <tr>\n",
       "      <th>2834</th>\n",
       "      <td>house</td>\n",
       "      <td>independent</td>\n",
       "      <td>sector 43</td>\n",
       "      <td>27.50</td>\n",
       "      <td>24366.0</td>\n",
       "      <td>11286.0</td>\n",
       "      <td>plot area 1254(1048.5 sq.m.)</td>\n",
       "      <td>6</td>\n",
       "      <td>7</td>\n",
       "      <td>3+</td>\n",
       "      <td>...</td>\n",
       "      <td>NaN</td>\n",
       "      <td>11286.0</td>\n",
       "      <td>NaN</td>\n",
       "      <td>1</td>\n",
       "      <td>1</td>\n",
       "      <td>0</td>\n",
       "      <td>1</td>\n",
       "      <td>1</td>\n",
       "      <td>1</td>\n",
       "      <td>42</td>\n",
       "    </tr>\n",
       "    <tr>\n",
       "      <th>3647</th>\n",
       "      <td>house</td>\n",
       "      <td>independent</td>\n",
       "      <td>sohna road road</td>\n",
       "      <td>6.25</td>\n",
       "      <td>6944.0</td>\n",
       "      <td>9001.0</td>\n",
       "      <td>plot area 1000(836.13 sq.m.)</td>\n",
       "      <td>3</td>\n",
       "      <td>3</td>\n",
       "      <td>0</td>\n",
       "      <td>...</td>\n",
       "      <td>NaN</td>\n",
       "      <td>9000.0</td>\n",
       "      <td>NaN</td>\n",
       "      <td>0</td>\n",
       "      <td>0</td>\n",
       "      <td>0</td>\n",
       "      <td>0</td>\n",
       "      <td>0</td>\n",
       "      <td>0</td>\n",
       "      <td>0</td>\n",
       "    </tr>\n",
       "  </tbody>\n",
       "</table>\n",
       "<p>14 rows × 23 columns</p>\n",
       "</div>"
      ],
      "text/plain": [
       "     property_type                                            society  \\\n",
       "114          house                                        independent   \n",
       "323          house                                    anamika enclave   \n",
       "821          house  arjun marg/ sector- 26 phase- 1/ golf course road   \n",
       "966          house                                 vipul tatvam villa   \n",
       "1266         house                                 emaar mgf marbella   \n",
       "1325         house                            ansal sushant lok plots   \n",
       "1471         house                                        independent   \n",
       "1648          flat                                  hcbs sports ville   \n",
       "1938         house                        independent house sector 45   \n",
       "1971         house                                        dlf alameda   \n",
       "2432         house                                        independent   \n",
       "2765         house                                        independent   \n",
       "2834         house                                        independent   \n",
       "3647         house                                        independent   \n",
       "\n",
       "               sector  price  price_per_sqft      area  \\\n",
       "114         sector 25  10.00         37037.0    2700.0   \n",
       "323         sector 12   6.00         14492.0    4140.0   \n",
       "821         sector 26  31.50         35000.0    9000.0   \n",
       "966         sector 48  19.50         22222.0    8775.0   \n",
       "1266        sector 66  15.10         18605.0    8116.0   \n",
       "1325        sector 43  11.50         17692.0    6500.0   \n",
       "1471         sector 4   0.85           630.0   13492.0   \n",
       "1648       sohna road   0.35             4.0  875000.0   \n",
       "1938        sector 40   9.00         38022.0    2367.0   \n",
       "1971        sector 73  17.00         35109.0    4842.0   \n",
       "2432        sector 56   8.00          9654.0    8287.0   \n",
       "2765        sector 26  23.00         25556.0    9000.0   \n",
       "2834        sector 43  27.50         24366.0   11286.0   \n",
       "3647  sohna road road   6.25          6944.0    9001.0   \n",
       "\n",
       "                                           areaWithType  bedRoom  bathroom  \\\n",
       "114   plot area 2700(250.84 sq.m.)built up area: 950...        5         5   \n",
       "323   plot area 4140(384.62 sq.m.)built up area: 900...        9         9   \n",
       "821                        plot area 1000(836.13 sq.m.)        7         9   \n",
       "966                         plot area 975(815.22 sq.m.)        5         6   \n",
       "1266                                      plot area 754        5         5   \n",
       "1325  plot area 3762(349.5 sq.m.)built up area: 9000...        7         8   \n",
       "1471                      plot area 1500(1254.19 sq.m.)        3         3   \n",
       "1648              built up area: 737147 (68483.2 sq.m.)        2         2   \n",
       "1938  plot area 2367(219.9 sq.m.)built up area: 9000...       12        12   \n",
       "1971  plot area 4842(449.84 sq.m.)built up area: 900...        5         8   \n",
       "2432  plot area 362(33.63 sq.m.)built up area: 8286 ...       10        10   \n",
       "2765                       plot area 1000(836.13 sq.m.)        4         4   \n",
       "2834                       plot area 1254(1048.5 sq.m.)        6         7   \n",
       "3647                       plot area 1000(836.13 sq.m.)        3         3   \n",
       "\n",
       "     balcony  ...  super_built_up_area built_up_area carpet_area  study room  \\\n",
       "114       3+  ...                  NaN        9500.0      9000.0           0   \n",
       "323       3+  ...                  NaN        9000.0         NaN           0   \n",
       "821       3+  ...                  NaN        9000.0         NaN           1   \n",
       "966        3  ...                  NaN        8775.0         NaN           1   \n",
       "1266      3+  ...                  NaN        8067.8         NaN           1   \n",
       "1325      3+  ...                  NaN        9000.0      6500.0           0   \n",
       "1471       1  ...                  NaN       13500.0         NaN           0   \n",
       "1648       2  ...                  NaN      737147.0         NaN           0   \n",
       "1938       3  ...                  NaN        9000.0      6000.0           0   \n",
       "1971       3  ...                  NaN        9000.0         NaN           1   \n",
       "2432      3+  ...                  NaN        8286.0         NaN           1   \n",
       "2765      3+  ...                  NaN        9000.0         NaN           1   \n",
       "2834      3+  ...                  NaN       11286.0         NaN           1   \n",
       "3647       0  ...                  NaN        9000.0         NaN           0   \n",
       "\n",
       "      servant room  store room  pooja room  others  furnishing_type  \\\n",
       "114              1           0           1       0                2   \n",
       "323              0           0           0       0                0   \n",
       "821              1           1           1       0                2   \n",
       "966              1           1           1       0                1   \n",
       "1266             1           1           1       0                0   \n",
       "1325             1           1           1       0                1   \n",
       "1471             0           0           0       1                0   \n",
       "1648             0           0           0       0                2   \n",
       "1938             1           0           0       0                1   \n",
       "1971             1           1           1       0                2   \n",
       "2432             1           0           1       0                2   \n",
       "2765             1           1           1       0                1   \n",
       "2834             1           0           1       1                1   \n",
       "3647             0           0           0       0                0   \n",
       "\n",
       "      luxury_score  \n",
       "114             29  \n",
       "323              9  \n",
       "821             74  \n",
       "966            110  \n",
       "1266           120  \n",
       "1325            31  \n",
       "1471             0  \n",
       "1648            44  \n",
       "1938            71  \n",
       "1971            87  \n",
       "2432           107  \n",
       "2765           145  \n",
       "2834            42  \n",
       "3647             0  \n",
       "\n",
       "[14 rows x 23 columns]"
      ]
     },
     "execution_count": 103,
     "metadata": {},
     "output_type": "execute_result"
    }
   ],
   "source": [
    "df[df.built_up_area>8000]"
   ]
  },
  {
   "cell_type": "code",
   "execution_count": 106,
   "id": "30791dfa-29e4-4a7b-85e9-b145be453067",
   "metadata": {},
   "outputs": [],
   "source": [
    "df = df.drop([1471, 1648])"
   ]
  },
  {
   "cell_type": "code",
   "execution_count": 107,
   "id": "51c7a164-b90e-4083-b687-b561ef7ab165",
   "metadata": {},
   "outputs": [
    {
     "name": "stderr",
     "output_type": "stream",
     "text": [
      "C:\\Users\\vinay\\anaconda3\\Lib\\site-packages\\seaborn\\_oldcore.py:1119: FutureWarning: use_inf_as_na option is deprecated and will be removed in a future version. Convert inf values to NaN before operating instead.\n",
      "  with pd.option_context('mode.use_inf_as_na', True):\n"
     ]
    },
    {
     "data": {
      "text/plain": [
       "<Axes: xlabel='built_up_area', ylabel='Count'>"
      ]
     },
     "execution_count": 107,
     "metadata": {},
     "output_type": "execute_result"
    },
    {
     "data": {
      "image/png": "[encoded data removed]",
      "text/plain": [
       "<Figure size 1500x400 with 1 Axes>"
      ]
     },
     "metadata": {},
     "output_type": "display_data"
    }
   ],
   "source": [
    "plt.figure(figsize = (15 , 4))\n",
    "sns.histplot(df['built_up_area'].dropna(), bins=50, color='skyblue', kde=False)"
   ]
  },
  {
   "cell_type": "code",
   "execution_count": 111,
   "id": "24d0230d-55db-40e1-a822-5b3e5b25c1de",
   "metadata": {},
   "outputs": [
    {
     "data": {
      "text/plain": [
       "<Axes: xlabel='built_up_area'>"
      ]
     },
     "execution_count": 111,
     "metadata": {},
     "output_type": "execute_result"
    },
    {
     "data": {
      "image/png": "[encoded data removed]",
      "text/plain": [
       "<Figure size 500x400 with 1 Axes>"
      ]
     },
     "metadata": {},
     "output_type": "display_data"
    }
   ],
   "source": [
    "sns.boxplot(x = 'built_up_area' , data = df , color = 'lightgreen')"
   ]
  },
  {
   "cell_type": "code",
   "execution_count": 113,
   "id": "684d2eba-93c1-43d2-a667-65337e8f263e",
   "metadata": {},
   "outputs": [
    {
     "data": {
      "text/html": [
       "<div>\n",
       "<style scoped>\n",
       "    .dataframe tbody tr th:only-of-type {\n",
       "        vertical-align: middle;\n",
       "    }\n",
       "\n",
       "    .dataframe tbody tr th {\n",
       "        vertical-align: top;\n",
       "    }\n",
       "\n",
       "    .dataframe thead th {\n",
       "        text-align: right;\n",
       "    }\n",
       "</style>\n",
       "<table border=\"1\" class=\"dataframe\">\n",
       "  <thead>\n",
       "    <tr style=\"text-align: right;\">\n",
       "      <th></th>\n",
       "      <th>property_type</th>\n",
       "      <th>society</th>\n",
       "      <th>sector</th>\n",
       "      <th>price</th>\n",
       "      <th>price_per_sqft</th>\n",
       "      <th>area</th>\n",
       "      <th>areaWithType</th>\n",
       "      <th>bedRoom</th>\n",
       "      <th>bathroom</th>\n",
       "      <th>balcony</th>\n",
       "      <th>...</th>\n",
       "      <th>super_built_up_area</th>\n",
       "      <th>built_up_area</th>\n",
       "      <th>carpet_area</th>\n",
       "      <th>study room</th>\n",
       "      <th>servant room</th>\n",
       "      <th>store room</th>\n",
       "      <th>pooja room</th>\n",
       "      <th>others</th>\n",
       "      <th>furnishing_type</th>\n",
       "      <th>luxury_score</th>\n",
       "    </tr>\n",
       "  </thead>\n",
       "  <tbody>\n",
       "    <tr>\n",
       "      <th>2834</th>\n",
       "      <td>house</td>\n",
       "      <td>independent</td>\n",
       "      <td>sector 43</td>\n",
       "      <td>27.50</td>\n",
       "      <td>24366.0</td>\n",
       "      <td>11286.0</td>\n",
       "      <td>plot area 1254(1048.5 sq.m.)</td>\n",
       "      <td>6</td>\n",
       "      <td>7</td>\n",
       "      <td>3+</td>\n",
       "      <td>...</td>\n",
       "      <td>NaN</td>\n",
       "      <td>11286.0</td>\n",
       "      <td>NaN</td>\n",
       "      <td>1</td>\n",
       "      <td>1</td>\n",
       "      <td>0</td>\n",
       "      <td>1</td>\n",
       "      <td>1</td>\n",
       "      <td>1</td>\n",
       "      <td>42</td>\n",
       "    </tr>\n",
       "    <tr>\n",
       "      <th>114</th>\n",
       "      <td>house</td>\n",
       "      <td>independent</td>\n",
       "      <td>sector 25</td>\n",
       "      <td>10.00</td>\n",
       "      <td>37037.0</td>\n",
       "      <td>2700.0</td>\n",
       "      <td>plot area 2700(250.84 sq.m.)built up area: 950...</td>\n",
       "      <td>5</td>\n",
       "      <td>5</td>\n",
       "      <td>3+</td>\n",
       "      <td>...</td>\n",
       "      <td>NaN</td>\n",
       "      <td>9500.0</td>\n",
       "      <td>9000.0</td>\n",
       "      <td>0</td>\n",
       "      <td>1</td>\n",
       "      <td>0</td>\n",
       "      <td>1</td>\n",
       "      <td>0</td>\n",
       "      <td>2</td>\n",
       "      <td>29</td>\n",
       "    </tr>\n",
       "    <tr>\n",
       "      <th>1938</th>\n",
       "      <td>house</td>\n",
       "      <td>independent house sector 45</td>\n",
       "      <td>sector 40</td>\n",
       "      <td>9.00</td>\n",
       "      <td>38022.0</td>\n",
       "      <td>2367.0</td>\n",
       "      <td>plot area 2367(219.9 sq.m.)built up area: 9000...</td>\n",
       "      <td>12</td>\n",
       "      <td>12</td>\n",
       "      <td>3</td>\n",
       "      <td>...</td>\n",
       "      <td>NaN</td>\n",
       "      <td>9000.0</td>\n",
       "      <td>6000.0</td>\n",
       "      <td>0</td>\n",
       "      <td>1</td>\n",
       "      <td>0</td>\n",
       "      <td>0</td>\n",
       "      <td>0</td>\n",
       "      <td>1</td>\n",
       "      <td>71</td>\n",
       "    </tr>\n",
       "    <tr>\n",
       "      <th>1325</th>\n",
       "      <td>house</td>\n",
       "      <td>ansal sushant lok plots</td>\n",
       "      <td>sector 43</td>\n",
       "      <td>11.50</td>\n",
       "      <td>17692.0</td>\n",
       "      <td>6500.0</td>\n",
       "      <td>plot area 3762(349.5 sq.m.)built up area: 9000...</td>\n",
       "      <td>7</td>\n",
       "      <td>8</td>\n",
       "      <td>3+</td>\n",
       "      <td>...</td>\n",
       "      <td>NaN</td>\n",
       "      <td>9000.0</td>\n",
       "      <td>6500.0</td>\n",
       "      <td>0</td>\n",
       "      <td>1</td>\n",
       "      <td>1</td>\n",
       "      <td>1</td>\n",
       "      <td>0</td>\n",
       "      <td>1</td>\n",
       "      <td>31</td>\n",
       "    </tr>\n",
       "    <tr>\n",
       "      <th>3647</th>\n",
       "      <td>house</td>\n",
       "      <td>independent</td>\n",
       "      <td>sohna road road</td>\n",
       "      <td>6.25</td>\n",
       "      <td>6944.0</td>\n",
       "      <td>9001.0</td>\n",
       "      <td>plot area 1000(836.13 sq.m.)</td>\n",
       "      <td>3</td>\n",
       "      <td>3</td>\n",
       "      <td>0</td>\n",
       "      <td>...</td>\n",
       "      <td>NaN</td>\n",
       "      <td>9000.0</td>\n",
       "      <td>NaN</td>\n",
       "      <td>0</td>\n",
       "      <td>0</td>\n",
       "      <td>0</td>\n",
       "      <td>0</td>\n",
       "      <td>0</td>\n",
       "      <td>0</td>\n",
       "      <td>0</td>\n",
       "    </tr>\n",
       "    <tr>\n",
       "      <th>323</th>\n",
       "      <td>house</td>\n",
       "      <td>anamika enclave</td>\n",
       "      <td>sector 12</td>\n",
       "      <td>6.00</td>\n",
       "      <td>14492.0</td>\n",
       "      <td>4140.0</td>\n",
       "      <td>plot area 4140(384.62 sq.m.)built up area: 900...</td>\n",
       "      <td>9</td>\n",
       "      <td>9</td>\n",
       "      <td>3+</td>\n",
       "      <td>...</td>\n",
       "      <td>NaN</td>\n",
       "      <td>9000.0</td>\n",
       "      <td>NaN</td>\n",
       "      <td>0</td>\n",
       "      <td>0</td>\n",
       "      <td>0</td>\n",
       "      <td>0</td>\n",
       "      <td>0</td>\n",
       "      <td>0</td>\n",
       "      <td>9</td>\n",
       "    </tr>\n",
       "    <tr>\n",
       "      <th>2765</th>\n",
       "      <td>house</td>\n",
       "      <td>independent</td>\n",
       "      <td>sector 26</td>\n",
       "      <td>23.00</td>\n",
       "      <td>25556.0</td>\n",
       "      <td>9000.0</td>\n",
       "      <td>plot area 1000(836.13 sq.m.)</td>\n",
       "      <td>4</td>\n",
       "      <td>4</td>\n",
       "      <td>3+</td>\n",
       "      <td>...</td>\n",
       "      <td>NaN</td>\n",
       "      <td>9000.0</td>\n",
       "      <td>NaN</td>\n",
       "      <td>1</td>\n",
       "      <td>1</td>\n",
       "      <td>1</td>\n",
       "      <td>1</td>\n",
       "      <td>0</td>\n",
       "      <td>1</td>\n",
       "      <td>145</td>\n",
       "    </tr>\n",
       "    <tr>\n",
       "      <th>821</th>\n",
       "      <td>house</td>\n",
       "      <td>arjun marg/ sector- 26 phase- 1/ golf course road</td>\n",
       "      <td>sector 26</td>\n",
       "      <td>31.50</td>\n",
       "      <td>35000.0</td>\n",
       "      <td>9000.0</td>\n",
       "      <td>plot area 1000(836.13 sq.m.)</td>\n",
       "      <td>7</td>\n",
       "      <td>9</td>\n",
       "      <td>3+</td>\n",
       "      <td>...</td>\n",
       "      <td>NaN</td>\n",
       "      <td>9000.0</td>\n",
       "      <td>NaN</td>\n",
       "      <td>1</td>\n",
       "      <td>1</td>\n",
       "      <td>1</td>\n",
       "      <td>1</td>\n",
       "      <td>0</td>\n",
       "      <td>2</td>\n",
       "      <td>74</td>\n",
       "    </tr>\n",
       "    <tr>\n",
       "      <th>1971</th>\n",
       "      <td>house</td>\n",
       "      <td>dlf alameda</td>\n",
       "      <td>sector 73</td>\n",
       "      <td>17.00</td>\n",
       "      <td>35109.0</td>\n",
       "      <td>4842.0</td>\n",
       "      <td>plot area 4842(449.84 sq.m.)built up area: 900...</td>\n",
       "      <td>5</td>\n",
       "      <td>8</td>\n",
       "      <td>3</td>\n",
       "      <td>...</td>\n",
       "      <td>NaN</td>\n",
       "      <td>9000.0</td>\n",
       "      <td>NaN</td>\n",
       "      <td>1</td>\n",
       "      <td>1</td>\n",
       "      <td>1</td>\n",
       "      <td>1</td>\n",
       "      <td>0</td>\n",
       "      <td>2</td>\n",
       "      <td>87</td>\n",
       "    </tr>\n",
       "    <tr>\n",
       "      <th>966</th>\n",
       "      <td>house</td>\n",
       "      <td>vipul tatvam villa</td>\n",
       "      <td>sector 48</td>\n",
       "      <td>19.50</td>\n",
       "      <td>22222.0</td>\n",
       "      <td>8775.0</td>\n",
       "      <td>plot area 975(815.22 sq.m.)</td>\n",
       "      <td>5</td>\n",
       "      <td>6</td>\n",
       "      <td>3</td>\n",
       "      <td>...</td>\n",
       "      <td>NaN</td>\n",
       "      <td>8775.0</td>\n",
       "      <td>NaN</td>\n",
       "      <td>1</td>\n",
       "      <td>1</td>\n",
       "      <td>1</td>\n",
       "      <td>1</td>\n",
       "      <td>0</td>\n",
       "      <td>1</td>\n",
       "      <td>110</td>\n",
       "    </tr>\n",
       "    <tr>\n",
       "      <th>2432</th>\n",
       "      <td>house</td>\n",
       "      <td>independent</td>\n",
       "      <td>sector 56</td>\n",
       "      <td>8.00</td>\n",
       "      <td>9654.0</td>\n",
       "      <td>8287.0</td>\n",
       "      <td>plot area 362(33.63 sq.m.)built up area: 8286 ...</td>\n",
       "      <td>10</td>\n",
       "      <td>10</td>\n",
       "      <td>3+</td>\n",
       "      <td>...</td>\n",
       "      <td>NaN</td>\n",
       "      <td>8286.0</td>\n",
       "      <td>NaN</td>\n",
       "      <td>1</td>\n",
       "      <td>1</td>\n",
       "      <td>0</td>\n",
       "      <td>1</td>\n",
       "      <td>0</td>\n",
       "      <td>2</td>\n",
       "      <td>107</td>\n",
       "    </tr>\n",
       "    <tr>\n",
       "      <th>1266</th>\n",
       "      <td>house</td>\n",
       "      <td>emaar mgf marbella</td>\n",
       "      <td>sector 66</td>\n",
       "      <td>15.10</td>\n",
       "      <td>18605.0</td>\n",
       "      <td>8116.0</td>\n",
       "      <td>plot area 754</td>\n",
       "      <td>5</td>\n",
       "      <td>5</td>\n",
       "      <td>3+</td>\n",
       "      <td>...</td>\n",
       "      <td>NaN</td>\n",
       "      <td>8067.8</td>\n",
       "      <td>NaN</td>\n",
       "      <td>1</td>\n",
       "      <td>1</td>\n",
       "      <td>1</td>\n",
       "      <td>1</td>\n",
       "      <td>0</td>\n",
       "      <td>0</td>\n",
       "      <td>120</td>\n",
       "    </tr>\n",
       "    <tr>\n",
       "      <th>3382</th>\n",
       "      <td>house</td>\n",
       "      <td>puri diplomatic greens</td>\n",
       "      <td>sector 111</td>\n",
       "      <td>9.00</td>\n",
       "      <td>11250.0</td>\n",
       "      <td>8000.0</td>\n",
       "      <td>built up area: 8000 (743.22 sq.m.)</td>\n",
       "      <td>5</td>\n",
       "      <td>5</td>\n",
       "      <td>3+</td>\n",
       "      <td>...</td>\n",
       "      <td>NaN</td>\n",
       "      <td>8000.0</td>\n",
       "      <td>NaN</td>\n",
       "      <td>0</td>\n",
       "      <td>1</td>\n",
       "      <td>0</td>\n",
       "      <td>0</td>\n",
       "      <td>0</td>\n",
       "      <td>0</td>\n",
       "      <td>112</td>\n",
       "    </tr>\n",
       "    <tr>\n",
       "      <th>78</th>\n",
       "      <td>house</td>\n",
       "      <td>independent</td>\n",
       "      <td>sector 17a</td>\n",
       "      <td>3.87</td>\n",
       "      <td>5160.0</td>\n",
       "      <td>7500.0</td>\n",
       "      <td>plot area 1623(150.78 sq.m.)built up area: 750...</td>\n",
       "      <td>19</td>\n",
       "      <td>17</td>\n",
       "      <td>3+</td>\n",
       "      <td>...</td>\n",
       "      <td>NaN</td>\n",
       "      <td>7500.0</td>\n",
       "      <td>NaN</td>\n",
       "      <td>1</td>\n",
       "      <td>0</td>\n",
       "      <td>1</td>\n",
       "      <td>0</td>\n",
       "      <td>0</td>\n",
       "      <td>0</td>\n",
       "      <td>68</td>\n",
       "    </tr>\n",
       "    <tr>\n",
       "      <th>1315</th>\n",
       "      <td>house</td>\n",
       "      <td>unitech palms south city 1</td>\n",
       "      <td>sector 41</td>\n",
       "      <td>9.35</td>\n",
       "      <td>28858.0</td>\n",
       "      <td>3240.0</td>\n",
       "      <td>plot area 3240(301.01 sq.m.)built up area: 750...</td>\n",
       "      <td>10</td>\n",
       "      <td>10</td>\n",
       "      <td>3+</td>\n",
       "      <td>...</td>\n",
       "      <td>NaN</td>\n",
       "      <td>7500.0</td>\n",
       "      <td>6000.0</td>\n",
       "      <td>1</td>\n",
       "      <td>1</td>\n",
       "      <td>0</td>\n",
       "      <td>0</td>\n",
       "      <td>0</td>\n",
       "      <td>1</td>\n",
       "      <td>70</td>\n",
       "    </tr>\n",
       "    <tr>\n",
       "      <th>2260</th>\n",
       "      <td>house</td>\n",
       "      <td>experion windchants</td>\n",
       "      <td>sector 112</td>\n",
       "      <td>9.50</td>\n",
       "      <td>23457.0</td>\n",
       "      <td>4050.0</td>\n",
       "      <td>plot area 450(376.26 sq.m.)built up area: 7450...</td>\n",
       "      <td>5</td>\n",
       "      <td>5</td>\n",
       "      <td>3</td>\n",
       "      <td>...</td>\n",
       "      <td>NaN</td>\n",
       "      <td>7450.0</td>\n",
       "      <td>NaN</td>\n",
       "      <td>0</td>\n",
       "      <td>1</td>\n",
       "      <td>0</td>\n",
       "      <td>0</td>\n",
       "      <td>0</td>\n",
       "      <td>0</td>\n",
       "      <td>45</td>\n",
       "    </tr>\n",
       "    <tr>\n",
       "      <th>723</th>\n",
       "      <td>house</td>\n",
       "      <td>sobha city</td>\n",
       "      <td>sector 108</td>\n",
       "      <td>10.50</td>\n",
       "      <td>14323.0</td>\n",
       "      <td>7331.0</td>\n",
       "      <td>built up area: 7331 (681.07 sq.m.)</td>\n",
       "      <td>5</td>\n",
       "      <td>4</td>\n",
       "      <td>3+</td>\n",
       "      <td>...</td>\n",
       "      <td>NaN</td>\n",
       "      <td>7331.0</td>\n",
       "      <td>NaN</td>\n",
       "      <td>0</td>\n",
       "      <td>0</td>\n",
       "      <td>0</td>\n",
       "      <td>0</td>\n",
       "      <td>0</td>\n",
       "      <td>0</td>\n",
       "      <td>59</td>\n",
       "    </tr>\n",
       "    <tr>\n",
       "      <th>2201</th>\n",
       "      <td>house</td>\n",
       "      <td>sobha city</td>\n",
       "      <td>sector 108</td>\n",
       "      <td>NaN</td>\n",
       "      <td>NaN</td>\n",
       "      <td>NaN</td>\n",
       "      <td>built up area: 7331 (681.07 sq.m.)</td>\n",
       "      <td>5</td>\n",
       "      <td>1</td>\n",
       "      <td>0</td>\n",
       "      <td>...</td>\n",
       "      <td>NaN</td>\n",
       "      <td>7331.0</td>\n",
       "      <td>NaN</td>\n",
       "      <td>0</td>\n",
       "      <td>0</td>\n",
       "      <td>0</td>\n",
       "      <td>0</td>\n",
       "      <td>0</td>\n",
       "      <td>0</td>\n",
       "      <td>59</td>\n",
       "    </tr>\n",
       "    <tr>\n",
       "      <th>1687</th>\n",
       "      <td>house</td>\n",
       "      <td>independent</td>\n",
       "      <td>sector 2</td>\n",
       "      <td>19.50</td>\n",
       "      <td>27083.0</td>\n",
       "      <td>7200.0</td>\n",
       "      <td>plot area 800(668.9 sq.m.)</td>\n",
       "      <td>8</td>\n",
       "      <td>9</td>\n",
       "      <td>3+</td>\n",
       "      <td>...</td>\n",
       "      <td>NaN</td>\n",
       "      <td>7200.0</td>\n",
       "      <td>NaN</td>\n",
       "      <td>1</td>\n",
       "      <td>1</td>\n",
       "      <td>0</td>\n",
       "      <td>1</td>\n",
       "      <td>0</td>\n",
       "      <td>0</td>\n",
       "      <td>122</td>\n",
       "    </tr>\n",
       "    <tr>\n",
       "      <th>2362</th>\n",
       "      <td>house</td>\n",
       "      <td>international city by sobha phase 1</td>\n",
       "      <td>sector 109</td>\n",
       "      <td>12.00</td>\n",
       "      <td>20000.0</td>\n",
       "      <td>6000.0</td>\n",
       "      <td>plot area 8000(743.22 sq.m.)built up area: 700...</td>\n",
       "      <td>5</td>\n",
       "      <td>6</td>\n",
       "      <td>3</td>\n",
       "      <td>...</td>\n",
       "      <td>NaN</td>\n",
       "      <td>7000.0</td>\n",
       "      <td>6000.0</td>\n",
       "      <td>1</td>\n",
       "      <td>1</td>\n",
       "      <td>0</td>\n",
       "      <td>0</td>\n",
       "      <td>0</td>\n",
       "      <td>1</td>\n",
       "      <td>154</td>\n",
       "    </tr>\n",
       "    <tr>\n",
       "      <th>2771</th>\n",
       "      <td>house</td>\n",
       "      <td>independent</td>\n",
       "      <td>sector 39</td>\n",
       "      <td>7.00</td>\n",
       "      <td>10000.0</td>\n",
       "      <td>7000.0</td>\n",
       "      <td>plot area 350(32.52 sq.m.)built up area: 7000 ...</td>\n",
       "      <td>10</td>\n",
       "      <td>11</td>\n",
       "      <td>3+</td>\n",
       "      <td>...</td>\n",
       "      <td>NaN</td>\n",
       "      <td>7000.0</td>\n",
       "      <td>NaN</td>\n",
       "      <td>0</td>\n",
       "      <td>0</td>\n",
       "      <td>0</td>\n",
       "      <td>1</td>\n",
       "      <td>0</td>\n",
       "      <td>2</td>\n",
       "      <td>38</td>\n",
       "    </tr>\n",
       "    <tr>\n",
       "      <th>2739</th>\n",
       "      <td>house</td>\n",
       "      <td>vipul tatvam villa</td>\n",
       "      <td>sector 48</td>\n",
       "      <td>18.50</td>\n",
       "      <td>26428.0</td>\n",
       "      <td>7000.0</td>\n",
       "      <td>plot area 7000(650.32 sq.m.)</td>\n",
       "      <td>4</td>\n",
       "      <td>4</td>\n",
       "      <td>1</td>\n",
       "      <td>...</td>\n",
       "      <td>NaN</td>\n",
       "      <td>7000.0</td>\n",
       "      <td>NaN</td>\n",
       "      <td>0</td>\n",
       "      <td>0</td>\n",
       "      <td>0</td>\n",
       "      <td>0</td>\n",
       "      <td>0</td>\n",
       "      <td>0</td>\n",
       "      <td>30</td>\n",
       "    </tr>\n",
       "    <tr>\n",
       "      <th>2734</th>\n",
       "      <td>house</td>\n",
       "      <td>dlf city phase 1</td>\n",
       "      <td>sector 26</td>\n",
       "      <td>9.25</td>\n",
       "      <td>47803.0</td>\n",
       "      <td>1935.0</td>\n",
       "      <td>plot area 1935(179.77 sq.m.)built up area: 700...</td>\n",
       "      <td>12</td>\n",
       "      <td>12</td>\n",
       "      <td>3+</td>\n",
       "      <td>...</td>\n",
       "      <td>NaN</td>\n",
       "      <td>7000.0</td>\n",
       "      <td>NaN</td>\n",
       "      <td>0</td>\n",
       "      <td>1</td>\n",
       "      <td>0</td>\n",
       "      <td>1</td>\n",
       "      <td>0</td>\n",
       "      <td>1</td>\n",
       "      <td>43</td>\n",
       "    </tr>\n",
       "    <tr>\n",
       "      <th>1417</th>\n",
       "      <td>house</td>\n",
       "      <td>international city by sobha phase 1</td>\n",
       "      <td>sector 109</td>\n",
       "      <td>6.30</td>\n",
       "      <td>9000.0</td>\n",
       "      <td>7000.0</td>\n",
       "      <td>built up area: 7000 (650.32 sq.m.)carpet area:...</td>\n",
       "      <td>4</td>\n",
       "      <td>5</td>\n",
       "      <td>3+</td>\n",
       "      <td>...</td>\n",
       "      <td>NaN</td>\n",
       "      <td>7000.0</td>\n",
       "      <td>4500.0</td>\n",
       "      <td>0</td>\n",
       "      <td>0</td>\n",
       "      <td>0</td>\n",
       "      <td>0</td>\n",
       "      <td>0</td>\n",
       "      <td>1</td>\n",
       "      <td>122</td>\n",
       "    </tr>\n",
       "    <tr>\n",
       "      <th>2280</th>\n",
       "      <td>house</td>\n",
       "      <td>unitech uniworld resorts</td>\n",
       "      <td>sector 33</td>\n",
       "      <td>8.00</td>\n",
       "      <td>11428.0</td>\n",
       "      <td>7000.0</td>\n",
       "      <td>plot area 7000(650.32 sq.m.)</td>\n",
       "      <td>4</td>\n",
       "      <td>4</td>\n",
       "      <td>3+</td>\n",
       "      <td>...</td>\n",
       "      <td>NaN</td>\n",
       "      <td>7000.0</td>\n",
       "      <td>NaN</td>\n",
       "      <td>1</td>\n",
       "      <td>1</td>\n",
       "      <td>1</td>\n",
       "      <td>1</td>\n",
       "      <td>0</td>\n",
       "      <td>0</td>\n",
       "      <td>77</td>\n",
       "    </tr>\n",
       "    <tr>\n",
       "      <th>2075</th>\n",
       "      <td>house</td>\n",
       "      <td>tata primanti</td>\n",
       "      <td>sector 72</td>\n",
       "      <td>8.60</td>\n",
       "      <td>12285.0</td>\n",
       "      <td>7000.0</td>\n",
       "      <td>built up area: 7000 (650.32 sq.m.)</td>\n",
       "      <td>4</td>\n",
       "      <td>5</td>\n",
       "      <td>3+</td>\n",
       "      <td>...</td>\n",
       "      <td>NaN</td>\n",
       "      <td>7000.0</td>\n",
       "      <td>NaN</td>\n",
       "      <td>0</td>\n",
       "      <td>0</td>\n",
       "      <td>0</td>\n",
       "      <td>0</td>\n",
       "      <td>0</td>\n",
       "      <td>1</td>\n",
       "      <td>30</td>\n",
       "    </tr>\n",
       "    <tr>\n",
       "      <th>1746</th>\n",
       "      <td>house</td>\n",
       "      <td>nirvana country</td>\n",
       "      <td>sector 50</td>\n",
       "      <td>10.00</td>\n",
       "      <td>14285.0</td>\n",
       "      <td>7000.0</td>\n",
       "      <td>built up area: 7000 (650.32 sq.m.)</td>\n",
       "      <td>5</td>\n",
       "      <td>7</td>\n",
       "      <td>2</td>\n",
       "      <td>...</td>\n",
       "      <td>NaN</td>\n",
       "      <td>7000.0</td>\n",
       "      <td>NaN</td>\n",
       "      <td>0</td>\n",
       "      <td>1</td>\n",
       "      <td>0</td>\n",
       "      <td>0</td>\n",
       "      <td>0</td>\n",
       "      <td>2</td>\n",
       "      <td>0</td>\n",
       "    </tr>\n",
       "    <tr>\n",
       "      <th>2808</th>\n",
       "      <td>house</td>\n",
       "      <td>independent</td>\n",
       "      <td>sector 25</td>\n",
       "      <td>13.50</td>\n",
       "      <td>19286.0</td>\n",
       "      <td>7000.0</td>\n",
       "      <td>built up area: 7000 (650.32 sq.m.)</td>\n",
       "      <td>9</td>\n",
       "      <td>9</td>\n",
       "      <td>0</td>\n",
       "      <td>...</td>\n",
       "      <td>NaN</td>\n",
       "      <td>7000.0</td>\n",
       "      <td>NaN</td>\n",
       "      <td>0</td>\n",
       "      <td>0</td>\n",
       "      <td>0</td>\n",
       "      <td>0</td>\n",
       "      <td>0</td>\n",
       "      <td>0</td>\n",
       "      <td>0</td>\n",
       "    </tr>\n",
       "    <tr>\n",
       "      <th>596</th>\n",
       "      <td>house</td>\n",
       "      <td>emaar mgf marbella</td>\n",
       "      <td>sector 66</td>\n",
       "      <td>NaN</td>\n",
       "      <td>NaN</td>\n",
       "      <td>NaN</td>\n",
       "      <td>plot area 350(292.64 sq.m.)built up area: 6500...</td>\n",
       "      <td>4</td>\n",
       "      <td>4</td>\n",
       "      <td>3+</td>\n",
       "      <td>...</td>\n",
       "      <td>NaN</td>\n",
       "      <td>6500.0</td>\n",
       "      <td>NaN</td>\n",
       "      <td>1</td>\n",
       "      <td>1</td>\n",
       "      <td>1</td>\n",
       "      <td>1</td>\n",
       "      <td>0</td>\n",
       "      <td>0</td>\n",
       "      <td>136</td>\n",
       "    </tr>\n",
       "    <tr>\n",
       "      <th>250</th>\n",
       "      <td>house</td>\n",
       "      <td>nul</td>\n",
       "      <td>sector 25</td>\n",
       "      <td>15.00</td>\n",
       "      <td>23437.0</td>\n",
       "      <td>6400.0</td>\n",
       "      <td>built up area: 6400 (594.58 sq.m.)</td>\n",
       "      <td>5</td>\n",
       "      <td>5</td>\n",
       "      <td>3</td>\n",
       "      <td>...</td>\n",
       "      <td>NaN</td>\n",
       "      <td>6400.0</td>\n",
       "      <td>NaN</td>\n",
       "      <td>1</td>\n",
       "      <td>1</td>\n",
       "      <td>0</td>\n",
       "      <td>1</td>\n",
       "      <td>0</td>\n",
       "      <td>1</td>\n",
       "      <td>112</td>\n",
       "    </tr>\n",
       "    <tr>\n",
       "      <th>3267</th>\n",
       "      <td>house</td>\n",
       "      <td>adani brahma samsara</td>\n",
       "      <td>sector 60</td>\n",
       "      <td>18.02</td>\n",
       "      <td>28200.0</td>\n",
       "      <td>6390.0</td>\n",
       "      <td>built up area: 6390 (593.65 sq.m.)</td>\n",
       "      <td>9</td>\n",
       "      <td>12</td>\n",
       "      <td>3+</td>\n",
       "      <td>...</td>\n",
       "      <td>NaN</td>\n",
       "      <td>6390.0</td>\n",
       "      <td>NaN</td>\n",
       "      <td>0</td>\n",
       "      <td>1</td>\n",
       "      <td>0</td>\n",
       "      <td>0</td>\n",
       "      <td>0</td>\n",
       "      <td>1</td>\n",
       "      <td>146</td>\n",
       "    </tr>\n",
       "    <tr>\n",
       "      <th>2495</th>\n",
       "      <td>house</td>\n",
       "      <td>experion windchants</td>\n",
       "      <td>sector 112</td>\n",
       "      <td>7.99</td>\n",
       "      <td>12519.0</td>\n",
       "      <td>6382.0</td>\n",
       "      <td>built up area: 6382 (592.91 sq.m.)</td>\n",
       "      <td>4</td>\n",
       "      <td>6</td>\n",
       "      <td>3</td>\n",
       "      <td>...</td>\n",
       "      <td>NaN</td>\n",
       "      <td>6382.0</td>\n",
       "      <td>NaN</td>\n",
       "      <td>0</td>\n",
       "      <td>1</td>\n",
       "      <td>1</td>\n",
       "      <td>1</td>\n",
       "      <td>0</td>\n",
       "      <td>1</td>\n",
       "      <td>129</td>\n",
       "    </tr>\n",
       "    <tr>\n",
       "      <th>178</th>\n",
       "      <td>house</td>\n",
       "      <td>experion windchants</td>\n",
       "      <td>sector 112</td>\n",
       "      <td>7.46</td>\n",
       "      <td>10260.0</td>\n",
       "      <td>7271.0</td>\n",
       "      <td>built up area: 6350 (589.93 sq.m.)</td>\n",
       "      <td>4</td>\n",
       "      <td>4</td>\n",
       "      <td>3+</td>\n",
       "      <td>...</td>\n",
       "      <td>NaN</td>\n",
       "      <td>6350.0</td>\n",
       "      <td>NaN</td>\n",
       "      <td>0</td>\n",
       "      <td>1</td>\n",
       "      <td>0</td>\n",
       "      <td>1</td>\n",
       "      <td>0</td>\n",
       "      <td>1</td>\n",
       "      <td>62</td>\n",
       "    </tr>\n",
       "    <tr>\n",
       "      <th>1107</th>\n",
       "      <td>house</td>\n",
       "      <td>tata primanti</td>\n",
       "      <td>sector 72</td>\n",
       "      <td>8.50</td>\n",
       "      <td>13492.0</td>\n",
       "      <td>6300.0</td>\n",
       "      <td>plot area 6300(585.29 sq.m.)</td>\n",
       "      <td>5</td>\n",
       "      <td>6</td>\n",
       "      <td>3+</td>\n",
       "      <td>...</td>\n",
       "      <td>NaN</td>\n",
       "      <td>6300.0</td>\n",
       "      <td>NaN</td>\n",
       "      <td>1</td>\n",
       "      <td>1</td>\n",
       "      <td>1</td>\n",
       "      <td>1</td>\n",
       "      <td>0</td>\n",
       "      <td>1</td>\n",
       "      <td>145</td>\n",
       "    </tr>\n",
       "    <tr>\n",
       "      <th>937</th>\n",
       "      <td>house</td>\n",
       "      <td>international city by sobha phase 1</td>\n",
       "      <td>sector 109</td>\n",
       "      <td>6.00</td>\n",
       "      <td>9634.0</td>\n",
       "      <td>6228.0</td>\n",
       "      <td>plot area 692(578.6 sq.m.)</td>\n",
       "      <td>4</td>\n",
       "      <td>5</td>\n",
       "      <td>3</td>\n",
       "      <td>...</td>\n",
       "      <td>NaN</td>\n",
       "      <td>6228.0</td>\n",
       "      <td>NaN</td>\n",
       "      <td>0</td>\n",
       "      <td>0</td>\n",
       "      <td>0</td>\n",
       "      <td>0</td>\n",
       "      <td>0</td>\n",
       "      <td>0</td>\n",
       "      <td>76</td>\n",
       "    </tr>\n",
       "    <tr>\n",
       "      <th>2618</th>\n",
       "      <td>house</td>\n",
       "      <td>international city by sobha phase 2</td>\n",
       "      <td>sector 109</td>\n",
       "      <td>6.25</td>\n",
       "      <td>10035.0</td>\n",
       "      <td>6228.0</td>\n",
       "      <td>plot area 692(578.6 sq.m.)</td>\n",
       "      <td>5</td>\n",
       "      <td>7</td>\n",
       "      <td>3+</td>\n",
       "      <td>...</td>\n",
       "      <td>NaN</td>\n",
       "      <td>6228.0</td>\n",
       "      <td>NaN</td>\n",
       "      <td>1</td>\n",
       "      <td>1</td>\n",
       "      <td>1</td>\n",
       "      <td>1</td>\n",
       "      <td>0</td>\n",
       "      <td>0</td>\n",
       "      <td>147</td>\n",
       "    </tr>\n",
       "    <tr>\n",
       "      <th>1063</th>\n",
       "      <td>house</td>\n",
       "      <td>international city by sobha phase 1</td>\n",
       "      <td>sector 109</td>\n",
       "      <td>6.75</td>\n",
       "      <td>10838.0</td>\n",
       "      <td>6228.0</td>\n",
       "      <td>plot area 692(578.6 sq.m.)</td>\n",
       "      <td>4</td>\n",
       "      <td>4</td>\n",
       "      <td>3+</td>\n",
       "      <td>...</td>\n",
       "      <td>NaN</td>\n",
       "      <td>6228.0</td>\n",
       "      <td>NaN</td>\n",
       "      <td>0</td>\n",
       "      <td>1</td>\n",
       "      <td>0</td>\n",
       "      <td>1</td>\n",
       "      <td>0</td>\n",
       "      <td>0</td>\n",
       "      <td>130</td>\n",
       "    </tr>\n",
       "    <tr>\n",
       "      <th>1553</th>\n",
       "      <td>house</td>\n",
       "      <td>international city by sobha phase 2</td>\n",
       "      <td>sector 109</td>\n",
       "      <td>7.00</td>\n",
       "      <td>11240.0</td>\n",
       "      <td>6228.0</td>\n",
       "      <td>plot area 692(578.6 sq.m.)</td>\n",
       "      <td>5</td>\n",
       "      <td>5</td>\n",
       "      <td>3+</td>\n",
       "      <td>...</td>\n",
       "      <td>NaN</td>\n",
       "      <td>6228.0</td>\n",
       "      <td>NaN</td>\n",
       "      <td>0</td>\n",
       "      <td>1</td>\n",
       "      <td>0</td>\n",
       "      <td>0</td>\n",
       "      <td>0</td>\n",
       "      <td>0</td>\n",
       "      <td>129</td>\n",
       "    </tr>\n",
       "    <tr>\n",
       "      <th>3799</th>\n",
       "      <td>house</td>\n",
       "      <td>international city by sobha phase 1</td>\n",
       "      <td>sector 109</td>\n",
       "      <td>6.00</td>\n",
       "      <td>9634.0</td>\n",
       "      <td>6228.0</td>\n",
       "      <td>plot area 692(578.6 sq.m.)</td>\n",
       "      <td>5</td>\n",
       "      <td>5</td>\n",
       "      <td>3+</td>\n",
       "      <td>...</td>\n",
       "      <td>NaN</td>\n",
       "      <td>6228.0</td>\n",
       "      <td>NaN</td>\n",
       "      <td>1</td>\n",
       "      <td>1</td>\n",
       "      <td>1</td>\n",
       "      <td>1</td>\n",
       "      <td>0</td>\n",
       "      <td>0</td>\n",
       "      <td>160</td>\n",
       "    </tr>\n",
       "  </tbody>\n",
       "</table>\n",
       "<p>39 rows × 23 columns</p>\n",
       "</div>"
      ],
      "text/plain": [
       "     property_type                                            society  \\\n",
       "2834         house                                        independent   \n",
       "114          house                                        independent   \n",
       "1938         house                        independent house sector 45   \n",
       "1325         house                            ansal sushant lok plots   \n",
       "3647         house                                        independent   \n",
       "323          house                                    anamika enclave   \n",
       "2765         house                                        independent   \n",
       "821          house  arjun marg/ sector- 26 phase- 1/ golf course road   \n",
       "1971         house                                        dlf alameda   \n",
       "966          house                                 vipul tatvam villa   \n",
       "2432         house                                        independent   \n",
       "1266         house                                 emaar mgf marbella   \n",
       "3382         house                             puri diplomatic greens   \n",
       "78           house                                        independent   \n",
       "1315         house                         unitech palms south city 1   \n",
       "2260         house                                experion windchants   \n",
       "723          house                                         sobha city   \n",
       "2201         house                                         sobha city   \n",
       "1687         house                                        independent   \n",
       "2362         house                international city by sobha phase 1   \n",
       "2771         house                                        independent   \n",
       "2739         house                                 vipul tatvam villa   \n",
       "2734         house                                   dlf city phase 1   \n",
       "1417         house                international city by sobha phase 1   \n",
       "2280         house                           unitech uniworld resorts   \n",
       "2075         house                                      tata primanti   \n",
       "1746         house                                    nirvana country   \n",
       "2808         house                                        independent   \n",
       "596          house                                 emaar mgf marbella   \n",
       "250          house                                                nul   \n",
       "3267         house                               adani brahma samsara   \n",
       "2495         house                                experion windchants   \n",
       "178          house                                experion windchants   \n",
       "1107         house                                      tata primanti   \n",
       "937          house                international city by sobha phase 1   \n",
       "2618         house                international city by sobha phase 2   \n",
       "1063         house                international city by sobha phase 1   \n",
       "1553         house                international city by sobha phase 2   \n",
       "3799         house                international city by sobha phase 1   \n",
       "\n",
       "               sector  price  price_per_sqft     area  \\\n",
       "2834        sector 43  27.50         24366.0  11286.0   \n",
       "114         sector 25  10.00         37037.0   2700.0   \n",
       "1938        sector 40   9.00         38022.0   2367.0   \n",
       "1325        sector 43  11.50         17692.0   6500.0   \n",
       "3647  sohna road road   6.25          6944.0   9001.0   \n",
       "323         sector 12   6.00         14492.0   4140.0   \n",
       "2765        sector 26  23.00         25556.0   9000.0   \n",
       "821         sector 26  31.50         35000.0   9000.0   \n",
       "1971        sector 73  17.00         35109.0   4842.0   \n",
       "966         sector 48  19.50         22222.0   8775.0   \n",
       "2432        sector 56   8.00          9654.0   8287.0   \n",
       "1266        sector 66  15.10         18605.0   8116.0   \n",
       "3382       sector 111   9.00         11250.0   8000.0   \n",
       "78         sector 17a   3.87          5160.0   7500.0   \n",
       "1315        sector 41   9.35         28858.0   3240.0   \n",
       "2260       sector 112   9.50         23457.0   4050.0   \n",
       "723        sector 108  10.50         14323.0   7331.0   \n",
       "2201       sector 108    NaN             NaN      NaN   \n",
       "1687         sector 2  19.50         27083.0   7200.0   \n",
       "2362       sector 109  12.00         20000.0   6000.0   \n",
       "2771        sector 39   7.00         10000.0   7000.0   \n",
       "2739        sector 48  18.50         26428.0   7000.0   \n",
       "2734        sector 26   9.25         47803.0   1935.0   \n",
       "1417       sector 109   6.30          9000.0   7000.0   \n",
       "2280        sector 33   8.00         11428.0   7000.0   \n",
       "2075        sector 72   8.60         12285.0   7000.0   \n",
       "1746        sector 50  10.00         14285.0   7000.0   \n",
       "2808        sector 25  13.50         19286.0   7000.0   \n",
       "596         sector 66    NaN             NaN      NaN   \n",
       "250         sector 25  15.00         23437.0   6400.0   \n",
       "3267        sector 60  18.02         28200.0   6390.0   \n",
       "2495       sector 112   7.99         12519.0   6382.0   \n",
       "178        sector 112   7.46         10260.0   7271.0   \n",
       "1107        sector 72   8.50         13492.0   6300.0   \n",
       "937        sector 109   6.00          9634.0   6228.0   \n",
       "2618       sector 109   6.25         10035.0   6228.0   \n",
       "1063       sector 109   6.75         10838.0   6228.0   \n",
       "1553       sector 109   7.00         11240.0   6228.0   \n",
       "3799       sector 109   6.00          9634.0   6228.0   \n",
       "\n",
       "                                           areaWithType  bedRoom  bathroom  \\\n",
       "2834                       plot area 1254(1048.5 sq.m.)        6         7   \n",
       "114   plot area 2700(250.84 sq.m.)built up area: 950...        5         5   \n",
       "1938  plot area 2367(219.9 sq.m.)built up area: 9000...       12        12   \n",
       "1325  plot area 3762(349.5 sq.m.)built up area: 9000...        7         8   \n",
       "3647                       plot area 1000(836.13 sq.m.)        3         3   \n",
       "323   plot area 4140(384.62 sq.m.)built up area: 900...        9         9   \n",
       "2765                       plot area 1000(836.13 sq.m.)        4         4   \n",
       "821                        plot area 1000(836.13 sq.m.)        7         9   \n",
       "1971  plot area 4842(449.84 sq.m.)built up area: 900...        5         8   \n",
       "966                         plot area 975(815.22 sq.m.)        5         6   \n",
       "2432  plot area 362(33.63 sq.m.)built up area: 8286 ...       10        10   \n",
       "1266                                      plot area 754        5         5   \n",
       "3382                 built up area: 8000 (743.22 sq.m.)        5         5   \n",
       "78    plot area 1623(150.78 sq.m.)built up area: 750...       19        17   \n",
       "1315  plot area 3240(301.01 sq.m.)built up area: 750...       10        10   \n",
       "2260  plot area 450(376.26 sq.m.)built up area: 7450...        5         5   \n",
       "723                  built up area: 7331 (681.07 sq.m.)        5         4   \n",
       "2201                 built up area: 7331 (681.07 sq.m.)        5         1   \n",
       "1687                         plot area 800(668.9 sq.m.)        8         9   \n",
       "2362  plot area 8000(743.22 sq.m.)built up area: 700...        5         6   \n",
       "2771  plot area 350(32.52 sq.m.)built up area: 7000 ...       10        11   \n",
       "2739                       plot area 7000(650.32 sq.m.)        4         4   \n",
       "2734  plot area 1935(179.77 sq.m.)built up area: 700...       12        12   \n",
       "1417  built up area: 7000 (650.32 sq.m.)carpet area:...        4         5   \n",
       "2280                       plot area 7000(650.32 sq.m.)        4         4   \n",
       "2075                 built up area: 7000 (650.32 sq.m.)        4         5   \n",
       "1746                 built up area: 7000 (650.32 sq.m.)        5         7   \n",
       "2808                 built up area: 7000 (650.32 sq.m.)        9         9   \n",
       "596   plot area 350(292.64 sq.m.)built up area: 6500...        4         4   \n",
       "250                  built up area: 6400 (594.58 sq.m.)        5         5   \n",
       "3267                 built up area: 6390 (593.65 sq.m.)        9        12   \n",
       "2495                 built up area: 6382 (592.91 sq.m.)        4         6   \n",
       "178                  built up area: 6350 (589.93 sq.m.)        4         4   \n",
       "1107                       plot area 6300(585.29 sq.m.)        5         6   \n",
       "937                          plot area 692(578.6 sq.m.)        4         5   \n",
       "2618                         plot area 692(578.6 sq.m.)        5         7   \n",
       "1063                         plot area 692(578.6 sq.m.)        4         4   \n",
       "1553                         plot area 692(578.6 sq.m.)        5         5   \n",
       "3799                         plot area 692(578.6 sq.m.)        5         5   \n",
       "\n",
       "     balcony  ...  super_built_up_area built_up_area carpet_area  study room  \\\n",
       "2834      3+  ...                  NaN       11286.0         NaN           1   \n",
       "114       3+  ...                  NaN        9500.0      9000.0           0   \n",
       "1938       3  ...                  NaN        9000.0      6000.0           0   \n",
       "1325      3+  ...                  NaN        9000.0      6500.0           0   \n",
       "3647       0  ...                  NaN        9000.0         NaN           0   \n",
       "323       3+  ...                  NaN        9000.0         NaN           0   \n",
       "2765      3+  ...                  NaN        9000.0         NaN           1   \n",
       "821       3+  ...                  NaN        9000.0         NaN           1   \n",
       "1971       3  ...                  NaN        9000.0         NaN           1   \n",
       "966        3  ...                  NaN        8775.0         NaN           1   \n",
       "2432      3+  ...                  NaN        8286.0         NaN           1   \n",
       "1266      3+  ...                  NaN        8067.8         NaN           1   \n",
       "3382      3+  ...                  NaN        8000.0         NaN           0   \n",
       "78        3+  ...                  NaN        7500.0         NaN           1   \n",
       "1315      3+  ...                  NaN        7500.0      6000.0           1   \n",
       "2260       3  ...                  NaN        7450.0         NaN           0   \n",
       "723       3+  ...                  NaN        7331.0         NaN           0   \n",
       "2201       0  ...                  NaN        7331.0         NaN           0   \n",
       "1687      3+  ...                  NaN        7200.0         NaN           1   \n",
       "2362       3  ...                  NaN        7000.0      6000.0           1   \n",
       "2771      3+  ...                  NaN        7000.0         NaN           0   \n",
       "2739       1  ...                  NaN        7000.0         NaN           0   \n",
       "2734      3+  ...                  NaN        7000.0         NaN           0   \n",
       "1417      3+  ...                  NaN        7000.0      4500.0           0   \n",
       "2280      3+  ...                  NaN        7000.0         NaN           1   \n",
       "2075      3+  ...                  NaN        7000.0         NaN           0   \n",
       "1746       2  ...                  NaN        7000.0         NaN           0   \n",
       "2808       0  ...                  NaN        7000.0         NaN           0   \n",
       "596       3+  ...                  NaN        6500.0         NaN           1   \n",
       "250        3  ...                  NaN        6400.0         NaN           1   \n",
       "3267      3+  ...                  NaN        6390.0         NaN           0   \n",
       "2495       3  ...                  NaN        6382.0         NaN           0   \n",
       "178       3+  ...                  NaN        6350.0         NaN           0   \n",
       "1107      3+  ...                  NaN        6300.0         NaN           1   \n",
       "937        3  ...                  NaN        6228.0         NaN           0   \n",
       "2618      3+  ...                  NaN        6228.0         NaN           1   \n",
       "1063      3+  ...                  NaN        6228.0         NaN           0   \n",
       "1553      3+  ...                  NaN        6228.0         NaN           0   \n",
       "3799      3+  ...                  NaN        6228.0         NaN           1   \n",
       "\n",
       "      servant room  store room  pooja room  others  furnishing_type  \\\n",
       "2834             1           0           1       1                1   \n",
       "114              1           0           1       0                2   \n",
       "1938             1           0           0       0                1   \n",
       "1325             1           1           1       0                1   \n",
       "3647             0           0           0       0                0   \n",
       "323              0           0           0       0                0   \n",
       "2765             1           1           1       0                1   \n",
       "821              1           1           1       0                2   \n",
       "1971             1           1           1       0                2   \n",
       "966              1           1           1       0                1   \n",
       "2432             1           0           1       0                2   \n",
       "1266             1           1           1       0                0   \n",
       "3382             1           0           0       0                0   \n",
       "78               0           1           0       0                0   \n",
       "1315             1           0           0       0                1   \n",
       "2260             1           0           0       0                0   \n",
       "723              0           0           0       0                0   \n",
       "2201             0           0           0       0                0   \n",
       "1687             1           0           1       0                0   \n",
       "2362             1           0           0       0                1   \n",
       "2771             0           0           1       0                2   \n",
       "2739             0           0           0       0                0   \n",
       "2734             1           0           1       0                1   \n",
       "1417             0           0           0       0                1   \n",
       "2280             1           1           1       0                0   \n",
       "2075             0           0           0       0                1   \n",
       "1746             1           0           0       0                2   \n",
       "2808             0           0           0       0                0   \n",
       "596              1           1           1       0                0   \n",
       "250              1           0           1       0                1   \n",
       "3267             1           0           0       0                1   \n",
       "2495             1           1           1       0                1   \n",
       "178              1           0           1       0                1   \n",
       "1107             1           1           1       0                1   \n",
       "937              0           0           0       0                0   \n",
       "2618             1           1           1       0                0   \n",
       "1063             1           0           1       0                0   \n",
       "1553             1           0           0       0                0   \n",
       "3799             1           1           1       0                0   \n",
       "\n",
       "      luxury_score  \n",
       "2834            42  \n",
       "114             29  \n",
       "1938            71  \n",
       "1325            31  \n",
       "3647             0  \n",
       "323              9  \n",
       "2765           145  \n",
       "821             74  \n",
       "1971            87  \n",
       "966            110  \n",
       "2432           107  \n",
       "1266           120  \n",
       "3382           112  \n",
       "78              68  \n",
       "1315            70  \n",
       "2260            45  \n",
       "723             59  \n",
       "2201            59  \n",
       "1687           122  \n",
       "2362           154  \n",
       "2771            38  \n",
       "2739            30  \n",
       "2734            43  \n",
       "1417           122  \n",
       "2280            77  \n",
       "2075            30  \n",
       "1746             0  \n",
       "2808             0  \n",
       "596            136  \n",
       "250            112  \n",
       "3267           146  \n",
       "2495           129  \n",
       "178             62  \n",
       "1107           145  \n",
       "937             76  \n",
       "2618           147  \n",
       "1063           130  \n",
       "1553           129  \n",
       "3799           160  \n",
       "\n",
       "[39 rows x 23 columns]"
      ]
     },
     "execution_count": 113,
     "metadata": {},
     "output_type": "execute_result"
    }
   ],
   "source": [
    "df[df.built_up_area>6000].sort_values(by='built_up_area',ascending = False\n",
    "                                     )"
   ]
  },
  {
   "cell_type": "code",
   "execution_count": 114,
   "id": "e59b2e02-2d74-429b-8f70-7a2d9536e391",
   "metadata": {},
   "outputs": [
    {
     "data": {
      "text/plain": [
       "1803"
      ]
     },
     "execution_count": 114,
     "metadata": {},
     "output_type": "execute_result"
    }
   ],
   "source": [
    "df['carpet_area'].isnull().sum()"
   ]
  },
  {
   "cell_type": "code",
   "execution_count": 115,
   "id": "5871f018-1a22-46b4-b339-cc4e3339842f",
   "metadata": {},
   "outputs": [
    {
     "data": {
      "text/plain": [
       "count      1872.000000\n",
       "mean       2529.179578\n",
       "std       22799.836442\n",
       "min          15.000000\n",
       "25%         843.000000\n",
       "50%        1300.000000\n",
       "75%        1790.000000\n",
       "max      607936.000000\n",
       "Name: carpet_area, dtype: float64"
      ]
     },
     "execution_count": 115,
     "metadata": {},
     "output_type": "execute_result"
    }
   ],
   "source": [
    "df['carpet_area'].describe()"
   ]
  },
  {
   "cell_type": "code",
   "execution_count": 116,
   "id": "4779c303-efcf-4a77-84f7-568cdd5ad0a0",
   "metadata": {},
   "outputs": [
    {
     "name": "stderr",
     "output_type": "stream",
     "text": [
      "C:\\Users\\vinay\\anaconda3\\Lib\\site-packages\\seaborn\\_oldcore.py:1119: FutureWarning: use_inf_as_na option is deprecated and will be removed in a future version. Convert inf values to NaN before operating instead.\n",
      "  with pd.option_context('mode.use_inf_as_na', True):\n"
     ]
    },
    {
     "data": {
      "text/plain": [
       "<Axes: xlabel='carpet_area', ylabel='Count'>"
      ]
     },
     "execution_count": 116,
     "metadata": {},
     "output_type": "execute_result"
    },
    {
     "data": {
      "image/png": "[encoded data removed]",
      "text/plain": [
       "<Figure size 500x400 with 1 Axes>"
      ]
     },
     "metadata": {},
     "output_type": "display_data"
    }
   ],
   "source": [
    "sns.histplot(df['carpet_area'].dropna(), bins=50, color='skyblue', kde=False)"
   ]
  },
  {
   "cell_type": "code",
   "execution_count": 124,
   "id": "6664f1cc-5cca-4b2d-8c43-f0b9c9edcbab",
   "metadata": {},
   "outputs": [],
   "source": [
    "df = df[~(df.carpet_area>500000)]"
   ]
  },
  {
   "cell_type": "code",
   "execution_count": 130,
   "id": "c8613942-692e-4731-8393-a0a37afaa675",
   "metadata": {},
   "outputs": [
    {
     "data": {
      "text/plain": [
       "count     1869.000000\n",
       "mean      1628.169700\n",
       "std       3384.669272\n",
       "min         15.000000\n",
       "25%        837.000000\n",
       "50%       1300.000000\n",
       "75%       1784.000000\n",
       "95%       2900.000000\n",
       "max      64529.000000\n",
       "Name: carpet_area, dtype: float64"
      ]
     },
     "execution_count": 130,
     "metadata": {},
     "output_type": "execute_result"
    }
   ],
   "source": [
    "df.carpet_area.describe(percentiles = [0.25 , 0.75 , 0.95])"
   ]
  },
  {
   "cell_type": "code",
   "execution_count": 128,
   "id": "ffb23474-b490-4f52-bb18-a05b758ccfcd",
   "metadata": {},
   "outputs": [
    {
     "name": "stderr",
     "output_type": "stream",
     "text": [
      "C:\\Users\\vinay\\anaconda3\\Lib\\site-packages\\seaborn\\_oldcore.py:1119: FutureWarning: use_inf_as_na option is deprecated and will be removed in a future version. Convert inf values to NaN before operating instead.\n",
      "  with pd.option_context('mode.use_inf_as_na', True):\n"
     ]
    },
    {
     "data": {
      "text/plain": [
       "<Axes: xlabel='carpet_area', ylabel='Count'>"
      ]
     },
     "execution_count": 128,
     "metadata": {},
     "output_type": "execute_result"
    },
    {
     "data": {
      "image/png": "[encoded data removed]",
      "text/plain": [
       "<Figure size 500x400 with 1 Axes>"
      ]
     },
     "metadata": {},
     "output_type": "display_data"
    }
   ],
   "source": [
    "sns.histplot(x = 'carpet_area' , data = df,bins = 50)"
   ]
  },
  {
   "cell_type": "code",
   "execution_count": 138,
   "id": "5b081410-2276-4f9a-93e7-2fd76e1df574",
   "metadata": {},
   "outputs": [],
   "source": [
    "df = df[~((df.carpet_area>2500) & (df.price<1)) ]"
   ]
  },
  {
   "cell_type": "code",
   "execution_count": 139,
   "id": "8e073108-7114-41ec-bbcc-c6c146643431",
   "metadata": {},
   "outputs": [
    {
     "data": {
      "text/plain": [
       "count     1860.000000\n",
       "mean      1433.036651\n",
       "std       1069.428875\n",
       "min         15.000000\n",
       "25%        833.720000\n",
       "50%       1296.000000\n",
       "75%       1760.500000\n",
       "95%       2850.500000\n",
       "max      18122.000000\n",
       "Name: carpet_area, dtype: float64"
      ]
     },
     "execution_count": 139,
     "metadata": {},
     "output_type": "execute_result"
    }
   ],
   "source": [
    "df.carpet_area.describe(percentiles = [0.25 , 0.75 , 0.95])"
   ]
  },
  {
   "cell_type": "code",
   "execution_count": 140,
   "id": "1e1df4a3-b78f-4544-ac6c-79d175fdf85c",
   "metadata": {},
   "outputs": [
    {
     "name": "stderr",
     "output_type": "stream",
     "text": [
      "C:\\Users\\vinay\\anaconda3\\Lib\\site-packages\\seaborn\\_oldcore.py:1119: FutureWarning: use_inf_as_na option is deprecated and will be removed in a future version. Convert inf values to NaN before operating instead.\n",
      "  with pd.option_context('mode.use_inf_as_na', True):\n"
     ]
    },
    {
     "data": {
      "text/plain": [
       "<Axes: xlabel='carpet_area', ylabel='Count'>"
      ]
     },
     "execution_count": 140,
     "metadata": {},
     "output_type": "execute_result"
    },
    {
     "data": {
      "image/png": "[encoded data removed]",
      "text/plain": [
       "<Figure size 500x400 with 1 Axes>"
      ]
     },
     "metadata": {},
     "output_type": "display_data"
    }
   ],
   "source": [
    "sns.histplot(x = 'carpet_area' , data = df,bins = 50)"
   ]
  },
  {
   "cell_type": "code",
   "execution_count": 141,
   "id": "5f5fa3ba-c12e-4e79-9884-995d99f519c3",
   "metadata": {},
   "outputs": [
    {
     "data": {
      "text/html": [
       "<div>\n",
       "<style scoped>\n",
       "    .dataframe tbody tr th:only-of-type {\n",
       "        vertical-align: middle;\n",
       "    }\n",
       "\n",
       "    .dataframe tbody tr th {\n",
       "        vertical-align: top;\n",
       "    }\n",
       "\n",
       "    .dataframe thead th {\n",
       "        text-align: right;\n",
       "    }\n",
       "</style>\n",
       "<table border=\"1\" class=\"dataframe\">\n",
       "  <thead>\n",
       "    <tr style=\"text-align: right;\">\n",
       "      <th></th>\n",
       "      <th>property_type</th>\n",
       "      <th>society</th>\n",
       "      <th>sector</th>\n",
       "      <th>price</th>\n",
       "      <th>price_per_sqft</th>\n",
       "      <th>area</th>\n",
       "      <th>areaWithType</th>\n",
       "      <th>bedRoom</th>\n",
       "      <th>bathroom</th>\n",
       "      <th>balcony</th>\n",
       "      <th>...</th>\n",
       "      <th>super_built_up_area</th>\n",
       "      <th>built_up_area</th>\n",
       "      <th>carpet_area</th>\n",
       "      <th>study room</th>\n",
       "      <th>servant room</th>\n",
       "      <th>store room</th>\n",
       "      <th>pooja room</th>\n",
       "      <th>others</th>\n",
       "      <th>furnishing_type</th>\n",
       "      <th>luxury_score</th>\n",
       "    </tr>\n",
       "  </thead>\n",
       "  <tbody>\n",
       "    <tr>\n",
       "      <th>114</th>\n",
       "      <td>house</td>\n",
       "      <td>independent</td>\n",
       "      <td>sector 25</td>\n",
       "      <td>10.00</td>\n",
       "      <td>37037.0</td>\n",
       "      <td>2700.0</td>\n",
       "      <td>plot area 2700(250.84 sq.m.)built up area: 950...</td>\n",
       "      <td>5</td>\n",
       "      <td>5</td>\n",
       "      <td>3+</td>\n",
       "      <td>...</td>\n",
       "      <td>NaN</td>\n",
       "      <td>9500.0</td>\n",
       "      <td>9000.0</td>\n",
       "      <td>0</td>\n",
       "      <td>1</td>\n",
       "      <td>0</td>\n",
       "      <td>1</td>\n",
       "      <td>0</td>\n",
       "      <td>2</td>\n",
       "      <td>29</td>\n",
       "    </tr>\n",
       "    <tr>\n",
       "      <th>130</th>\n",
       "      <td>flat</td>\n",
       "      <td>adani m2k oyster grande</td>\n",
       "      <td>sector 102</td>\n",
       "      <td>4.55</td>\n",
       "      <td>10000.0</td>\n",
       "      <td>4550.0</td>\n",
       "      <td>super built up area 4650(432 sq.m.)built up ar...</td>\n",
       "      <td>4</td>\n",
       "      <td>4</td>\n",
       "      <td>3+</td>\n",
       "      <td>...</td>\n",
       "      <td>4650.0</td>\n",
       "      <td>4630.0</td>\n",
       "      <td>4550.0</td>\n",
       "      <td>0</td>\n",
       "      <td>0</td>\n",
       "      <td>0</td>\n",
       "      <td>0</td>\n",
       "      <td>0</td>\n",
       "      <td>1</td>\n",
       "      <td>60</td>\n",
       "    </tr>\n",
       "    <tr>\n",
       "      <th>195</th>\n",
       "      <td>flat</td>\n",
       "      <td>residency grand</td>\n",
       "      <td>sector 52</td>\n",
       "      <td>5.00</td>\n",
       "      <td>7692.0</td>\n",
       "      <td>6500.0</td>\n",
       "      <td>carpet area: 5200 (483.1 sq.m.)</td>\n",
       "      <td>5</td>\n",
       "      <td>7</td>\n",
       "      <td>3+</td>\n",
       "      <td>...</td>\n",
       "      <td>NaN</td>\n",
       "      <td>NaN</td>\n",
       "      <td>5200.0</td>\n",
       "      <td>0</td>\n",
       "      <td>1</td>\n",
       "      <td>0</td>\n",
       "      <td>1</td>\n",
       "      <td>0</td>\n",
       "      <td>0</td>\n",
       "      <td>77</td>\n",
       "    </tr>\n",
       "    <tr>\n",
       "      <th>300</th>\n",
       "      <td>house</td>\n",
       "      <td>dlf city plot phase 4</td>\n",
       "      <td>sector 28</td>\n",
       "      <td>13.00</td>\n",
       "      <td>1992.0</td>\n",
       "      <td>65261.0</td>\n",
       "      <td>carpet area: 7250 (6061.92 sq.m.)</td>\n",
       "      <td>10</td>\n",
       "      <td>10</td>\n",
       "      <td>3+</td>\n",
       "      <td>...</td>\n",
       "      <td>NaN</td>\n",
       "      <td>NaN</td>\n",
       "      <td>7250.0</td>\n",
       "      <td>0</td>\n",
       "      <td>0</td>\n",
       "      <td>0</td>\n",
       "      <td>0</td>\n",
       "      <td>0</td>\n",
       "      <td>0</td>\n",
       "      <td>0</td>\n",
       "    </tr>\n",
       "    <tr>\n",
       "      <th>426</th>\n",
       "      <td>house</td>\n",
       "      <td>independent</td>\n",
       "      <td>sector 26</td>\n",
       "      <td>18.25</td>\n",
       "      <td>18250.0</td>\n",
       "      <td>10000.0</td>\n",
       "      <td>plot area 550(51.1 sq.m.)carpet area: 10000 sq...</td>\n",
       "      <td>7</td>\n",
       "      <td>9</td>\n",
       "      <td>3+</td>\n",
       "      <td>...</td>\n",
       "      <td>NaN</td>\n",
       "      <td>NaN</td>\n",
       "      <td>10000.0</td>\n",
       "      <td>1</td>\n",
       "      <td>1</td>\n",
       "      <td>1</td>\n",
       "      <td>1</td>\n",
       "      <td>0</td>\n",
       "      <td>1</td>\n",
       "      <td>77</td>\n",
       "    </tr>\n",
       "    <tr>\n",
       "      <th>442</th>\n",
       "      <td>flat</td>\n",
       "      <td>the penthouses at the hibiscus</td>\n",
       "      <td>sector 50</td>\n",
       "      <td>8.50</td>\n",
       "      <td>8500.0</td>\n",
       "      <td>10000.0</td>\n",
       "      <td>carpet area: 10000 (929.03 sq.m.)</td>\n",
       "      <td>4</td>\n",
       "      <td>4</td>\n",
       "      <td>3</td>\n",
       "      <td>...</td>\n",
       "      <td>NaN</td>\n",
       "      <td>NaN</td>\n",
       "      <td>10000.0</td>\n",
       "      <td>0</td>\n",
       "      <td>1</td>\n",
       "      <td>0</td>\n",
       "      <td>0</td>\n",
       "      <td>0</td>\n",
       "      <td>0</td>\n",
       "      <td>35</td>\n",
       "    </tr>\n",
       "    <tr>\n",
       "      <th>499</th>\n",
       "      <td>flat</td>\n",
       "      <td>beverley park 1</td>\n",
       "      <td>sector 43</td>\n",
       "      <td>8.44</td>\n",
       "      <td>16230.0</td>\n",
       "      <td>5200.0</td>\n",
       "      <td>super built up area 5200(483.1 sq.m.)built up ...</td>\n",
       "      <td>4</td>\n",
       "      <td>5</td>\n",
       "      <td>3</td>\n",
       "      <td>...</td>\n",
       "      <td>5200.0</td>\n",
       "      <td>5000.0</td>\n",
       "      <td>4900.0</td>\n",
       "      <td>0</td>\n",
       "      <td>1</td>\n",
       "      <td>0</td>\n",
       "      <td>0</td>\n",
       "      <td>0</td>\n",
       "      <td>2</td>\n",
       "      <td>117</td>\n",
       "    </tr>\n",
       "    <tr>\n",
       "      <th>550</th>\n",
       "      <td>house</td>\n",
       "      <td>emaar mgf marbella</td>\n",
       "      <td>sector 66</td>\n",
       "      <td>19.00</td>\n",
       "      <td>31666.0</td>\n",
       "      <td>6000.0</td>\n",
       "      <td>plot area 9000(836.13 sq.m.)carpet area: 6000 ...</td>\n",
       "      <td>5</td>\n",
       "      <td>6</td>\n",
       "      <td>3+</td>\n",
       "      <td>...</td>\n",
       "      <td>NaN</td>\n",
       "      <td>NaN</td>\n",
       "      <td>6000.0</td>\n",
       "      <td>0</td>\n",
       "      <td>1</td>\n",
       "      <td>1</td>\n",
       "      <td>1</td>\n",
       "      <td>0</td>\n",
       "      <td>1</td>\n",
       "      <td>110</td>\n",
       "    </tr>\n",
       "    <tr>\n",
       "      <th>695</th>\n",
       "      <td>flat</td>\n",
       "      <td>tulip ivory</td>\n",
       "      <td>sector 70</td>\n",
       "      <td>5.00</td>\n",
       "      <td>10416.0</td>\n",
       "      <td>4800.0</td>\n",
       "      <td>carpet area: 4800 (445.93 sq.m.)</td>\n",
       "      <td>6</td>\n",
       "      <td>7</td>\n",
       "      <td>3+</td>\n",
       "      <td>...</td>\n",
       "      <td>NaN</td>\n",
       "      <td>NaN</td>\n",
       "      <td>4800.0</td>\n",
       "      <td>1</td>\n",
       "      <td>1</td>\n",
       "      <td>0</td>\n",
       "      <td>0</td>\n",
       "      <td>0</td>\n",
       "      <td>0</td>\n",
       "      <td>119</td>\n",
       "    </tr>\n",
       "    <tr>\n",
       "      <th>769</th>\n",
       "      <td>flat</td>\n",
       "      <td>palam vihar society</td>\n",
       "      <td>sector 2</td>\n",
       "      <td>3.35</td>\n",
       "      <td>7444.0</td>\n",
       "      <td>4500.0</td>\n",
       "      <td>carpet area: 4500 (418.06 sq.m.)</td>\n",
       "      <td>4</td>\n",
       "      <td>4</td>\n",
       "      <td>3+</td>\n",
       "      <td>...</td>\n",
       "      <td>NaN</td>\n",
       "      <td>NaN</td>\n",
       "      <td>4500.0</td>\n",
       "      <td>1</td>\n",
       "      <td>0</td>\n",
       "      <td>0</td>\n",
       "      <td>0</td>\n",
       "      <td>0</td>\n",
       "      <td>0</td>\n",
       "      <td>66</td>\n",
       "    </tr>\n",
       "    <tr>\n",
       "      <th>818</th>\n",
       "      <td>house</td>\n",
       "      <td>independent</td>\n",
       "      <td>sector 26</td>\n",
       "      <td>18.40</td>\n",
       "      <td>1859.0</td>\n",
       "      <td>98978.0</td>\n",
       "      <td>plot area 502(419.74 sq.m.)carpet area: 11000 ...</td>\n",
       "      <td>6</td>\n",
       "      <td>8</td>\n",
       "      <td>3+</td>\n",
       "      <td>...</td>\n",
       "      <td>NaN</td>\n",
       "      <td>NaN</td>\n",
       "      <td>11000.0</td>\n",
       "      <td>0</td>\n",
       "      <td>1</td>\n",
       "      <td>1</td>\n",
       "      <td>1</td>\n",
       "      <td>0</td>\n",
       "      <td>1</td>\n",
       "      <td>60</td>\n",
       "    </tr>\n",
       "    <tr>\n",
       "      <th>952</th>\n",
       "      <td>flat</td>\n",
       "      <td>jmd gardens</td>\n",
       "      <td>sector 33</td>\n",
       "      <td>3.25</td>\n",
       "      <td>7510.0</td>\n",
       "      <td>4328.0</td>\n",
       "      <td>carpet area: 4328 (402.08 sq.m.)</td>\n",
       "      <td>4</td>\n",
       "      <td>4</td>\n",
       "      <td>3+</td>\n",
       "      <td>...</td>\n",
       "      <td>NaN</td>\n",
       "      <td>NaN</td>\n",
       "      <td>4328.0</td>\n",
       "      <td>0</td>\n",
       "      <td>1</td>\n",
       "      <td>0</td>\n",
       "      <td>0</td>\n",
       "      <td>0</td>\n",
       "      <td>1</td>\n",
       "      <td>130</td>\n",
       "    </tr>\n",
       "    <tr>\n",
       "      <th>1045</th>\n",
       "      <td>flat</td>\n",
       "      <td>ats triumph</td>\n",
       "      <td>sector 104</td>\n",
       "      <td>4.45</td>\n",
       "      <td>6846.0</td>\n",
       "      <td>6500.0</td>\n",
       "      <td>carpet area: 6500 (603.87 sq.m.)</td>\n",
       "      <td>4</td>\n",
       "      <td>5</td>\n",
       "      <td>3+</td>\n",
       "      <td>...</td>\n",
       "      <td>NaN</td>\n",
       "      <td>NaN</td>\n",
       "      <td>6500.0</td>\n",
       "      <td>0</td>\n",
       "      <td>0</td>\n",
       "      <td>0</td>\n",
       "      <td>0</td>\n",
       "      <td>0</td>\n",
       "      <td>0</td>\n",
       "      <td>110</td>\n",
       "    </tr>\n",
       "    <tr>\n",
       "      <th>1269</th>\n",
       "      <td>house</td>\n",
       "      <td>independent</td>\n",
       "      <td>sector 47</td>\n",
       "      <td>5.25</td>\n",
       "      <td>11666.0</td>\n",
       "      <td>4500.0</td>\n",
       "      <td>plot area 1944(180.6 sq.m.)built up area: 4650...</td>\n",
       "      <td>9</td>\n",
       "      <td>9</td>\n",
       "      <td>3+</td>\n",
       "      <td>...</td>\n",
       "      <td>NaN</td>\n",
       "      <td>4650.0</td>\n",
       "      <td>4500.0</td>\n",
       "      <td>0</td>\n",
       "      <td>1</td>\n",
       "      <td>0</td>\n",
       "      <td>0</td>\n",
       "      <td>0</td>\n",
       "      <td>1</td>\n",
       "      <td>142</td>\n",
       "    </tr>\n",
       "    <tr>\n",
       "      <th>1310</th>\n",
       "      <td>house</td>\n",
       "      <td>unitech palms south city 1</td>\n",
       "      <td>sector 41</td>\n",
       "      <td>9.25</td>\n",
       "      <td>28549.0</td>\n",
       "      <td>3240.0</td>\n",
       "      <td>plot area 3240(301.01 sq.m.)built up area: 500...</td>\n",
       "      <td>9</td>\n",
       "      <td>9</td>\n",
       "      <td>3+</td>\n",
       "      <td>...</td>\n",
       "      <td>NaN</td>\n",
       "      <td>5000.0</td>\n",
       "      <td>4500.0</td>\n",
       "      <td>1</td>\n",
       "      <td>1</td>\n",
       "      <td>1</td>\n",
       "      <td>1</td>\n",
       "      <td>0</td>\n",
       "      <td>1</td>\n",
       "      <td>65</td>\n",
       "    </tr>\n",
       "    <tr>\n",
       "      <th>1315</th>\n",
       "      <td>house</td>\n",
       "      <td>unitech palms south city 1</td>\n",
       "      <td>sector 41</td>\n",
       "      <td>9.35</td>\n",
       "      <td>28858.0</td>\n",
       "      <td>3240.0</td>\n",
       "      <td>plot area 3240(301.01 sq.m.)built up area: 750...</td>\n",
       "      <td>10</td>\n",
       "      <td>10</td>\n",
       "      <td>3+</td>\n",
       "      <td>...</td>\n",
       "      <td>NaN</td>\n",
       "      <td>7500.0</td>\n",
       "      <td>6000.0</td>\n",
       "      <td>1</td>\n",
       "      <td>1</td>\n",
       "      <td>0</td>\n",
       "      <td>0</td>\n",
       "      <td>0</td>\n",
       "      <td>1</td>\n",
       "      <td>70</td>\n",
       "    </tr>\n",
       "    <tr>\n",
       "      <th>1325</th>\n",
       "      <td>house</td>\n",
       "      <td>ansal sushant lok plots</td>\n",
       "      <td>sector 43</td>\n",
       "      <td>11.50</td>\n",
       "      <td>17692.0</td>\n",
       "      <td>6500.0</td>\n",
       "      <td>plot area 3762(349.5 sq.m.)built up area: 9000...</td>\n",
       "      <td>7</td>\n",
       "      <td>8</td>\n",
       "      <td>3+</td>\n",
       "      <td>...</td>\n",
       "      <td>NaN</td>\n",
       "      <td>9000.0</td>\n",
       "      <td>6500.0</td>\n",
       "      <td>0</td>\n",
       "      <td>1</td>\n",
       "      <td>1</td>\n",
       "      <td>1</td>\n",
       "      <td>0</td>\n",
       "      <td>1</td>\n",
       "      <td>31</td>\n",
       "    </tr>\n",
       "    <tr>\n",
       "      <th>1375</th>\n",
       "      <td>house</td>\n",
       "      <td>ansals palam vihar</td>\n",
       "      <td>sector 2</td>\n",
       "      <td>5.70</td>\n",
       "      <td>14729.0</td>\n",
       "      <td>3870.0</td>\n",
       "      <td>plot area 430(359.53 sq.m.)built up area: 4550...</td>\n",
       "      <td>5</td>\n",
       "      <td>5</td>\n",
       "      <td>2</td>\n",
       "      <td>...</td>\n",
       "      <td>NaN</td>\n",
       "      <td>4550.0</td>\n",
       "      <td>4450.0</td>\n",
       "      <td>0</td>\n",
       "      <td>0</td>\n",
       "      <td>0</td>\n",
       "      <td>1</td>\n",
       "      <td>0</td>\n",
       "      <td>2</td>\n",
       "      <td>94</td>\n",
       "    </tr>\n",
       "    <tr>\n",
       "      <th>1417</th>\n",
       "      <td>house</td>\n",
       "      <td>international city by sobha phase 1</td>\n",
       "      <td>sector 109</td>\n",
       "      <td>6.30</td>\n",
       "      <td>9000.0</td>\n",
       "      <td>7000.0</td>\n",
       "      <td>built up area: 7000 (650.32 sq.m.)carpet area:...</td>\n",
       "      <td>4</td>\n",
       "      <td>5</td>\n",
       "      <td>3+</td>\n",
       "      <td>...</td>\n",
       "      <td>NaN</td>\n",
       "      <td>7000.0</td>\n",
       "      <td>4500.0</td>\n",
       "      <td>0</td>\n",
       "      <td>0</td>\n",
       "      <td>0</td>\n",
       "      <td>0</td>\n",
       "      <td>0</td>\n",
       "      <td>1</td>\n",
       "      <td>122</td>\n",
       "    </tr>\n",
       "    <tr>\n",
       "      <th>1548</th>\n",
       "      <td>flat</td>\n",
       "      <td>vatika sovereign next</td>\n",
       "      <td>sector 82a</td>\n",
       "      <td>3.85</td>\n",
       "      <td>7500.0</td>\n",
       "      <td>5133.0</td>\n",
       "      <td>carpet area: 5140 (477.52 sq.m.)</td>\n",
       "      <td>5</td>\n",
       "      <td>6</td>\n",
       "      <td>3+</td>\n",
       "      <td>...</td>\n",
       "      <td>NaN</td>\n",
       "      <td>NaN</td>\n",
       "      <td>5140.0</td>\n",
       "      <td>0</td>\n",
       "      <td>1</td>\n",
       "      <td>0</td>\n",
       "      <td>1</td>\n",
       "      <td>0</td>\n",
       "      <td>0</td>\n",
       "      <td>148</td>\n",
       "    </tr>\n",
       "    <tr>\n",
       "      <th>1683</th>\n",
       "      <td>house</td>\n",
       "      <td>independent</td>\n",
       "      <td>sector 25</td>\n",
       "      <td>8.00</td>\n",
       "      <td>8000.0</td>\n",
       "      <td>10000.0</td>\n",
       "      <td>carpet area: 10000 (929.03 sq.m.)</td>\n",
       "      <td>3</td>\n",
       "      <td>9</td>\n",
       "      <td>2</td>\n",
       "      <td>...</td>\n",
       "      <td>NaN</td>\n",
       "      <td>NaN</td>\n",
       "      <td>10000.0</td>\n",
       "      <td>0</td>\n",
       "      <td>0</td>\n",
       "      <td>0</td>\n",
       "      <td>0</td>\n",
       "      <td>0</td>\n",
       "      <td>0</td>\n",
       "      <td>0</td>\n",
       "    </tr>\n",
       "    <tr>\n",
       "      <th>1816</th>\n",
       "      <td>flat</td>\n",
       "      <td>dlf beverly park</td>\n",
       "      <td>sector 25</td>\n",
       "      <td>8.00</td>\n",
       "      <td>15384.0</td>\n",
       "      <td>5200.0</td>\n",
       "      <td>carpet area: 5200 (483.1 sq.m.)</td>\n",
       "      <td>5</td>\n",
       "      <td>5</td>\n",
       "      <td>3+</td>\n",
       "      <td>...</td>\n",
       "      <td>NaN</td>\n",
       "      <td>NaN</td>\n",
       "      <td>5200.0</td>\n",
       "      <td>1</td>\n",
       "      <td>1</td>\n",
       "      <td>0</td>\n",
       "      <td>1</td>\n",
       "      <td>1</td>\n",
       "      <td>2</td>\n",
       "      <td>26</td>\n",
       "    </tr>\n",
       "    <tr>\n",
       "      <th>1938</th>\n",
       "      <td>house</td>\n",
       "      <td>independent house sector 45</td>\n",
       "      <td>sector 40</td>\n",
       "      <td>9.00</td>\n",
       "      <td>38022.0</td>\n",
       "      <td>2367.0</td>\n",
       "      <td>plot area 2367(219.9 sq.m.)built up area: 9000...</td>\n",
       "      <td>12</td>\n",
       "      <td>12</td>\n",
       "      <td>3</td>\n",
       "      <td>...</td>\n",
       "      <td>NaN</td>\n",
       "      <td>9000.0</td>\n",
       "      <td>6000.0</td>\n",
       "      <td>0</td>\n",
       "      <td>1</td>\n",
       "      <td>0</td>\n",
       "      <td>0</td>\n",
       "      <td>0</td>\n",
       "      <td>1</td>\n",
       "      <td>71</td>\n",
       "    </tr>\n",
       "    <tr>\n",
       "      <th>2088</th>\n",
       "      <td>house</td>\n",
       "      <td>independent</td>\n",
       "      <td>sector 12</td>\n",
       "      <td>3.50</td>\n",
       "      <td>133079.0</td>\n",
       "      <td>263.0</td>\n",
       "      <td>plot area 263(24.43 sq.m.)built up area: 4800 ...</td>\n",
       "      <td>8</td>\n",
       "      <td>8</td>\n",
       "      <td>3+</td>\n",
       "      <td>...</td>\n",
       "      <td>NaN</td>\n",
       "      <td>4800.0</td>\n",
       "      <td>4400.0</td>\n",
       "      <td>1</td>\n",
       "      <td>1</td>\n",
       "      <td>0</td>\n",
       "      <td>1</td>\n",
       "      <td>0</td>\n",
       "      <td>2</td>\n",
       "      <td>77</td>\n",
       "    </tr>\n",
       "    <tr>\n",
       "      <th>2131</th>\n",
       "      <td>flat</td>\n",
       "      <td>godrej air</td>\n",
       "      <td>sector 85</td>\n",
       "      <td>2.50</td>\n",
       "      <td>1379.0</td>\n",
       "      <td>18129.0</td>\n",
       "      <td>carpet area: 18122 (1683.59 sq.m.)</td>\n",
       "      <td>4</td>\n",
       "      <td>5</td>\n",
       "      <td>3+</td>\n",
       "      <td>...</td>\n",
       "      <td>NaN</td>\n",
       "      <td>NaN</td>\n",
       "      <td>18122.0</td>\n",
       "      <td>1</td>\n",
       "      <td>0</td>\n",
       "      <td>0</td>\n",
       "      <td>1</td>\n",
       "      <td>1</td>\n",
       "      <td>1</td>\n",
       "      <td>44</td>\n",
       "    </tr>\n",
       "    <tr>\n",
       "      <th>2342</th>\n",
       "      <td>flat</td>\n",
       "      <td>m3m golfestate</td>\n",
       "      <td>sector 65</td>\n",
       "      <td>13.20</td>\n",
       "      <td>12000.0</td>\n",
       "      <td>11000.0</td>\n",
       "      <td>carpet area: 11000 (1021.93 sq.m.)</td>\n",
       "      <td>4</td>\n",
       "      <td>4</td>\n",
       "      <td>3</td>\n",
       "      <td>...</td>\n",
       "      <td>NaN</td>\n",
       "      <td>NaN</td>\n",
       "      <td>11000.0</td>\n",
       "      <td>0</td>\n",
       "      <td>1</td>\n",
       "      <td>0</td>\n",
       "      <td>0</td>\n",
       "      <td>0</td>\n",
       "      <td>0</td>\n",
       "      <td>60</td>\n",
       "    </tr>\n",
       "    <tr>\n",
       "      <th>2362</th>\n",
       "      <td>house</td>\n",
       "      <td>international city by sobha phase 1</td>\n",
       "      <td>sector 109</td>\n",
       "      <td>12.00</td>\n",
       "      <td>20000.0</td>\n",
       "      <td>6000.0</td>\n",
       "      <td>plot area 8000(743.22 sq.m.)built up area: 700...</td>\n",
       "      <td>5</td>\n",
       "      <td>6</td>\n",
       "      <td>3</td>\n",
       "      <td>...</td>\n",
       "      <td>NaN</td>\n",
       "      <td>7000.0</td>\n",
       "      <td>6000.0</td>\n",
       "      <td>1</td>\n",
       "      <td>1</td>\n",
       "      <td>0</td>\n",
       "      <td>0</td>\n",
       "      <td>0</td>\n",
       "      <td>1</td>\n",
       "      <td>154</td>\n",
       "    </tr>\n",
       "    <tr>\n",
       "      <th>2405</th>\n",
       "      <td>house</td>\n",
       "      <td>emaar mgf marbella</td>\n",
       "      <td>sector 66</td>\n",
       "      <td>9.00</td>\n",
       "      <td>21251.0</td>\n",
       "      <td>4235.0</td>\n",
       "      <td>plot area 5605(520.72 sq.m.)built up area: 520...</td>\n",
       "      <td>4</td>\n",
       "      <td>4</td>\n",
       "      <td>3+</td>\n",
       "      <td>...</td>\n",
       "      <td>NaN</td>\n",
       "      <td>5200.0</td>\n",
       "      <td>4235.0</td>\n",
       "      <td>0</td>\n",
       "      <td>1</td>\n",
       "      <td>1</td>\n",
       "      <td>1</td>\n",
       "      <td>0</td>\n",
       "      <td>1</td>\n",
       "      <td>114</td>\n",
       "    </tr>\n",
       "    <tr>\n",
       "      <th>2447</th>\n",
       "      <td>flat</td>\n",
       "      <td>central park 2 bellevue</td>\n",
       "      <td>sector 48</td>\n",
       "      <td>5.00</td>\n",
       "      <td>11627.0</td>\n",
       "      <td>4300.0</td>\n",
       "      <td>carpet area: 4300 (399.48 sq.m.)</td>\n",
       "      <td>3</td>\n",
       "      <td>4</td>\n",
       "      <td>3</td>\n",
       "      <td>...</td>\n",
       "      <td>NaN</td>\n",
       "      <td>NaN</td>\n",
       "      <td>4300.0</td>\n",
       "      <td>0</td>\n",
       "      <td>0</td>\n",
       "      <td>0</td>\n",
       "      <td>0</td>\n",
       "      <td>0</td>\n",
       "      <td>0</td>\n",
       "      <td>82</td>\n",
       "    </tr>\n",
       "    <tr>\n",
       "      <th>2491</th>\n",
       "      <td>flat</td>\n",
       "      <td>the penthouses at the hibiscus</td>\n",
       "      <td>sector 50</td>\n",
       "      <td>8.00</td>\n",
       "      <td>8888.0</td>\n",
       "      <td>9001.0</td>\n",
       "      <td>carpet area: 9000 (836.13 sq.m.)</td>\n",
       "      <td>4</td>\n",
       "      <td>3</td>\n",
       "      <td>3</td>\n",
       "      <td>...</td>\n",
       "      <td>NaN</td>\n",
       "      <td>NaN</td>\n",
       "      <td>9000.0</td>\n",
       "      <td>0</td>\n",
       "      <td>1</td>\n",
       "      <td>0</td>\n",
       "      <td>0</td>\n",
       "      <td>0</td>\n",
       "      <td>0</td>\n",
       "      <td>35</td>\n",
       "    </tr>\n",
       "    <tr>\n",
       "      <th>2666</th>\n",
       "      <td>house</td>\n",
       "      <td>independent</td>\n",
       "      <td>sector 25</td>\n",
       "      <td>7.30</td>\n",
       "      <td>1560.0</td>\n",
       "      <td>46795.0</td>\n",
       "      <td>plot area 215(179.77 sq.m.)built up area: 5800...</td>\n",
       "      <td>9</td>\n",
       "      <td>9</td>\n",
       "      <td>2</td>\n",
       "      <td>...</td>\n",
       "      <td>NaN</td>\n",
       "      <td>5800.0</td>\n",
       "      <td>5200.0</td>\n",
       "      <td>0</td>\n",
       "      <td>1</td>\n",
       "      <td>1</td>\n",
       "      <td>0</td>\n",
       "      <td>0</td>\n",
       "      <td>1</td>\n",
       "      <td>109</td>\n",
       "    </tr>\n",
       "    <tr>\n",
       "      <th>3098</th>\n",
       "      <td>flat</td>\n",
       "      <td>tata gurgaon gateway</td>\n",
       "      <td>sector 113</td>\n",
       "      <td>6.00</td>\n",
       "      <td>9139.0</td>\n",
       "      <td>6565.0</td>\n",
       "      <td>carpet area: 6565 (609.91 sq.m.)</td>\n",
       "      <td>5</td>\n",
       "      <td>6</td>\n",
       "      <td>3+</td>\n",
       "      <td>...</td>\n",
       "      <td>NaN</td>\n",
       "      <td>NaN</td>\n",
       "      <td>6565.0</td>\n",
       "      <td>0</td>\n",
       "      <td>0</td>\n",
       "      <td>0</td>\n",
       "      <td>0</td>\n",
       "      <td>0</td>\n",
       "      <td>0</td>\n",
       "      <td>117</td>\n",
       "    </tr>\n",
       "    <tr>\n",
       "      <th>3261</th>\n",
       "      <td>flat</td>\n",
       "      <td>citizen apartment</td>\n",
       "      <td>sector 51</td>\n",
       "      <td>3.55</td>\n",
       "      <td>6826.0</td>\n",
       "      <td>5201.0</td>\n",
       "      <td>built up area: 5200 (483.1 sq.m.)carpet area: ...</td>\n",
       "      <td>5</td>\n",
       "      <td>6</td>\n",
       "      <td>3+</td>\n",
       "      <td>...</td>\n",
       "      <td>NaN</td>\n",
       "      <td>5200.0</td>\n",
       "      <td>4700.0</td>\n",
       "      <td>1</td>\n",
       "      <td>1</td>\n",
       "      <td>1</td>\n",
       "      <td>1</td>\n",
       "      <td>0</td>\n",
       "      <td>1</td>\n",
       "      <td>157</td>\n",
       "    </tr>\n",
       "    <tr>\n",
       "      <th>3538</th>\n",
       "      <td>flat</td>\n",
       "      <td>central park resorts</td>\n",
       "      <td>sector 48</td>\n",
       "      <td>15.00</td>\n",
       "      <td>22388.0</td>\n",
       "      <td>6700.0</td>\n",
       "      <td>carpet area: 6700 (622.45 sq.m.)</td>\n",
       "      <td>5</td>\n",
       "      <td>6</td>\n",
       "      <td>3+</td>\n",
       "      <td>...</td>\n",
       "      <td>NaN</td>\n",
       "      <td>NaN</td>\n",
       "      <td>6700.0</td>\n",
       "      <td>1</td>\n",
       "      <td>1</td>\n",
       "      <td>0</td>\n",
       "      <td>1</td>\n",
       "      <td>0</td>\n",
       "      <td>2</td>\n",
       "      <td>45</td>\n",
       "    </tr>\n",
       "  </tbody>\n",
       "</table>\n",
       "<p>34 rows × 23 columns</p>\n",
       "</div>"
      ],
      "text/plain": [
       "     property_type                              society      sector  price  \\\n",
       "114          house                          independent   sector 25  10.00   \n",
       "130           flat              adani m2k oyster grande  sector 102   4.55   \n",
       "195           flat                      residency grand   sector 52   5.00   \n",
       "300          house                dlf city plot phase 4   sector 28  13.00   \n",
       "426          house                          independent   sector 26  18.25   \n",
       "442           flat       the penthouses at the hibiscus   sector 50   8.50   \n",
       "499           flat                      beverley park 1   sector 43   8.44   \n",
       "550          house                   emaar mgf marbella   sector 66  19.00   \n",
       "695           flat                          tulip ivory   sector 70   5.00   \n",
       "769           flat                  palam vihar society    sector 2   3.35   \n",
       "818          house                          independent   sector 26  18.40   \n",
       "952           flat                          jmd gardens   sector 33   3.25   \n",
       "1045          flat                          ats triumph  sector 104   4.45   \n",
       "1269         house                          independent   sector 47   5.25   \n",
       "1310         house           unitech palms south city 1   sector 41   9.25   \n",
       "1315         house           unitech palms south city 1   sector 41   9.35   \n",
       "1325         house              ansal sushant lok plots   sector 43  11.50   \n",
       "1375         house                   ansals palam vihar    sector 2   5.70   \n",
       "1417         house  international city by sobha phase 1  sector 109   6.30   \n",
       "1548          flat                vatika sovereign next  sector 82a   3.85   \n",
       "1683         house                          independent   sector 25   8.00   \n",
       "1816          flat                     dlf beverly park   sector 25   8.00   \n",
       "1938         house          independent house sector 45   sector 40   9.00   \n",
       "2088         house                          independent   sector 12   3.50   \n",
       "2131          flat                           godrej air   sector 85   2.50   \n",
       "2342          flat                       m3m golfestate   sector 65  13.20   \n",
       "2362         house  international city by sobha phase 1  sector 109  12.00   \n",
       "2405         house                   emaar mgf marbella   sector 66   9.00   \n",
       "2447          flat              central park 2 bellevue   sector 48   5.00   \n",
       "2491          flat       the penthouses at the hibiscus   sector 50   8.00   \n",
       "2666         house                          independent   sector 25   7.30   \n",
       "3098          flat                 tata gurgaon gateway  sector 113   6.00   \n",
       "3261          flat                    citizen apartment   sector 51   3.55   \n",
       "3538          flat                 central park resorts   sector 48  15.00   \n",
       "\n",
       "      price_per_sqft     area  \\\n",
       "114          37037.0   2700.0   \n",
       "130          10000.0   4550.0   \n",
       "195           7692.0   6500.0   \n",
       "300           1992.0  65261.0   \n",
       "426          18250.0  10000.0   \n",
       "442           8500.0  10000.0   \n",
       "499          16230.0   5200.0   \n",
       "550          31666.0   6000.0   \n",
       "695          10416.0   4800.0   \n",
       "769           7444.0   4500.0   \n",
       "818           1859.0  98978.0   \n",
       "952           7510.0   4328.0   \n",
       "1045          6846.0   6500.0   \n",
       "1269         11666.0   4500.0   \n",
       "1310         28549.0   3240.0   \n",
       "1315         28858.0   3240.0   \n",
       "1325         17692.0   6500.0   \n",
       "1375         14729.0   3870.0   \n",
       "1417          9000.0   7000.0   \n",
       "1548          7500.0   5133.0   \n",
       "1683          8000.0  10000.0   \n",
       "1816         15384.0   5200.0   \n",
       "1938         38022.0   2367.0   \n",
       "2088        133079.0    263.0   \n",
       "2131          1379.0  18129.0   \n",
       "2342         12000.0  11000.0   \n",
       "2362         20000.0   6000.0   \n",
       "2405         21251.0   4235.0   \n",
       "2447         11627.0   4300.0   \n",
       "2491          8888.0   9001.0   \n",
       "2666          1560.0  46795.0   \n",
       "3098          9139.0   6565.0   \n",
       "3261          6826.0   5201.0   \n",
       "3538         22388.0   6700.0   \n",
       "\n",
       "                                           areaWithType  bedRoom  bathroom  \\\n",
       "114   plot area 2700(250.84 sq.m.)built up area: 950...        5         5   \n",
       "130   super built up area 4650(432 sq.m.)built up ar...        4         4   \n",
       "195                     carpet area: 5200 (483.1 sq.m.)        5         7   \n",
       "300                   carpet area: 7250 (6061.92 sq.m.)       10        10   \n",
       "426   plot area 550(51.1 sq.m.)carpet area: 10000 sq...        7         9   \n",
       "442                   carpet area: 10000 (929.03 sq.m.)        4         4   \n",
       "499   super built up area 5200(483.1 sq.m.)built up ...        4         5   \n",
       "550   plot area 9000(836.13 sq.m.)carpet area: 6000 ...        5         6   \n",
       "695                    carpet area: 4800 (445.93 sq.m.)        6         7   \n",
       "769                    carpet area: 4500 (418.06 sq.m.)        4         4   \n",
       "818   plot area 502(419.74 sq.m.)carpet area: 11000 ...        6         8   \n",
       "952                    carpet area: 4328 (402.08 sq.m.)        4         4   \n",
       "1045                   carpet area: 6500 (603.87 sq.m.)        4         5   \n",
       "1269  plot area 1944(180.6 sq.m.)built up area: 4650...        9         9   \n",
       "1310  plot area 3240(301.01 sq.m.)built up area: 500...        9         9   \n",
       "1315  plot area 3240(301.01 sq.m.)built up area: 750...       10        10   \n",
       "1325  plot area 3762(349.5 sq.m.)built up area: 9000...        7         8   \n",
       "1375  plot area 430(359.53 sq.m.)built up area: 4550...        5         5   \n",
       "1417  built up area: 7000 (650.32 sq.m.)carpet area:...        4         5   \n",
       "1548                   carpet area: 5140 (477.52 sq.m.)        5         6   \n",
       "1683                  carpet area: 10000 (929.03 sq.m.)        3         9   \n",
       "1816                    carpet area: 5200 (483.1 sq.m.)        5         5   \n",
       "1938  plot area 2367(219.9 sq.m.)built up area: 9000...       12        12   \n",
       "2088  plot area 263(24.43 sq.m.)built up area: 4800 ...        8         8   \n",
       "2131                 carpet area: 18122 (1683.59 sq.m.)        4         5   \n",
       "2342                 carpet area: 11000 (1021.93 sq.m.)        4         4   \n",
       "2362  plot area 8000(743.22 sq.m.)built up area: 700...        5         6   \n",
       "2405  plot area 5605(520.72 sq.m.)built up area: 520...        4         4   \n",
       "2447                   carpet area: 4300 (399.48 sq.m.)        3         4   \n",
       "2491                   carpet area: 9000 (836.13 sq.m.)        4         3   \n",
       "2666  plot area 215(179.77 sq.m.)built up area: 5800...        9         9   \n",
       "3098                   carpet area: 6565 (609.91 sq.m.)        5         6   \n",
       "3261  built up area: 5200 (483.1 sq.m.)carpet area: ...        5         6   \n",
       "3538                   carpet area: 6700 (622.45 sq.m.)        5         6   \n",
       "\n",
       "     balcony  ...  super_built_up_area built_up_area carpet_area  study room  \\\n",
       "114       3+  ...                  NaN        9500.0      9000.0           0   \n",
       "130       3+  ...               4650.0        4630.0      4550.0           0   \n",
       "195       3+  ...                  NaN           NaN      5200.0           0   \n",
       "300       3+  ...                  NaN           NaN      7250.0           0   \n",
       "426       3+  ...                  NaN           NaN     10000.0           1   \n",
       "442        3  ...                  NaN           NaN     10000.0           0   \n",
       "499        3  ...               5200.0        5000.0      4900.0           0   \n",
       "550       3+  ...                  NaN           NaN      6000.0           0   \n",
       "695       3+  ...                  NaN           NaN      4800.0           1   \n",
       "769       3+  ...                  NaN           NaN      4500.0           1   \n",
       "818       3+  ...                  NaN           NaN     11000.0           0   \n",
       "952       3+  ...                  NaN           NaN      4328.0           0   \n",
       "1045      3+  ...                  NaN           NaN      6500.0           0   \n",
       "1269      3+  ...                  NaN        4650.0      4500.0           0   \n",
       "1310      3+  ...                  NaN        5000.0      4500.0           1   \n",
       "1315      3+  ...                  NaN        7500.0      6000.0           1   \n",
       "1325      3+  ...                  NaN        9000.0      6500.0           0   \n",
       "1375       2  ...                  NaN        4550.0      4450.0           0   \n",
       "1417      3+  ...                  NaN        7000.0      4500.0           0   \n",
       "1548      3+  ...                  NaN           NaN      5140.0           0   \n",
       "1683       2  ...                  NaN           NaN     10000.0           0   \n",
       "1816      3+  ...                  NaN           NaN      5200.0           1   \n",
       "1938       3  ...                  NaN        9000.0      6000.0           0   \n",
       "2088      3+  ...                  NaN        4800.0      4400.0           1   \n",
       "2131      3+  ...                  NaN           NaN     18122.0           1   \n",
       "2342       3  ...                  NaN           NaN     11000.0           0   \n",
       "2362       3  ...                  NaN        7000.0      6000.0           1   \n",
       "2405      3+  ...                  NaN        5200.0      4235.0           0   \n",
       "2447       3  ...                  NaN           NaN      4300.0           0   \n",
       "2491       3  ...                  NaN           NaN      9000.0           0   \n",
       "2666       2  ...                  NaN        5800.0      5200.0           0   \n",
       "3098      3+  ...                  NaN           NaN      6565.0           0   \n",
       "3261      3+  ...                  NaN        5200.0      4700.0           1   \n",
       "3538      3+  ...                  NaN           NaN      6700.0           1   \n",
       "\n",
       "      servant room  store room  pooja room  others  furnishing_type  \\\n",
       "114              1           0           1       0                2   \n",
       "130              0           0           0       0                1   \n",
       "195              1           0           1       0                0   \n",
       "300              0           0           0       0                0   \n",
       "426              1           1           1       0                1   \n",
       "442              1           0           0       0                0   \n",
       "499              1           0           0       0                2   \n",
       "550              1           1           1       0                1   \n",
       "695              1           0           0       0                0   \n",
       "769              0           0           0       0                0   \n",
       "818              1           1           1       0                1   \n",
       "952              1           0           0       0                1   \n",
       "1045             0           0           0       0                0   \n",
       "1269             1           0           0       0                1   \n",
       "1310             1           1           1       0                1   \n",
       "1315             1           0           0       0                1   \n",
       "1325             1           1           1       0                1   \n",
       "1375             0           0           1       0                2   \n",
       "1417             0           0           0       0                1   \n",
       "1548             1           0           1       0                0   \n",
       "1683             0           0           0       0                0   \n",
       "1816             1           0           1       1                2   \n",
       "1938             1           0           0       0                1   \n",
       "2088             1           0           1       0                2   \n",
       "2131             0           0           1       1                1   \n",
       "2342             1           0           0       0                0   \n",
       "2362             1           0           0       0                1   \n",
       "2405             1           1           1       0                1   \n",
       "2447             0           0           0       0                0   \n",
       "2491             1           0           0       0                0   \n",
       "2666             1           1           0       0                1   \n",
       "3098             0           0           0       0                0   \n",
       "3261             1           1           1       0                1   \n",
       "3538             1           0           1       0                2   \n",
       "\n",
       "      luxury_score  \n",
       "114             29  \n",
       "130             60  \n",
       "195             77  \n",
       "300              0  \n",
       "426             77  \n",
       "442             35  \n",
       "499            117  \n",
       "550            110  \n",
       "695            119  \n",
       "769             66  \n",
       "818             60  \n",
       "952            130  \n",
       "1045           110  \n",
       "1269           142  \n",
       "1310            65  \n",
       "1315            70  \n",
       "1325            31  \n",
       "1375            94  \n",
       "1417           122  \n",
       "1548           148  \n",
       "1683             0  \n",
       "1816            26  \n",
       "1938            71  \n",
       "2088            77  \n",
       "2131            44  \n",
       "2342            60  \n",
       "2362           154  \n",
       "2405           114  \n",
       "2447            82  \n",
       "2491            35  \n",
       "2666           109  \n",
       "3098           117  \n",
       "3261           157  \n",
       "3538            45  \n",
       "\n",
       "[34 rows x 23 columns]"
      ]
     },
     "execution_count": 141,
     "metadata": {},
     "output_type": "execute_result"
    }
   ],
   "source": [
    "df[df.carpet_area>4000]"
   ]
  },
  {
   "cell_type": "code",
   "execution_count": 142,
   "id": "26cda7ff-3eb0-450d-856a-492eb4362020",
   "metadata": {},
   "outputs": [
    {
     "data": {
      "text/plain": [
       "<Axes: xlabel='carpet_area'>"
      ]
     },
     "execution_count": 142,
     "metadata": {},
     "output_type": "execute_result"
    },
    {
     "data": {
      "image/png": "[encoded data removed]",
      "text/plain": [
       "<Figure size 500x400 with 1 Axes>"
      ]
     },
     "metadata": {},
     "output_type": "display_data"
    }
   ],
   "source": [
    "sns.boxplot(x = 'carpet_area' , data = df , color = 'lightgreen')"
   ]
  },
  {
   "cell_type": "code",
   "execution_count": 143,
   "id": "10b51075-5848-45b8-93a7-74414c63393e",
   "metadata": {},
   "outputs": [
    {
     "data": {
      "text/html": [
       "<div>\n",
       "<style scoped>\n",
       "    .dataframe tbody tr th:only-of-type {\n",
       "        vertical-align: middle;\n",
       "    }\n",
       "\n",
       "    .dataframe tbody tr th {\n",
       "        vertical-align: top;\n",
       "    }\n",
       "\n",
       "    .dataframe thead th {\n",
       "        text-align: right;\n",
       "    }\n",
       "</style>\n",
       "<table border=\"1\" class=\"dataframe\">\n",
       "  <thead>\n",
       "    <tr style=\"text-align: right;\">\n",
       "      <th></th>\n",
       "      <th>property_type</th>\n",
       "      <th>society</th>\n",
       "      <th>sector</th>\n",
       "      <th>price</th>\n",
       "      <th>price_per_sqft</th>\n",
       "      <th>area</th>\n",
       "      <th>areaWithType</th>\n",
       "      <th>bedRoom</th>\n",
       "      <th>bathroom</th>\n",
       "      <th>balcony</th>\n",
       "      <th>...</th>\n",
       "      <th>super_built_up_area</th>\n",
       "      <th>built_up_area</th>\n",
       "      <th>carpet_area</th>\n",
       "      <th>study room</th>\n",
       "      <th>servant room</th>\n",
       "      <th>store room</th>\n",
       "      <th>pooja room</th>\n",
       "      <th>others</th>\n",
       "      <th>furnishing_type</th>\n",
       "      <th>luxury_score</th>\n",
       "    </tr>\n",
       "  </thead>\n",
       "  <tbody>\n",
       "    <tr>\n",
       "      <th>818</th>\n",
       "      <td>house</td>\n",
       "      <td>independent</td>\n",
       "      <td>sector 26</td>\n",
       "      <td>18.4</td>\n",
       "      <td>1859.0</td>\n",
       "      <td>98978.0</td>\n",
       "      <td>plot area 502(419.74 sq.m.)carpet area: 11000 ...</td>\n",
       "      <td>6</td>\n",
       "      <td>8</td>\n",
       "      <td>3+</td>\n",
       "      <td>...</td>\n",
       "      <td>NaN</td>\n",
       "      <td>NaN</td>\n",
       "      <td>11000.0</td>\n",
       "      <td>0</td>\n",
       "      <td>1</td>\n",
       "      <td>1</td>\n",
       "      <td>1</td>\n",
       "      <td>0</td>\n",
       "      <td>1</td>\n",
       "      <td>60</td>\n",
       "    </tr>\n",
       "    <tr>\n",
       "      <th>2131</th>\n",
       "      <td>flat</td>\n",
       "      <td>godrej air</td>\n",
       "      <td>sector 85</td>\n",
       "      <td>2.5</td>\n",
       "      <td>1379.0</td>\n",
       "      <td>18129.0</td>\n",
       "      <td>carpet area: 18122 (1683.59 sq.m.)</td>\n",
       "      <td>4</td>\n",
       "      <td>5</td>\n",
       "      <td>3+</td>\n",
       "      <td>...</td>\n",
       "      <td>NaN</td>\n",
       "      <td>NaN</td>\n",
       "      <td>18122.0</td>\n",
       "      <td>1</td>\n",
       "      <td>0</td>\n",
       "      <td>0</td>\n",
       "      <td>1</td>\n",
       "      <td>1</td>\n",
       "      <td>1</td>\n",
       "      <td>44</td>\n",
       "    </tr>\n",
       "    <tr>\n",
       "      <th>2342</th>\n",
       "      <td>flat</td>\n",
       "      <td>m3m golfestate</td>\n",
       "      <td>sector 65</td>\n",
       "      <td>13.2</td>\n",
       "      <td>12000.0</td>\n",
       "      <td>11000.0</td>\n",
       "      <td>carpet area: 11000 (1021.93 sq.m.)</td>\n",
       "      <td>4</td>\n",
       "      <td>4</td>\n",
       "      <td>3</td>\n",
       "      <td>...</td>\n",
       "      <td>NaN</td>\n",
       "      <td>NaN</td>\n",
       "      <td>11000.0</td>\n",
       "      <td>0</td>\n",
       "      <td>1</td>\n",
       "      <td>0</td>\n",
       "      <td>0</td>\n",
       "      <td>0</td>\n",
       "      <td>0</td>\n",
       "      <td>60</td>\n",
       "    </tr>\n",
       "  </tbody>\n",
       "</table>\n",
       "<p>3 rows × 23 columns</p>\n",
       "</div>"
      ],
      "text/plain": [
       "     property_type         society     sector  price  price_per_sqft     area  \\\n",
       "818          house     independent  sector 26   18.4          1859.0  98978.0   \n",
       "2131          flat      godrej air  sector 85    2.5          1379.0  18129.0   \n",
       "2342          flat  m3m golfestate  sector 65   13.2         12000.0  11000.0   \n",
       "\n",
       "                                           areaWithType  bedRoom  bathroom  \\\n",
       "818   plot area 502(419.74 sq.m.)carpet area: 11000 ...        6         8   \n",
       "2131                 carpet area: 18122 (1683.59 sq.m.)        4         5   \n",
       "2342                 carpet area: 11000 (1021.93 sq.m.)        4         4   \n",
       "\n",
       "     balcony  ...  super_built_up_area built_up_area carpet_area  study room  \\\n",
       "818       3+  ...                  NaN           NaN     11000.0           0   \n",
       "2131      3+  ...                  NaN           NaN     18122.0           1   \n",
       "2342       3  ...                  NaN           NaN     11000.0           0   \n",
       "\n",
       "      servant room  store room  pooja room  others  furnishing_type  \\\n",
       "818              1           1           1       0                1   \n",
       "2131             0           0           1       1                1   \n",
       "2342             1           0           0       0                0   \n",
       "\n",
       "      luxury_score  \n",
       "818             60  \n",
       "2131            44  \n",
       "2342            60  \n",
       "\n",
       "[3 rows x 23 columns]"
      ]
     },
     "execution_count": 143,
     "metadata": {},
     "output_type": "execute_result"
    }
   ],
   "source": [
    "df[df.carpet_area>10000]"
   ]
  },
  {
   "cell_type": "code",
   "execution_count": 155,
   "id": "68eefed4-5493-4f27-ada4-42df7ec3c157",
   "metadata": {},
   "outputs": [
    {
     "data": {
      "text/html": [
       "<div>\n",
       "<style scoped>\n",
       "    .dataframe tbody tr th:only-of-type {\n",
       "        vertical-align: middle;\n",
       "    }\n",
       "\n",
       "    .dataframe tbody tr th {\n",
       "        vertical-align: top;\n",
       "    }\n",
       "\n",
       "    .dataframe thead th {\n",
       "        text-align: right;\n",
       "    }\n",
       "</style>\n",
       "<table border=\"1\" class=\"dataframe\">\n",
       "  <thead>\n",
       "    <tr style=\"text-align: right;\">\n",
       "      <th></th>\n",
       "      <th>property_type</th>\n",
       "      <th>society</th>\n",
       "      <th>sector</th>\n",
       "      <th>price</th>\n",
       "      <th>price_per_sqft</th>\n",
       "      <th>area</th>\n",
       "      <th>areaWithType</th>\n",
       "      <th>bedRoom</th>\n",
       "      <th>bathroom</th>\n",
       "      <th>balcony</th>\n",
       "      <th>...</th>\n",
       "      <th>super_built_up_area</th>\n",
       "      <th>built_up_area</th>\n",
       "      <th>carpet_area</th>\n",
       "      <th>study room</th>\n",
       "      <th>servant room</th>\n",
       "      <th>store room</th>\n",
       "      <th>pooja room</th>\n",
       "      <th>others</th>\n",
       "      <th>furnishing_type</th>\n",
       "      <th>luxury_score</th>\n",
       "    </tr>\n",
       "  </thead>\n",
       "  <tbody>\n",
       "    <tr>\n",
       "      <th>2770</th>\n",
       "      <td>flat</td>\n",
       "      <td>ss the leaf</td>\n",
       "      <td>sector 85</td>\n",
       "      <td>2.7</td>\n",
       "      <td>7754.0</td>\n",
       "      <td>3482.0</td>\n",
       "      <td>super built up area 3482(323.49 sq.m.)</td>\n",
       "      <td>4</td>\n",
       "      <td>4</td>\n",
       "      <td>3+</td>\n",
       "      <td>...</td>\n",
       "      <td>3482.0</td>\n",
       "      <td>NaN</td>\n",
       "      <td>NaN</td>\n",
       "      <td>0</td>\n",
       "      <td>0</td>\n",
       "      <td>0</td>\n",
       "      <td>0</td>\n",
       "      <td>0</td>\n",
       "      <td>0</td>\n",
       "      <td>21</td>\n",
       "    </tr>\n",
       "  </tbody>\n",
       "</table>\n",
       "<p>1 rows × 23 columns</p>\n",
       "</div>"
      ],
      "text/plain": [
       "     property_type      society     sector  price  price_per_sqft    area  \\\n",
       "2770          flat  ss the leaf  sector 85    2.7          7754.0  3482.0   \n",
       "\n",
       "                                areaWithType  bedRoom  bathroom balcony  ...  \\\n",
       "2770  super built up area 3482(323.49 sq.m.)        4         4      3+  ...   \n",
       "\n",
       "      super_built_up_area built_up_area carpet_area  study room  servant room  \\\n",
       "2770               3482.0           NaN         NaN           0             0   \n",
       "\n",
       "      store room  pooja room  others  furnishing_type  luxury_score  \n",
       "2770           0           0       0                0            21  \n",
       "\n",
       "[1 rows x 23 columns]"
      ]
     },
     "execution_count": 155,
     "metadata": {},
     "output_type": "execute_result"
    }
   ],
   "source": [
    "df[(df.price == df[df.sector == 'sector 85']['price'].max()) & (df.sector == 'sector 85')]"
   ]
  },
  {
   "cell_type": "code",
   "execution_count": 157,
   "id": "bad0b824-16ca-4f74-8680-8e5c6b81a727",
   "metadata": {},
   "outputs": [],
   "source": [
    "df = df.drop([2131])"
   ]
  },
  {
   "cell_type": "code",
   "execution_count": 158,
   "id": "013c8a5b-d410-4276-bc97-ee2dbc40d1fd",
   "metadata": {},
   "outputs": [
    {
     "data": {
      "text/plain": [
       "count     1859.000000\n",
       "mean      1424.059263\n",
       "std        997.150488\n",
       "min         15.000000\n",
       "25%        832.480000\n",
       "50%       1295.000000\n",
       "75%       1760.000000\n",
       "max      11000.000000\n",
       "Name: carpet_area, dtype: float64"
      ]
     },
     "execution_count": 158,
     "metadata": {},
     "output_type": "execute_result"
    }
   ],
   "source": [
    "df.carpet_area.describe()"
   ]
  },
  {
   "cell_type": "code",
   "execution_count": 159,
   "id": "fa293f1f-411d-4a01-afa0-4b82f562070f",
   "metadata": {},
   "outputs": [
    {
     "name": "stderr",
     "output_type": "stream",
     "text": [
      "C:\\Users\\vinay\\anaconda3\\Lib\\site-packages\\seaborn\\_oldcore.py:1119: FutureWarning: use_inf_as_na option is deprecated and will be removed in a future version. Convert inf values to NaN before operating instead.\n",
      "  with pd.option_context('mode.use_inf_as_na', True):\n"
     ]
    },
    {
     "data": {
      "text/plain": [
       "<Axes: xlabel='carpet_area', ylabel='Count'>"
      ]
     },
     "execution_count": 159,
     "metadata": {},
     "output_type": "execute_result"
    },
    {
     "data": {
      "image/png": "[encoded data removed]",
      "text/plain": [
       "<Figure size 500x400 with 1 Axes>"
      ]
     },
     "metadata": {},
     "output_type": "display_data"
    }
   ],
   "source": [
    "sns.histplot(x = 'carpet_area' , data = df , bins = 50 , color ='lightgreen')"
   ]
  },
  {
   "cell_type": "code",
   "execution_count": 160,
   "id": "c69a6b98-910e-4cbb-841b-acdfb0571b43",
   "metadata": {},
   "outputs": [
    {
     "data": {
      "text/plain": [
       "<Axes: xlabel='carpet_area'>"
      ]
     },
     "execution_count": 160,
     "metadata": {},
     "output_type": "execute_result"
    },
    {
     "data": {
      "image/png": "[encoded data removed]",
      "text/plain": [
       "<Figure size 500x400 with 1 Axes>"
      ]
     },
     "metadata": {},
     "output_type": "display_data"
    }
   ],
   "source": [
    "sns.boxplot(x = 'carpet_area' , data = df , color = 'lightgreen')"
   ]
  },
  {
   "cell_type": "code",
   "execution_count": 173,
   "id": "8e6d7efd-438e-47ae-9a91-3f09a923c09c",
   "metadata": {},
   "outputs": [],
   "source": [
    "colors=['#ff9999', '#66b3ff', '#99ff99', '#ffcc99']"
   ]
  },
  {
   "cell_type": "code",
   "execution_count": 171,
   "id": "d9f1a6b8-c661-49c2-a643-6063c110c976",
   "metadata": {},
   "outputs": [
    {
     "data": {
      "image/png": "[encoded data removed]",
      "text/plain": [
       "<Figure size 2000x1200 with 5 Axes>"
      ]
     },
     "metadata": {},
     "output_type": "display_data"
    }
   ],
   "source": [
    "plt.figure(figsize=(20, 12))\n",
    "\n",
    "for idx, room in enumerate(['study room','servant room','store room','pooja room','others'], 1):\n",
    "    ax = plt.subplot(2 , 3 , idx)\n",
    "    df[room].value_counts().plot(kind = 'pie' , autopct = '%1.1f%%',ax = ax,colors=['#ff9999', '#66b3ff', '#99ff99', '#ffcc99']\n",
    "                                )\n",
    "    plt.title(f'Distribution of {room.title()}')\n",
    "\n",
    "plt.tight_layout()\n",
    "plt.show()"
   ]
  },
  {
   "cell_type": "code",
   "execution_count": 172,
   "id": "7872c6cb-6214-4286-91df-aa883ccda383",
   "metadata": {},
   "outputs": [
    {
     "data": {
      "text/plain": [
       "furnishing_type\n",
       "0    2398\n",
       "1    1058\n",
       "2     206\n",
       "Name: count, dtype: int64"
      ]
     },
     "execution_count": 172,
     "metadata": {},
     "output_type": "execute_result"
    }
   ],
   "source": [
    "df['furnishing_type'].value_counts()"
   ]
  },
  {
   "cell_type": "code",
   "execution_count": 174,
   "id": "601a6841-769c-4e35-9d26-7b575ad26929",
   "metadata": {},
   "outputs": [
    {
     "data": {
      "text/plain": [
       "<Axes: ylabel='count'>"
      ]
     },
     "execution_count": 174,
     "metadata": {},
     "output_type": "execute_result"
    },
    {
     "data": {
      "image/png": "[encoded data removed]",
      "text/plain": [
       "<Figure size 500x400 with 1 Axes>"
      ]
     },
     "metadata": {},
     "output_type": "display_data"
    }
   ],
   "source": [
    "df['furnishing_type'].value_counts().plot(kind='pie',autopct='%0.2f%%',colors = colors)"
   ]
  },
  {
   "cell_type": "code",
   "execution_count": 175,
   "id": "d5da0923-2542-4eac-9250-51d59858c6fb",
   "metadata": {},
   "outputs": [
    {
     "data": {
      "text/plain": [
       "0"
      ]
     },
     "execution_count": 175,
     "metadata": {},
     "output_type": "execute_result"
    }
   ],
   "source": [
    "df['luxury_score'].isnull().sum()"
   ]
  },
  {
   "cell_type": "code",
   "execution_count": 176,
   "id": "868d6f45-31cb-4f8d-8232-3504f88f264c",
   "metadata": {},
   "outputs": [
    {
     "data": {
      "text/plain": [
       "count    3662.000000\n",
       "mean       71.632714\n",
       "std        53.119011\n",
       "min         0.000000\n",
       "25%        31.000000\n",
       "50%        59.000000\n",
       "75%       110.000000\n",
       "max       174.000000\n",
       "Name: luxury_score, dtype: float64"
      ]
     },
     "execution_count": 176,
     "metadata": {},
     "output_type": "execute_result"
    }
   ],
   "source": [
    "df['luxury_score'].describe()"
   ]
  },
  {
   "cell_type": "code",
   "execution_count": 177,
   "id": "9fb8994e-1b6e-4192-b905-06257889ed6a",
   "metadata": {},
   "outputs": [
    {
     "name": "stderr",
     "output_type": "stream",
     "text": [
      "C:\\Users\\vinay\\anaconda3\\Lib\\site-packages\\seaborn\\_oldcore.py:1119: FutureWarning: use_inf_as_na option is deprecated and will be removed in a future version. Convert inf values to NaN before operating instead.\n",
      "  with pd.option_context('mode.use_inf_as_na', True):\n"
     ]
    },
    {
     "data": {
      "text/plain": [
       "<Axes: xlabel='luxury_score', ylabel='Count'>"
      ]
     },
     "execution_count": 177,
     "metadata": {},
     "output_type": "execute_result"
    },
    {
     "data": {
      "image/png": "[encoded data removed]",
      "text/plain": [
       "<Figure size 500x400 with 1 Axes>"
      ]
     },
     "metadata": {},
     "output_type": "display_data"
    }
   ],
   "source": [
    "sns.histplot(df['luxury_score'], bins=50, color='skyblue', kde=True)"
   ]
  },
  {
   "cell_type": "code",
   "execution_count": 179,
   "id": "94038983-7570-4b2f-9e2c-a52efd55dc26",
   "metadata": {},
   "outputs": [
    {
     "data": {
      "text/plain": [
       "<Axes: >"
      ]
     },
     "execution_count": 179,
     "metadata": {},
     "output_type": "execute_result"
    },
    {
     "data": {
      "image/png": "[encoded data removed]",
      "text/plain": [
       "<Figure size 500x400 with 1 Axes>"
      ]
     },
     "metadata": {},
     "output_type": "display_data"
    }
   ],
   "source": [
    "sns.boxplot(df['luxury_score'], color='lightgreen',orient = 'h')"
   ]
  },
  {
   "cell_type": "code",
   "execution_count": null,
   "id": "28f863b2-38f7-4937-9739-355b49ffae94",
   "metadata": {},
   "outputs": [],
   "source": []
  }
 ],
 "metadata": {
  "kernelspec": {
   "display_name": "Python 3 (ipykernel)",
   "language": "python",
   "name": "python3"
  },
  "language_info": {
   "codemirror_mode": {
    "name": "ipython",
    "version": 3
   },
   "file_extension": ".py",
   "mimetype": "text/x-python",
   "name": "python",
   "nbconvert_exporter": "python",
   "pygments_lexer": "ipython3",
   "version": "3.11.7"
  }
 },
 "nbformat": 4,
 "nbformat_minor": 5
}
